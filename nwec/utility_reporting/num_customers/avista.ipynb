{
 "cells": [
  {
   "cell_type": "code",
   "execution_count": null,
   "metadata": {},
   "outputs": [],
   "source": [
    "import polars as pl\n",
    "\n",
    "import nwec.utility_reporting.arrearages\n",
    "import nwec.utils.excel\n",
    "from nwec.constants import RAW_UTILITY_DATA\n",
    "\n",
    "YEAR = 2024\n",
    "NUM_MONTHS = 12\n",
    "COLS_PER_MONTH = 4\n",
    "SHEET_SEARCH_STRING = \"past due balances\"\n",
    "ARREARAGE_SEARCH_STRING = \"past-due balances by customer class\"\n",
    "KLI_SEARCH_STRING = \"past-due balances for known low-income household\"\n",
    "spreadsheet = RAW_UTILITY_DATA / str(YEAR) / \"avista.xlsx\""
   ]
  },
  {
   "cell_type": "code",
   "execution_count": null,
   "metadata": {},
   "outputs": [],
   "source": [
    "sheet_index = nwec.utils.excel.get_sheet_index_from_name(spreadsheet, SHEET_SEARCH_STRING)\n",
    "df = pl.read_excel(spreadsheet, sheet_id=sheet_index, has_header=False)\n",
    "arrearages = nwec.utility_reporting.arrearages.get_arrearages_df(\n",
    "    df, NUM_MONTHS, COLS_PER_MONTH, ARREARAGE_SEARCH_STRING\n",
    ")\n",
    "kli_arrearages = nwec.utility_reporting.arrearages.get_arrearages_df(df, NUM_MONTHS, COLS_PER_MONTH, KLI_SEARCH_STRING)"
   ]
  },
  {
   "cell_type": "markdown",
   "metadata": {},
   "source": [
    "# Number of Arrearages"
   ]
  },
  {
   "cell_type": "code",
   "execution_count": null,
   "metadata": {},
   "outputs": [],
   "source": [
    "_, start_index = nwec.utils.excel.find_unpromoted_header(df, \"number of customers\")\n",
    "num_arrearages = df.select(df.columns[start_index : start_index + NUM_MONTHS * COLS_PER_MONTH])\n",
    "num_arrearages = nwec.utility_reporting.arrearages.normalize_zip_class_cols(df, num_arrearages)"
   ]
  },
  {
   "cell_type": "code",
   "execution_count": null,
   "metadata": {},
   "outputs": [],
   "source": []
  }
 ],
 "metadata": {
  "language_info": {
   "name": "python"
  }
 },
 "nbformat": 4,
 "nbformat_minor": 2
}
