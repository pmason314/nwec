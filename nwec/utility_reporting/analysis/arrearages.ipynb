{
 "cells": [
  {
   "cell_type": "code",
   "execution_count": 1,
   "metadata": {},
   "outputs": [],
   "source": [
    "import functools\n",
    "import json\n",
    "from urllib.request import urlopen\n",
    "\n",
    "import matplotlib.pyplot as plt\n",
    "import plotly.express as px\n",
    "import polars as pl\n",
    "import seaborn as sns\n",
    "\n",
    "from nwec.constants import CLEAN_UTILITY_DATA"
   ]
  },
  {
   "cell_type": "code",
   "execution_count": 2,
   "metadata": {},
   "outputs": [],
   "source": [
    "utilities = [\"avista\", \"cng\", \"nwng\", \"pac\", \"pse\"]\n",
    "empty_df = pl.read_ipc(CLEAN_UTILITY_DATA / f\"{utilities[0]}.arrow\").filter(pl.lit(False))\n",
    "combined_arrearages = functools.reduce(\n",
    "    lambda x, y: pl.concat([x, pl.read_ipc(CLEAN_UTILITY_DATA / f\"{y}.arrow\")]), utilities, empty_df\n",
    ")\n",
    "combined_arrearages.write_ipc(CLEAN_UTILITY_DATA / \"combined_arrearages.arrow\")"
   ]
  },
  {
   "cell_type": "code",
   "execution_count": 3,
   "metadata": {},
   "outputs": [],
   "source": [
    "df = pl.read_ipc(CLEAN_UTILITY_DATA / \"combined_arrearages.arrow\")"
   ]
  },
  {
   "cell_type": "code",
   "execution_count": null,
   "metadata": {},
   "outputs": [],
   "source": [
    "data = df.filter(pl.col(\"Customer Class\") == \"Residential\")\n",
    "\n",
    "# Create the bar chart\n",
    "plt.figure(figsize=(10, 6))\n",
    "sns.barplot(x=\"Month\", y=\"Amount\", hue=\"Utility\", data=data, errorbar=None)\n",
    "\n",
    "# Customize the plot\n",
    "plt.title(\"Arrearage Amounts by Month\")\n",
    "plt.xlabel(\"Month\")\n",
    "plt.ylabel(\"Arrearage Amount\")\n",
    "plt.xticks(rotation=45)  # Rotate month labels\n",
    "\n",
    "# Show the plot\n",
    "plt.show()"
   ]
  },
  {
   "cell_type": "code",
   "execution_count": null,
   "metadata": {},
   "outputs": [],
   "source": [
    "df.group_by(\"Zip Code\", \"Vintage\", \"Month\").agg(pl.sum(\"Amount\"))"
   ]
  },
  {
   "cell_type": "code",
   "execution_count": null,
   "metadata": {},
   "outputs": [],
   "source": [
    "data = df.filter(pl.col(\"Customer Class\") == \"Residential\")\n",
    "data = data.group_by(\"Zip Code\", \"Vintage\", \"Month\").agg(pl.sum(\"Amount\"))\n",
    "\n",
    "# Create the bar chart\n",
    "plt.figure(figsize=(10, 6))\n",
    "sns.barplot(x=\"Month\", y=\"Amount\", hue=\"Vintage\", data=data, errorbar=None)\n",
    "\n",
    "# Customize the plot\n",
    "plt.title(\"Arrearage Amounts by Month\")\n",
    "plt.xlabel(\"Month\")\n",
    "plt.ylabel(\"Arrearage Amount\")\n",
    "plt.xticks(rotation=45)  # Rotate month labels for better readability\n",
    "\n",
    "# Show the plot\n",
    "plt.show()"
   ]
  },
  {
   "cell_type": "code",
   "execution_count": 5,
   "metadata": {},
   "outputs": [],
   "source": [
    "with urlopen(\n",
    "    \"https://raw.githubusercontent.com/OpenDataDE/State-zip-code-GeoJSON/refs/heads/master/wa_washington_zip_codes_geo.min.json\"\n",
    ") as response:\n",
    "    zip_codes = json.load(response)"
   ]
  },
  {
   "cell_type": "code",
   "execution_count": null,
   "metadata": {},
   "outputs": [],
   "source": [
    "data = (\n",
    "    df.filter(pl.col(\"Customer Class\") == \"Residential\")\n",
    "    .filter(pl.col(\"Utility\") == \"PSE\")\n",
    "    .filter(pl.col(\"Vintage\") == 90)\n",
    ")\n",
    "data_pd = data.to_pandas()\n",
    "\n",
    "min_lon, min_lat, max_lon, max_lat = 1000, 1000, -1000, -1000\n",
    "\n",
    "for c in zip_codes[\"features\"]:\n",
    "    for i in c[\"geometry\"][\"coordinates\"][0]:\n",
    "        if isinstance(i[0], float) and isinstance(\n",
    "            i[1], float\n",
    "        ):  # and abs(i[0] - max_lon) < 15 and abs(i[1]-max_lat) < 15:\n",
    "            min_lon = min(min_lon, i[0])\n",
    "            max_lon = max(max_lon, i[0])\n",
    "            min_lat = min(min_lat, i[1])\n",
    "            max_lat = max(max_lat, i[1])\n",
    "center_lon = (min_lon + max_lon) / 2.0\n",
    "center_lat = (min_lat + max_lat) / 2.0\n",
    "\n",
    "fig = px.choropleth(\n",
    "    data_pd,\n",
    "    geojson=zip_codes,\n",
    "    locations=\"Zip Code\",\n",
    "    featureidkey=\"properties.ZCTA5CE10\",\n",
    "    color=\"Amount\",\n",
    "    hover_name=\"Zip Code\",\n",
    "    color_continuous_scale=\"Viridis\",\n",
    "    scope=\"usa\",\n",
    ")\n",
    "\n",
    "fig.update_geos(\n",
    "    visible=True,\n",
    "    center_lon=center_lon,\n",
    "    center_lat=center_lat,\n",
    "    lataxis_range=[min_lat, max_lat],\n",
    "    lonaxis_range=[min_lon, max_lon],\n",
    ")\n",
    "\n",
    "fig.show()"
   ]
  }
 ],
 "metadata": {
  "kernelspec": {
   "display_name": ".venv",
   "language": "python",
   "name": "python3"
  },
  "language_info": {
   "codemirror_mode": {
    "name": "ipython",
    "version": 3
   },
   "file_extension": ".py",
   "mimetype": "text/x-python",
   "name": "python",
   "nbconvert_exporter": "python",
   "pygments_lexer": "ipython3",
   "version": "3.12.6"
  }
 },
 "nbformat": 4,
 "nbformat_minor": 2
}
