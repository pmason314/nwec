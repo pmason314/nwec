{
 "cells": [
  {
   "cell_type": "code",
   "execution_count": 1,
   "metadata": {},
   "outputs": [],
   "source": [
    "import functools\n",
    "\n",
    "import polars as pl\n",
    "\n",
    "from nwec.constants import CLEAN_UTILITY_DATA"
   ]
  },
  {
   "cell_type": "code",
   "execution_count": 2,
   "metadata": {},
   "outputs": [],
   "source": [
    "utilities = [\"avista\", \"cng\", \"nwng\", \"pac\", \"pse\"]\n",
    "empty_df = pl.read_ipc(CLEAN_UTILITY_DATA / f\"{utilities[0]}.arrow\").filter(pl.lit(False))\n",
    "combined_arrearages = functools.reduce(\n",
    "    lambda x, y: pl.concat([x, pl.read_ipc(CLEAN_UTILITY_DATA / f\"{y}.arrow\")]), utilities, empty_df\n",
    ")\n",
    "combined_arrearages.write_ipc(CLEAN_UTILITY_DATA / \"combined_arrearages.arrow\")"
   ]
  },
  {
   "cell_type": "code",
   "execution_count": 3,
   "metadata": {},
   "outputs": [],
   "source": [
    "df = pl.read_ipc(CLEAN_UTILITY_DATA / \"combined_arrearages.arrow\")"
   ]
  },
  {
   "cell_type": "code",
   "execution_count": 4,
   "metadata": {},
   "outputs": [
    {
     "data": {
      "text/html": [
       "<div><style>\n",
       ".dataframe > thead > tr,\n",
       ".dataframe > tbody > tr {\n",
       "  text-align: right;\n",
       "  white-space: pre-wrap;\n",
       "}\n",
       "</style>\n",
       "<small>shape: (15_345, 7)</small><table border=\"1\" class=\"dataframe\"><thead><tr><th>Zip Code</th><th>Month</th><th>Year</th><th>Vintage</th><th>Amount</th><th>Utility</th><th>Customer Class</th></tr><tr><td>i32</td><td>i32</td><td>i32</td><td>i32</td><td>f64</td><td>str</td><td>str</td></tr></thead><tbody><tr><td>98620</td><td>1</td><td>2024</td><td>30</td><td>3867.35</td><td>&quot;Avista&quot;</td><td>&quot;Residential&quot;</td></tr><tr><td>98648</td><td>1</td><td>2024</td><td>30</td><td>794.86</td><td>&quot;Avista&quot;</td><td>&quot;Residential&quot;</td></tr><tr><td>98857</td><td>1</td><td>2024</td><td>30</td><td>361.4</td><td>&quot;Avista&quot;</td><td>&quot;Residential&quot;</td></tr><tr><td>99001</td><td>1</td><td>2024</td><td>30</td><td>11043.49</td><td>&quot;Avista&quot;</td><td>&quot;Residential&quot;</td></tr><tr><td>99003</td><td>1</td><td>2024</td><td>30</td><td>9072.52</td><td>&quot;Avista&quot;</td><td>&quot;Residential&quot;</td></tr><tr><td>&hellip;</td><td>&hellip;</td><td>&hellip;</td><td>&hellip;</td><td>&hellip;</td><td>&hellip;</td><td>&hellip;</td></tr><tr><td>98940</td><td>6</td><td>2024</td><td>90</td><td>12733.06</td><td>&quot;PSE&quot;</td><td>&quot;KLI&quot;</td></tr><tr><td>98941</td><td>6</td><td>2024</td><td>90</td><td>16954.14</td><td>&quot;PSE&quot;</td><td>&quot;KLI&quot;</td></tr><tr><td>98943</td><td>6</td><td>2024</td><td>90</td><td>10709.74</td><td>&quot;PSE&quot;</td><td>&quot;KLI&quot;</td></tr><tr><td>98946</td><td>6</td><td>2024</td><td>90</td><td>6126.06</td><td>&quot;PSE&quot;</td><td>&quot;KLI&quot;</td></tr><tr><td>null</td><td>6</td><td>2024</td><td>90</td><td>1547.64</td><td>&quot;PSE&quot;</td><td>&quot;KLI&quot;</td></tr></tbody></table></div>"
      ],
      "text/plain": [
       "shape: (15_345, 7)\n",
       "┌──────────┬───────┬──────┬─────────┬──────────┬─────────┬────────────────┐\n",
       "│ Zip Code ┆ Month ┆ Year ┆ Vintage ┆ Amount   ┆ Utility ┆ Customer Class │\n",
       "│ ---      ┆ ---   ┆ ---  ┆ ---     ┆ ---      ┆ ---     ┆ ---            │\n",
       "│ i32      ┆ i32   ┆ i32  ┆ i32     ┆ f64      ┆ str     ┆ str            │\n",
       "╞══════════╪═══════╪══════╪═════════╪══════════╪═════════╪════════════════╡\n",
       "│ 98620    ┆ 1     ┆ 2024 ┆ 30      ┆ 3867.35  ┆ Avista  ┆ Residential    │\n",
       "│ 98648    ┆ 1     ┆ 2024 ┆ 30      ┆ 794.86   ┆ Avista  ┆ Residential    │\n",
       "│ 98857    ┆ 1     ┆ 2024 ┆ 30      ┆ 361.4    ┆ Avista  ┆ Residential    │\n",
       "│ 99001    ┆ 1     ┆ 2024 ┆ 30      ┆ 11043.49 ┆ Avista  ┆ Residential    │\n",
       "│ 99003    ┆ 1     ┆ 2024 ┆ 30      ┆ 9072.52  ┆ Avista  ┆ Residential    │\n",
       "│ …        ┆ …     ┆ …    ┆ …       ┆ …        ┆ …       ┆ …              │\n",
       "│ 98940    ┆ 6     ┆ 2024 ┆ 90      ┆ 12733.06 ┆ PSE     ┆ KLI            │\n",
       "│ 98941    ┆ 6     ┆ 2024 ┆ 90      ┆ 16954.14 ┆ PSE     ┆ KLI            │\n",
       "│ 98943    ┆ 6     ┆ 2024 ┆ 90      ┆ 10709.74 ┆ PSE     ┆ KLI            │\n",
       "│ 98946    ┆ 6     ┆ 2024 ┆ 90      ┆ 6126.06  ┆ PSE     ┆ KLI            │\n",
       "│ null     ┆ 6     ┆ 2024 ┆ 90      ┆ 1547.64  ┆ PSE     ┆ KLI            │\n",
       "└──────────┴───────┴──────┴─────────┴──────────┴─────────┴────────────────┘"
      ]
     },
     "execution_count": 4,
     "metadata": {},
     "output_type": "execute_result"
    }
   ],
   "source": [
    "df"
   ]
  }
 ],
 "metadata": {
  "kernelspec": {
   "display_name": ".venv",
   "language": "python",
   "name": "python3"
  },
  "language_info": {
   "codemirror_mode": {
    "name": "ipython",
    "version": 3
   },
   "file_extension": ".py",
   "mimetype": "text/x-python",
   "name": "python",
   "nbconvert_exporter": "python",
   "pygments_lexer": "ipython3",
   "version": "3.12.6"
  }
 },
 "nbformat": 4,
 "nbformat_minor": 2
}
