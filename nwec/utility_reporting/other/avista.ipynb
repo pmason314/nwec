{
 "cells": [
  {
   "cell_type": "code",
   "execution_count": null,
   "metadata": {},
   "outputs": [],
   "source": [
    "import datetime\n",
    "\n",
    "import polars as pl\n",
    "\n",
    "from nwec.constants import DATA\n",
    "\n",
    "YEAR = 2023"
   ]
  },
  {
   "cell_type": "markdown",
   "metadata": {},
   "source": [
    "# Number of Disconnections"
   ]
  },
  {
   "cell_type": "code",
   "execution_count": null,
   "metadata": {},
   "outputs": [],
   "source": [
    "df = pl.read_excel(f\"{DATA}/utility_reporting/avista/avista_{YEAR}.xlsx\", sheet_id=2, has_header=False)"
   ]
  },
  {
   "cell_type": "code",
   "execution_count": null,
   "metadata": {},
   "outputs": [],
   "source": [
    "disconnects = df.select([df.columns[0]] + df.columns[2:15]).slice(1)\n",
    "# Drop null columns and cast all columns to strings\n",
    "null_columns = [col for col in disconnects.columns if disconnects[col][0] is None]\n",
    "disconnects = disconnects.drop(null_columns)\n",
    "disconnects = disconnects.with_columns([pl.col(col).cast(pl.Utf8) for col in disconnects.columns])\n",
    "# Rename columns with proper headers\n",
    "disconnects = disconnects.rename(disconnects.head(1).to_dicts()[0])\n",
    "disconnects = disconnects.filter(pl.col(\"Zip Code\").str.contains(\"Residential Total\"))\n",
    "disconnects = disconnects.with_columns([pl.col(col).cast(pl.Int32, strict=False) for col in disconnects.columns[2:]])\n",
    "disconnects = disconnects.fill_null(0)"
   ]
  },
  {
   "cell_type": "code",
   "execution_count": null,
   "metadata": {},
   "outputs": [
    {
     "data": {
      "text/html": [
       "<div><style>\n",
       ".dataframe > thead > tr,\n",
       ".dataframe > tbody > tr {\n",
       "  text-align: right;\n",
       "  white-space: pre-wrap;\n",
       "}\n",
       "</style>\n",
       "<small>shape: (1, 13)</small><table border=\"1\" class=\"dataframe\"><thead><tr><th>Zip Code</th><th>2023-01-01 00:00:00</th><th>2023-02-01 00:00:00</th><th>2023-03-01 00:00:00</th><th>2023-04-01 00:00:00</th><th>2023-05-01 00:00:00</th><th>2023-06-01 00:00:00</th><th>2023-07-01 00:00:00</th><th>2023-08-01 00:00:00</th><th>2023-09-01 00:00:00</th><th>2023-10-01 00:00:00</th><th>2023-11-01 00:00:00</th><th>2023-12-01 00:00:00</th></tr><tr><td>str</td><td>str</td><td>i32</td><td>i32</td><td>i32</td><td>i32</td><td>i32</td><td>i32</td><td>i32</td><td>i32</td><td>i32</td><td>i32</td><td>i32</td></tr></thead><tbody><tr><td>&quot;Residential Totals&quot;</td><td>&quot;583&quot;</td><td>806</td><td>1079</td><td>988</td><td>910</td><td>829</td><td>811</td><td>745</td><td>874</td><td>728</td><td>189</td><td>975</td></tr></tbody></table></div>"
      ],
      "text/plain": [
       "shape: (1, 13)\n",
       "┌───────────┬───────────┬───────────┬───────────┬───┬───────────┬───────────┬───────────┬──────────┐\n",
       "│ Zip Code  ┆ 2023-01-0 ┆ 2023-02-0 ┆ 2023-03-0 ┆ … ┆ 2023-09-0 ┆ 2023-10-0 ┆ 2023-11-0 ┆ 2023-12- │\n",
       "│ ---       ┆ 1         ┆ 1         ┆ 1         ┆   ┆ 1         ┆ 1         ┆ 1         ┆ 01       │\n",
       "│ str       ┆ 00:00:00  ┆ 00:00:00  ┆ 00:00:00  ┆   ┆ 00:00:00  ┆ 00:00:00  ┆ 00:00:00  ┆ 00:00:00 │\n",
       "│           ┆ ---       ┆ ---       ┆ ---       ┆   ┆ ---       ┆ ---       ┆ ---       ┆ ---      │\n",
       "│           ┆ str       ┆ i32       ┆ i32       ┆   ┆ i32       ┆ i32       ┆ i32       ┆ i32      │\n",
       "╞═══════════╪═══════════╪═══════════╪═══════════╪═══╪═══════════╪═══════════╪═══════════╪══════════╡\n",
       "│ Residenti ┆ 583       ┆ 806       ┆ 1079      ┆ … ┆ 874       ┆ 728       ┆ 189       ┆ 975      │\n",
       "│ al Totals ┆           ┆           ┆           ┆   ┆           ┆           ┆           ┆          │\n",
       "└───────────┴───────────┴───────────┴───────────┴───┴───────────┴───────────┴───────────┴──────────┘"
      ]
     },
     "metadata": {},
     "output_type": "display_data"
    }
   ],
   "source": [
    "disconnects"
   ]
  },
  {
   "cell_type": "markdown",
   "metadata": {},
   "source": [
    "# Disconnection Notices"
   ]
  },
  {
   "cell_type": "code",
   "execution_count": null,
   "metadata": {},
   "outputs": [],
   "source": [
    "disconnect_notices = df.select([df.columns[0]] + df.columns[41:53]).slice(1)\n",
    "# Drop null columns and cast all columns to strings\n",
    "null_columns = [col for col in disconnect_notices.columns if disconnect_notices[col][0] is None]\n",
    "disconnect_notices = disconnect_notices.drop(null_columns)\n",
    "disconnect_notices = disconnect_notices.with_columns([pl.col(col).cast(pl.Utf8) for col in disconnect_notices.columns])\n",
    "# Rename columns with proper headers\n",
    "disconnect_notices = disconnect_notices.rename(disconnect_notices.head(1).to_dicts()[0])\n",
    "disconnect_notices = disconnect_notices.filter(pl.col(\"Zip Code\").str.contains(\"Residential Total\"))\n",
    "disconnect_notices = disconnect_notices.with_columns(\n",
    "    [pl.col(col).cast(pl.Int32, strict=False) for col in disconnect_notices.columns[1:]]\n",
    ")\n",
    "disconnect_notices = disconnect_notices.fill_null(0)"
   ]
  },
  {
   "cell_type": "code",
   "execution_count": null,
   "metadata": {},
   "outputs": [
    {
     "data": {
      "text/html": [
       "<div><style>\n",
       ".dataframe > thead > tr,\n",
       ".dataframe > tbody > tr {\n",
       "  text-align: right;\n",
       "  white-space: pre-wrap;\n",
       "}\n",
       "</style>\n",
       "<small>shape: (1, 13)</small><table border=\"1\" class=\"dataframe\"><thead><tr><th>Zip Code</th><th>2023-01-01 00:00:00</th><th>2023-02-01 00:00:00</th><th>2023-03-01 00:00:00</th><th>2023-04-01 00:00:00</th><th>2023-05-01 00:00:00</th><th>2023-06-01 00:00:00</th><th>2023-07-01 00:00:00</th><th>2023-08-01 00:00:00</th><th>2023-09-01 00:00:00</th><th>2023-10-01 00:00:00</th><th>2023-11-01 00:00:00</th><th>2023-12-01 00:00:00</th></tr><tr><td>str</td><td>i32</td><td>i32</td><td>i32</td><td>i32</td><td>i32</td><td>i32</td><td>i32</td><td>i32</td><td>i32</td><td>i32</td><td>i32</td><td>i32</td></tr></thead><tbody><tr><td>&quot;Residential Totals&quot;</td><td>6156</td><td>7039</td><td>8076</td><td>6259</td><td>5657</td><td>4585</td><td>3833</td><td>4638</td><td>4519</td><td>2999</td><td>4726</td><td>5373</td></tr></tbody></table></div>"
      ],
      "text/plain": [
       "shape: (1, 13)\n",
       "┌───────────┬───────────┬───────────┬───────────┬───┬───────────┬───────────┬───────────┬──────────┐\n",
       "│ Zip Code  ┆ 2023-01-0 ┆ 2023-02-0 ┆ 2023-03-0 ┆ … ┆ 2023-09-0 ┆ 2023-10-0 ┆ 2023-11-0 ┆ 2023-12- │\n",
       "│ ---       ┆ 1         ┆ 1         ┆ 1         ┆   ┆ 1         ┆ 1         ┆ 1         ┆ 01       │\n",
       "│ str       ┆ 00:00:00  ┆ 00:00:00  ┆ 00:00:00  ┆   ┆ 00:00:00  ┆ 00:00:00  ┆ 00:00:00  ┆ 00:00:00 │\n",
       "│           ┆ ---       ┆ ---       ┆ ---       ┆   ┆ ---       ┆ ---       ┆ ---       ┆ ---      │\n",
       "│           ┆ i32       ┆ i32       ┆ i32       ┆   ┆ i32       ┆ i32       ┆ i32       ┆ i32      │\n",
       "╞═══════════╪═══════════╪═══════════╪═══════════╪═══╪═══════════╪═══════════╪═══════════╪══════════╡\n",
       "│ Residenti ┆ 6156      ┆ 7039      ┆ 8076      ┆ … ┆ 4519      ┆ 2999      ┆ 4726      ┆ 5373     │\n",
       "│ al Totals ┆           ┆           ┆           ┆   ┆           ┆           ┆           ┆          │\n",
       "└───────────┴───────────┴───────────┴───────────┴───┴───────────┴───────────┴───────────┴──────────┘"
      ]
     },
     "metadata": {},
     "output_type": "display_data"
    }
   ],
   "source": [
    "disconnect_notices"
   ]
  },
  {
   "cell_type": "markdown",
   "metadata": {},
   "source": [
    "# Bill Assistance (Payment Arrangements)"
   ]
  },
  {
   "cell_type": "code",
   "execution_count": null,
   "metadata": {},
   "outputs": [],
   "source": [
    "df = pl.read_excel(f\"{DATA}/utility_reporting/avista/avista_{YEAR}.xlsx\", sheet_id=4, has_header=False)"
   ]
  },
  {
   "cell_type": "markdown",
   "metadata": {},
   "source": [
    "# Number of Customers"
   ]
  },
  {
   "cell_type": "code",
   "execution_count": null,
   "metadata": {},
   "outputs": [],
   "source": [
    "df = pl.read_excel(f\"{DATA}/utility_reporting/avista/avista_{YEAR}.xlsx\", sheet_id=8, has_header=False)"
   ]
  },
  {
   "cell_type": "code",
   "execution_count": null,
   "metadata": {},
   "outputs": [],
   "source": [
    "is_num_customers_section = (\n",
    "    df.head(1)\n",
    "    .select(pl.col(col).str.contains(r\"(?i)number of customers by customer class\") for col in df.columns)\n",
    "    .row(0)\n",
    ")\n",
    "num_customers_start_index = next(index for index, value in enumerate(is_num_customers_section) if value)\n",
    "num_customers = df.select(df.columns[:2] + df.columns[num_customers_start_index : num_customers_start_index + 12])"
   ]
  },
  {
   "cell_type": "code",
   "execution_count": null,
   "metadata": {},
   "outputs": [],
   "source": [
    "new_columns = num_customers.select(num_customers.columns[2:]).slice(2, 2).to_dicts()[0]\n",
    "for col in new_columns:\n",
    "    if type(new_columns[col]) is str:\n",
    "        new_columns[col] = datetime.datetime.strptime(new_columns[col], \"%Y-%m-%d %H:%M:%S\").astimezone(datetime.UTC)\n",
    "    new_columns[col] = new_columns[col].strftime(\"%B %Y\")\n",
    "new_columns = {\"column_1\": \"Zip Code\", \"column_2\": \"Customer Class\"} | new_columns\n",
    "num_customers = (\n",
    "    num_customers.rename(new_columns)\n",
    "    .filter(pl.col(\"Customer Class\").str.contains(r\"(?i)^residential$\"))\n",
    "    .drop(\"Customer Class\")\n",
    ")"
   ]
  },
  {
   "cell_type": "code",
   "execution_count": null,
   "metadata": {},
   "outputs": [
    {
     "data": {
      "text/html": [
       "<div><style>\n",
       ".dataframe > thead > tr,\n",
       ".dataframe > tbody > tr {\n",
       "  text-align: right;\n",
       "  white-space: pre-wrap;\n",
       "}\n",
       "</style>\n",
       "<small>shape: (1, 13)</small><table border=\"1\" class=\"dataframe\"><thead><tr><th>Zip Code</th><th>January 2023</th><th>February 2023</th><th>March 2023</th><th>April 2023</th><th>May 2023</th><th>June 2023</th><th>July 2023</th><th>August 2023</th><th>September 2023</th><th>October 2023</th><th>November 2023</th><th>December 2023</th></tr><tr><td>i64</td><td>f64</td><td>f64</td><td>f64</td><td>f64</td><td>f64</td><td>f64</td><td>f64</td><td>f64</td><td>f64</td><td>f64</td><td>f64</td><td>f64</td></tr></thead><tbody><tr><td>10407700</td><td>25858.0</td><td>27463.0</td><td>27880.0</td><td>29804.0</td><td>28946.0</td><td>26189.0</td><td>28295.0</td><td>27303.0</td><td>29041.0</td><td>28220.0</td><td>27866.0</td><td>28616.0</td></tr></tbody></table></div>"
      ],
      "text/plain": [
       "shape: (1, 13)\n",
       "┌──────────┬───────────┬───────────┬───────────┬───┬───────────┬───────────┬───────────┬───────────┐\n",
       "│ Zip Code ┆ January   ┆ February  ┆ March     ┆ … ┆ September ┆ October   ┆ November  ┆ December  │\n",
       "│ ---      ┆ 2023      ┆ 2023      ┆ 2023      ┆   ┆ 2023      ┆ 2023      ┆ 2023      ┆ 2023      │\n",
       "│ i64      ┆ ---       ┆ ---       ┆ ---       ┆   ┆ ---       ┆ ---       ┆ ---       ┆ ---       │\n",
       "│          ┆ f64       ┆ f64       ┆ f64       ┆   ┆ f64       ┆ f64       ┆ f64       ┆ f64       │\n",
       "╞══════════╪═══════════╪═══════════╪═══════════╪═══╪═══════════╪═══════════╪═══════════╪═══════════╡\n",
       "│ 10407700 ┆ 25858.0   ┆ 27463.0   ┆ 27880.0   ┆ … ┆ 29041.0   ┆ 28220.0   ┆ 27866.0   ┆ 28616.0   │\n",
       "└──────────┴───────────┴───────────┴───────────┴───┴───────────┴───────────┴───────────┴───────────┘"
      ]
     },
     "metadata": {},
     "output_type": "display_data"
    }
   ],
   "source": [
    "num_customers = num_customers.with_columns(\n",
    "    [pl.col(col).cast(pl.Float64, strict=False) for col in num_customers.columns[1:]]\n",
    ")\n",
    "num_customers = num_customers.with_columns(pl.col(\"Zip Code\").cast(pl.Int64))\n",
    "num_customers.sum()"
   ]
  }
 ],
 "metadata": {
  "language_info": {
   "name": "python"
  }
 },
 "nbformat": 4,
 "nbformat_minor": 2
}
