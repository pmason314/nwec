{
 "cells": [
  {
   "cell_type": "code",
   "execution_count": 6,
   "metadata": {},
   "outputs": [],
   "source": [
    "import polars as pl\n",
    "\n",
    "from nwec.constants import PROJECT_ROOT"
   ]
  },
  {
   "cell_type": "code",
   "execution_count": 8,
   "metadata": {},
   "outputs": [],
   "source": [
    "df = pl.read_excel(f\"{PROJECT_ROOT}/data/raw_data.xlsx\", sheet_id=2, has_header=False)"
   ]
  },
  {
   "cell_type": "markdown",
   "metadata": {},
   "source": [
    "# Number of Disconnections"
   ]
  },
  {
   "cell_type": "code",
   "execution_count": null,
   "metadata": {},
   "outputs": [],
   "source": [
    "disconnects = df.select(df.columns[:15]).slice(1)\n",
    "# Drop null columns and cast all columns to strings\n",
    "null_columns = [col for col in disconnects.columns if disconnects[col][0] is None]\n",
    "disconnects = disconnects.drop(null_columns)\n",
    "disconnects = disconnects.with_columns([pl.col(col).cast(pl.Utf8) for col in disconnects.columns])\n",
    "# Rename columns with proper headers\n",
    "disconnects = disconnects.rename(disconnects.head(1).to_dicts()[0])\n",
    "disconnects = disconnects.filter(pl.col(\"Zip Code\") == \"Residential Total\")\n",
    "disconnects = disconnects.with_columns([pl.col(col).cast(pl.Int32, strict=False) for col in disconnects.columns[2:]])\n",
    "disconnects = disconnects.fill_null(0)"
   ]
  },
  {
   "cell_type": "code",
   "execution_count": null,
   "metadata": {},
   "outputs": [
    {
     "data": {
      "text/html": [
       "<div><style>\n",
       ".dataframe > thead > tr,\n",
       ".dataframe > tbody > tr {\n",
       "  text-align: right;\n",
       "  white-space: pre-wrap;\n",
       "}\n",
       "</style>\n",
       "<small>shape: (1, 14)</small><table border=\"1\" class=\"dataframe\"><thead><tr><th>Zip Code</th><th>Customer Class</th><th>2024-01-01 00:00:00</th><th>2024-02-01 00:00:00</th><th>2024-03-01 00:00:00</th><th>2024-04-01 00:00:00</th><th>2024-05-01 00:00:00</th><th>2024-06-01 00:00:00</th><th>2024-07-01</th><th>2024-08-01</th><th>2024-09-01</th><th>2024-10-01</th><th>2024-11-01</th><th>2024-12-01</th></tr><tr><td>str</td><td>str</td><td>i32</td><td>i32</td><td>i32</td><td>i32</td><td>i32</td><td>i32</td><td>i32</td><td>i32</td><td>i32</td><td>i32</td><td>i32</td><td>i32</td></tr></thead><tbody><tr><td>&quot;Residential Total&quot;</td><td>null</td><td>705</td><td>1013</td><td>1244</td><td>1164</td><td>1320</td><td>1081</td><td>0</td><td>0</td><td>0</td><td>0</td><td>0</td><td>0</td></tr></tbody></table></div>"
      ],
      "text/plain": [
       "shape: (1, 14)\n",
       "┌───────────┬───────────┬───────────┬───────────┬───┬───────────┬───────────┬───────────┬──────────┐\n",
       "│ Zip Code  ┆ Customer  ┆ 2024-01-0 ┆ 2024-02-0 ┆ … ┆ 2024-09-0 ┆ 2024-10-0 ┆ 2024-11-0 ┆ 2024-12- │\n",
       "│ ---       ┆ Class     ┆ 1         ┆ 1         ┆   ┆ 1         ┆ 1         ┆ 1         ┆ 01       │\n",
       "│ str       ┆ ---       ┆ 00:00:00  ┆ 00:00:00  ┆   ┆ ---       ┆ ---       ┆ ---       ┆ ---      │\n",
       "│           ┆ str       ┆ ---       ┆ ---       ┆   ┆ i32       ┆ i32       ┆ i32       ┆ i32      │\n",
       "│           ┆           ┆ i32       ┆ i32       ┆   ┆           ┆           ┆           ┆          │\n",
       "╞═══════════╪═══════════╪═══════════╪═══════════╪═══╪═══════════╪═══════════╪═══════════╪══════════╡\n",
       "│ Residenti ┆ null      ┆ 705       ┆ 1013      ┆ … ┆ 0         ┆ 0         ┆ 0         ┆ 0        │\n",
       "│ al Total  ┆           ┆           ┆           ┆   ┆           ┆           ┆           ┆          │\n",
       "└───────────┴───────────┴───────────┴───────────┴───┴───────────┴───────────┴───────────┴──────────┘"
      ]
     },
     "execution_count": 144,
     "metadata": {},
     "output_type": "execute_result"
    }
   ],
   "source": [
    "disconnects"
   ]
  },
  {
   "cell_type": "markdown",
   "metadata": {},
   "source": [
    "# Disconnection Notices"
   ]
  },
  {
   "cell_type": "code",
   "execution_count": null,
   "metadata": {},
   "outputs": [],
   "source": [
    "disconnect_notices = df.select([df.columns[0]] + df.columns[41:53]).slice(1)\n",
    "# Drop null columns and cast all columns to strings\n",
    "null_columns = [col for col in disconnect_notices.columns if disconnect_notices[col][0] is None]\n",
    "disconnect_notices = disconnect_notices.drop(null_columns)\n",
    "disconnect_notices = disconnect_notices.with_columns([pl.col(col).cast(pl.Utf8) for col in disconnect_notices.columns])\n",
    "# Rename columns with proper headers\n",
    "disconnect_notices = disconnect_notices.rename(disconnect_notices.head(1).to_dicts()[0])\n",
    "disconnect_notices = disconnect_notices.filter(pl.col(\"Zip Code\") == \"Residential Total\")\n",
    "disconnect_notices = disconnect_notices.with_columns(\n",
    "    [pl.col(col).cast(pl.Int32, strict=False) for col in disconnect_notices.columns[1:]]\n",
    ")\n",
    "disconnect_notices = disconnect_notices.fill_null(0)"
   ]
  },
  {
   "cell_type": "code",
   "execution_count": null,
   "metadata": {},
   "outputs": [
    {
     "data": {
      "text/html": [
       "<div><style>\n",
       ".dataframe > thead > tr,\n",
       ".dataframe > tbody > tr {\n",
       "  text-align: right;\n",
       "  white-space: pre-wrap;\n",
       "}\n",
       "</style>\n",
       "<small>shape: (1, 13)</small><table border=\"1\" class=\"dataframe\"><thead><tr><th>Zip Code</th><th>2024-01-01 00:00:00</th><th>2024-02-01 00:00:00</th><th>2024-03-01 00:00:00</th><th>2024-04-01 00:00:00</th><th>2024-05-01 00:00:00</th><th>2024-06-01 00:00:00</th><th>2024-07-01</th><th>2024-08-01</th><th>2024-09-01</th><th>2024-10-01</th><th>2024-11-01</th><th>2024-12-01</th></tr><tr><td>str</td><td>i32</td><td>i32</td><td>i32</td><td>i32</td><td>i32</td><td>i32</td><td>i32</td><td>i32</td><td>i32</td><td>i32</td><td>i32</td><td>i32</td></tr></thead><tbody><tr><td>&quot;Residential Total&quot;</td><td>6327</td><td>5851</td><td>3775</td><td>9144</td><td>8053</td><td>5644</td><td>0</td><td>0</td><td>0</td><td>0</td><td>0</td><td>0</td></tr></tbody></table></div>"
      ],
      "text/plain": [
       "shape: (1, 13)\n",
       "┌───────────┬───────────┬───────────┬───────────┬───┬───────────┬───────────┬───────────┬──────────┐\n",
       "│ Zip Code  ┆ 2024-01-0 ┆ 2024-02-0 ┆ 2024-03-0 ┆ … ┆ 2024-09-0 ┆ 2024-10-0 ┆ 2024-11-0 ┆ 2024-12- │\n",
       "│ ---       ┆ 1         ┆ 1         ┆ 1         ┆   ┆ 1         ┆ 1         ┆ 1         ┆ 01       │\n",
       "│ str       ┆ 00:00:00  ┆ 00:00:00  ┆ 00:00:00  ┆   ┆ ---       ┆ ---       ┆ ---       ┆ ---      │\n",
       "│           ┆ ---       ┆ ---       ┆ ---       ┆   ┆ i32       ┆ i32       ┆ i32       ┆ i32      │\n",
       "│           ┆ i32       ┆ i32       ┆ i32       ┆   ┆           ┆           ┆           ┆          │\n",
       "╞═══════════╪═══════════╪═══════════╪═══════════╪═══╪═══════════╪═══════════╪═══════════╪══════════╡\n",
       "│ Residenti ┆ 6327      ┆ 5851      ┆ 3775      ┆ … ┆ 0         ┆ 0         ┆ 0         ┆ 0        │\n",
       "│ al Total  ┆           ┆           ┆           ┆   ┆           ┆           ┆           ┆          │\n",
       "└───────────┴───────────┴───────────┴───────────┴───┴───────────┴───────────┴───────────┴──────────┘"
      ]
     },
     "execution_count": 146,
     "metadata": {},
     "output_type": "execute_result"
    }
   ],
   "source": [
    "disconnect_notices"
   ]
  }
 ],
 "metadata": {
  "kernelspec": {
   "display_name": ".venv",
   "language": "python",
   "name": "python3"
  },
  "language_info": {
   "codemirror_mode": {
    "name": "ipython",
    "version": 3
   },
   "file_extension": ".py",
   "mimetype": "text/x-python",
   "name": "python",
   "nbconvert_exporter": "python",
   "pygments_lexer": "ipython3",
   "version": "3.12.5"
  }
 },
 "nbformat": 4,
 "nbformat_minor": 2
}
