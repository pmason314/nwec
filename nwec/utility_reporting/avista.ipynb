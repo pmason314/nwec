{
 "cells": [
  {
   "cell_type": "code",
   "execution_count": 1,
   "metadata": {},
   "outputs": [],
   "source": [
    "import datetime\n",
    "\n",
    "import polars as pl\n",
    "\n",
    "from nwec.constants import PROJECT_ROOT\n",
    "\n",
    "YEAR = 2023"
   ]
  },
  {
   "cell_type": "markdown",
   "metadata": {},
   "source": [
    "# Number of Disconnections"
   ]
  },
  {
   "cell_type": "code",
   "execution_count": 2,
   "metadata": {},
   "outputs": [],
   "source": [
    "df = pl.read_excel(f\"{PROJECT_ROOT}/data/utility_reporting/avista/avista_{YEAR}.xlsx\", sheet_id=2, has_header=False)"
   ]
  },
  {
   "cell_type": "code",
   "execution_count": 3,
   "metadata": {},
   "outputs": [],
   "source": [
    "disconnects = df.select([df.columns[0]] + df.columns[2:15]).slice(1)\n",
    "# Drop null columns and cast all columns to strings\n",
    "null_columns = [col for col in disconnects.columns if disconnects[col][0] is None]\n",
    "disconnects = disconnects.drop(null_columns)\n",
    "disconnects = disconnects.with_columns([pl.col(col).cast(pl.Utf8) for col in disconnects.columns])\n",
    "# Rename columns with proper headers\n",
    "disconnects = disconnects.rename(disconnects.head(1).to_dicts()[0])\n",
    "disconnects = disconnects.filter(pl.col(\"Zip Code\").str.contains(\"Residential Total\"))\n",
    "disconnects = disconnects.with_columns([pl.col(col).cast(pl.Int32, strict=False) for col in disconnects.columns[2:]])\n",
    "disconnects = disconnects.fill_null(0)"
   ]
  },
  {
   "cell_type": "code",
   "execution_count": 4,
   "metadata": {},
   "outputs": [
    {
     "data": {
      "text/html": [
       "<div><style>\n",
       ".dataframe > thead > tr,\n",
       ".dataframe > tbody > tr {\n",
       "  text-align: right;\n",
       "  white-space: pre-wrap;\n",
       "}\n",
       "</style>\n",
       "<small>shape: (1, 13)</small><table border=\"1\" class=\"dataframe\"><thead><tr><th>Zip Code</th><th>2023-01-01 00:00:00</th><th>2023-02-01 00:00:00</th><th>2023-03-01 00:00:00</th><th>2023-04-01 00:00:00</th><th>2023-05-01 00:00:00</th><th>2023-06-01 00:00:00</th><th>2023-07-01 00:00:00</th><th>2023-08-01 00:00:00</th><th>2023-09-01 00:00:00</th><th>2023-10-01 00:00:00</th><th>2023-11-01 00:00:00</th><th>2023-12-01 00:00:00</th></tr><tr><td>str</td><td>str</td><td>i32</td><td>i32</td><td>i32</td><td>i32</td><td>i32</td><td>i32</td><td>i32</td><td>i32</td><td>i32</td><td>i32</td><td>i32</td></tr></thead><tbody><tr><td>&quot;Residential Totals&quot;</td><td>&quot;583&quot;</td><td>806</td><td>1079</td><td>988</td><td>910</td><td>829</td><td>811</td><td>745</td><td>874</td><td>728</td><td>189</td><td>975</td></tr></tbody></table></div>"
      ],
      "text/plain": [
       "shape: (1, 13)\n",
       "┌───────────┬───────────┬───────────┬───────────┬───┬───────────┬───────────┬───────────┬──────────┐\n",
       "│ Zip Code  ┆ 2023-01-0 ┆ 2023-02-0 ┆ 2023-03-0 ┆ … ┆ 2023-09-0 ┆ 2023-10-0 ┆ 2023-11-0 ┆ 2023-12- │\n",
       "│ ---       ┆ 1         ┆ 1         ┆ 1         ┆   ┆ 1         ┆ 1         ┆ 1         ┆ 01       │\n",
       "│ str       ┆ 00:00:00  ┆ 00:00:00  ┆ 00:00:00  ┆   ┆ 00:00:00  ┆ 00:00:00  ┆ 00:00:00  ┆ 00:00:00 │\n",
       "│           ┆ ---       ┆ ---       ┆ ---       ┆   ┆ ---       ┆ ---       ┆ ---       ┆ ---      │\n",
       "│           ┆ str       ┆ i32       ┆ i32       ┆   ┆ i32       ┆ i32       ┆ i32       ┆ i32      │\n",
       "╞═══════════╪═══════════╪═══════════╪═══════════╪═══╪═══════════╪═══════════╪═══════════╪══════════╡\n",
       "│ Residenti ┆ 583       ┆ 806       ┆ 1079      ┆ … ┆ 874       ┆ 728       ┆ 189       ┆ 975      │\n",
       "│ al Totals ┆           ┆           ┆           ┆   ┆           ┆           ┆           ┆          │\n",
       "└───────────┴───────────┴───────────┴───────────┴───┴───────────┴───────────┴───────────┴──────────┘"
      ]
     },
     "execution_count": 4,
     "metadata": {},
     "output_type": "execute_result"
    }
   ],
   "source": [
    "disconnects"
   ]
  },
  {
   "cell_type": "markdown",
   "metadata": {},
   "source": [
    "# Disconnection Notices"
   ]
  },
  {
   "cell_type": "code",
   "execution_count": 5,
   "metadata": {},
   "outputs": [],
   "source": [
    "disconnect_notices = df.select([df.columns[0]] + df.columns[41:53]).slice(1)\n",
    "# Drop null columns and cast all columns to strings\n",
    "null_columns = [col for col in disconnect_notices.columns if disconnect_notices[col][0] is None]\n",
    "disconnect_notices = disconnect_notices.drop(null_columns)\n",
    "disconnect_notices = disconnect_notices.with_columns([pl.col(col).cast(pl.Utf8) for col in disconnect_notices.columns])\n",
    "# Rename columns with proper headers\n",
    "disconnect_notices = disconnect_notices.rename(disconnect_notices.head(1).to_dicts()[0])\n",
    "disconnect_notices = disconnect_notices.filter(pl.col(\"Zip Code\").str.contains(\"Residential Total\"))\n",
    "disconnect_notices = disconnect_notices.with_columns(\n",
    "    [pl.col(col).cast(pl.Int32, strict=False) for col in disconnect_notices.columns[1:]]\n",
    ")\n",
    "disconnect_notices = disconnect_notices.fill_null(0)"
   ]
  },
  {
   "cell_type": "code",
   "execution_count": 6,
   "metadata": {},
   "outputs": [
    {
     "data": {
      "text/html": [
       "<div><style>\n",
       ".dataframe > thead > tr,\n",
       ".dataframe > tbody > tr {\n",
       "  text-align: right;\n",
       "  white-space: pre-wrap;\n",
       "}\n",
       "</style>\n",
       "<small>shape: (1, 13)</small><table border=\"1\" class=\"dataframe\"><thead><tr><th>Zip Code</th><th>2023-01-01 00:00:00</th><th>2023-02-01 00:00:00</th><th>2023-03-01 00:00:00</th><th>2023-04-01 00:00:00</th><th>2023-05-01 00:00:00</th><th>2023-06-01 00:00:00</th><th>2023-07-01 00:00:00</th><th>2023-08-01 00:00:00</th><th>2023-09-01 00:00:00</th><th>2023-10-01 00:00:00</th><th>2023-11-01 00:00:00</th><th>2023-12-01 00:00:00</th></tr><tr><td>str</td><td>i32</td><td>i32</td><td>i32</td><td>i32</td><td>i32</td><td>i32</td><td>i32</td><td>i32</td><td>i32</td><td>i32</td><td>i32</td><td>i32</td></tr></thead><tbody><tr><td>&quot;Residential Totals&quot;</td><td>6156</td><td>7039</td><td>8076</td><td>6259</td><td>5657</td><td>4585</td><td>3833</td><td>4638</td><td>4519</td><td>2999</td><td>4726</td><td>5373</td></tr></tbody></table></div>"
      ],
      "text/plain": [
       "shape: (1, 13)\n",
       "┌───────────┬───────────┬───────────┬───────────┬───┬───────────┬───────────┬───────────┬──────────┐\n",
       "│ Zip Code  ┆ 2023-01-0 ┆ 2023-02-0 ┆ 2023-03-0 ┆ … ┆ 2023-09-0 ┆ 2023-10-0 ┆ 2023-11-0 ┆ 2023-12- │\n",
       "│ ---       ┆ 1         ┆ 1         ┆ 1         ┆   ┆ 1         ┆ 1         ┆ 1         ┆ 01       │\n",
       "│ str       ┆ 00:00:00  ┆ 00:00:00  ┆ 00:00:00  ┆   ┆ 00:00:00  ┆ 00:00:00  ┆ 00:00:00  ┆ 00:00:00 │\n",
       "│           ┆ ---       ┆ ---       ┆ ---       ┆   ┆ ---       ┆ ---       ┆ ---       ┆ ---      │\n",
       "│           ┆ i32       ┆ i32       ┆ i32       ┆   ┆ i32       ┆ i32       ┆ i32       ┆ i32      │\n",
       "╞═══════════╪═══════════╪═══════════╪═══════════╪═══╪═══════════╪═══════════╪═══════════╪══════════╡\n",
       "│ Residenti ┆ 6156      ┆ 7039      ┆ 8076      ┆ … ┆ 4519      ┆ 2999      ┆ 4726      ┆ 5373     │\n",
       "│ al Totals ┆           ┆           ┆           ┆   ┆           ┆           ┆           ┆          │\n",
       "└───────────┴───────────┴───────────┴───────────┴───┴───────────┴───────────┴───────────┴──────────┘"
      ]
     },
     "execution_count": 6,
     "metadata": {},
     "output_type": "execute_result"
    }
   ],
   "source": [
    "disconnect_notices"
   ]
  },
  {
   "cell_type": "markdown",
   "metadata": {},
   "source": [
    "# Fees - None"
   ]
  },
  {
   "cell_type": "markdown",
   "metadata": {},
   "source": [
    "# Bill Assistance (Payment Arrangements)"
   ]
  },
  {
   "cell_type": "code",
   "execution_count": 7,
   "metadata": {},
   "outputs": [],
   "source": [
    "df = pl.read_excel(f\"{PROJECT_ROOT}/data/utility_reporting/avista/avista_{YEAR}.xlsx\", sheet_id=4, has_header=False)"
   ]
  },
  {
   "cell_type": "markdown",
   "metadata": {},
   "source": [
    "# Number of Customers"
   ]
  },
  {
   "cell_type": "code",
   "execution_count": 8,
   "metadata": {},
   "outputs": [],
   "source": [
    "df = pl.read_excel(f\"{PROJECT_ROOT}/data/utility_reporting/avista/avista_{YEAR}.xlsx\", sheet_id=8, has_header=False)"
   ]
  },
  {
   "cell_type": "code",
   "execution_count": 9,
   "metadata": {},
   "outputs": [],
   "source": [
    "is_num_customers_section = (\n",
    "    df.head(1)\n",
    "    .select(pl.col(col).str.contains(r\"(?i)number of customers by customer class\") for col in df.columns)\n",
    "    .row(0)\n",
    ")\n",
    "num_customers_start_index = next(index for index, value in enumerate(is_num_customers_section) if value)\n",
    "num_customers = df.select(df.columns[:2] + df.columns[num_customers_start_index : num_customers_start_index + 12])"
   ]
  },
  {
   "cell_type": "code",
   "execution_count": 10,
   "metadata": {},
   "outputs": [],
   "source": [
    "new_columns = num_customers.select(num_customers.columns[2:]).slice(2, 2).to_dicts()[0]\n",
    "for col in new_columns:\n",
    "    if type(new_columns[col]) is str:\n",
    "        new_columns[col] = datetime.datetime.strptime(new_columns[col], \"%Y-%m-%d %H:%M:%S\").astimezone(datetime.UTC)\n",
    "    new_columns[col] = new_columns[col].strftime(\"%B %Y\")\n",
    "new_columns = {\"column_1\": \"Zip Code\", \"column_2\": \"Customer Class\"} | new_columns\n",
    "num_customers = (\n",
    "    num_customers.rename(new_columns)\n",
    "    .filter(pl.col(\"Customer Class\").str.contains(r\"(?i)^residential$\"))\n",
    "    .drop(\"Customer Class\")\n",
    ")"
   ]
  },
  {
   "cell_type": "code",
   "execution_count": 11,
   "metadata": {},
   "outputs": [
    {
     "data": {
      "text/html": [
       "<div><style>\n",
       ".dataframe > thead > tr,\n",
       ".dataframe > tbody > tr {\n",
       "  text-align: right;\n",
       "  white-space: pre-wrap;\n",
       "}\n",
       "</style>\n",
       "<small>shape: (1, 13)</small><table border=\"1\" class=\"dataframe\"><thead><tr><th>Zip Code</th><th>January 2023</th><th>February 2023</th><th>March 2023</th><th>April 2023</th><th>May 2023</th><th>June 2023</th><th>July 2023</th><th>August 2023</th><th>September 2023</th><th>October 2023</th><th>November 2023</th><th>December 2023</th></tr><tr><td>i64</td><td>f64</td><td>f64</td><td>f64</td><td>f64</td><td>f64</td><td>f64</td><td>f64</td><td>f64</td><td>f64</td><td>f64</td><td>f64</td><td>f64</td></tr></thead><tbody><tr><td>10407700</td><td>25858.0</td><td>27463.0</td><td>27880.0</td><td>29804.0</td><td>28946.0</td><td>26189.0</td><td>28295.0</td><td>27303.0</td><td>29041.0</td><td>28220.0</td><td>27866.0</td><td>28616.0</td></tr></tbody></table></div>"
      ],
      "text/plain": [
       "shape: (1, 13)\n",
       "┌──────────┬───────────┬───────────┬───────────┬───┬───────────┬───────────┬───────────┬───────────┐\n",
       "│ Zip Code ┆ January   ┆ February  ┆ March     ┆ … ┆ September ┆ October   ┆ November  ┆ December  │\n",
       "│ ---      ┆ 2023      ┆ 2023      ┆ 2023      ┆   ┆ 2023      ┆ 2023      ┆ 2023      ┆ 2023      │\n",
       "│ i64      ┆ ---       ┆ ---       ┆ ---       ┆   ┆ ---       ┆ ---       ┆ ---       ┆ ---       │\n",
       "│          ┆ f64       ┆ f64       ┆ f64       ┆   ┆ f64       ┆ f64       ┆ f64       ┆ f64       │\n",
       "╞══════════╪═══════════╪═══════════╪═══════════╪═══╪═══════════╪═══════════╪═══════════╪═══════════╡\n",
       "│ 10407700 ┆ 25858.0   ┆ 27463.0   ┆ 27880.0   ┆ … ┆ 29041.0   ┆ 28220.0   ┆ 27866.0   ┆ 28616.0   │\n",
       "└──────────┴───────────┴───────────┴───────────┴───┴───────────┴───────────┴───────────┴───────────┘"
      ]
     },
     "execution_count": 11,
     "metadata": {},
     "output_type": "execute_result"
    }
   ],
   "source": [
    "num_customers = num_customers.with_columns(\n",
    "    [pl.col(col).cast(pl.Float64, strict=False) for col in num_customers.columns[1:]]\n",
    ")\n",
    "num_customers = num_customers.with_columns(pl.col(\"Zip Code\").cast(pl.Int64))\n",
    "num_customers.sum()"
   ]
  },
  {
   "cell_type": "markdown",
   "metadata": {},
   "source": [
    "# Arrearages"
   ]
  },
  {
   "cell_type": "code",
   "execution_count": 12,
   "metadata": {},
   "outputs": [],
   "source": [
    "df = pl.read_excel(f\"{PROJECT_ROOT}/data/utility_reporting/avista/avista_{YEAR}.xlsx\", sheet_id=8, has_header=False)"
   ]
  },
  {
   "cell_type": "code",
   "execution_count": 13,
   "metadata": {},
   "outputs": [],
   "source": [
    "is_arrearage_section = (\n",
    "    df.head(1).select(pl.col(col).str.contains(r\"(?i)past-due balances by customer class\") for col in df.columns).row(0)\n",
    ")\n",
    "arrearage_start_index = next(index for index, value in enumerate(is_arrearage_section) if value)\n",
    "arrearages = df.select(df.columns[:2] + df.columns[arrearage_start_index : arrearage_start_index + 48])"
   ]
  },
  {
   "cell_type": "code",
   "execution_count": 14,
   "metadata": {},
   "outputs": [],
   "source": [
    "new_columns = arrearages.select(arrearages.columns[2:]).slice(1, 1).to_dicts()[0]\n",
    "last_date = None\n",
    "last_vintage = 30\n",
    "for col in new_columns:\n",
    "    if new_columns[col] is not None:\n",
    "        date = datetime.datetime.strptime(new_columns[col], \"%Y-%m-%d %H:%M:%S\").astimezone(datetime.UTC)\n",
    "        date = date.strftime(\"%B %Y\")\n",
    "        new_columns[col] = f\"{date} - 30 Days\"\n",
    "        last_date = date\n",
    "    elif last_vintage == 30:\n",
    "        new_columns[col] = f\"{last_date} - 60 Days\"\n",
    "        last_vintage = 60\n",
    "    elif last_vintage == 60:\n",
    "        new_columns[col] = f\"{last_date} - 90 Days\"\n",
    "        last_vintage = 90\n",
    "    else:\n",
    "        new_columns[col] = f\"{last_date} - Total Arrearages\"\n",
    "        last_vintage = 30\n",
    "new_columns = {\"column_1\": \"Zip Code\", \"column_2\": \"Customer Class\"} | new_columns\n",
    "arrearages = (\n",
    "    arrearages.rename(new_columns)\n",
    "    .filter(pl.col(\"Customer Class\").str.contains(r\"(?i)^residential$\"))\n",
    "    .drop(\"Customer Class\")\n",
    ")"
   ]
  },
  {
   "cell_type": "code",
   "execution_count": 15,
   "metadata": {},
   "outputs": [
    {
     "data": {
      "text/html": [
       "<div><style>\n",
       ".dataframe > thead > tr,\n",
       ".dataframe > tbody > tr {\n",
       "  text-align: right;\n",
       "  white-space: pre-wrap;\n",
       "}\n",
       "</style>\n",
       "<small>shape: (1, 49)</small><table border=\"1\" class=\"dataframe\"><thead><tr><th>Zip Code</th><th>January 2023 - 30 Days</th><th>January 2023 - 60 Days</th><th>January 2023 - 90 Days</th><th>January 2023 - Total Arrearages</th><th>February 2023 - 30 Days</th><th>February 2023 - 60 Days</th><th>February 2023 - 90 Days</th><th>February 2023 - Total Arrearages</th><th>March 2023 - 30 Days</th><th>March 2023 - 60 Days</th><th>March 2023 - 90 Days</th><th>March 2023 - Total Arrearages</th><th>April 2023 - 30 Days</th><th>April 2023 - 60 Days</th><th>April 2023 - 90 Days</th><th>April 2023 - Total Arrearages</th><th>May 2023 - 30 Days</th><th>May 2023 - 60 Days</th><th>May 2023 - 90 Days</th><th>May 2023 - Total Arrearages</th><th>June 2023 - 30 Days</th><th>June 2023 - 60 Days</th><th>June 2023 - 90 Days</th><th>June 2023 - Total Arrearages</th><th>July 2023 - 30 Days</th><th>July 2023 - 60 Days</th><th>July 2023 - 90 Days</th><th>July 2023 - Total Arrearages</th><th>August 2023 - 30 Days</th><th>August 2023 - 60 Days</th><th>August 2023 - 90 Days</th><th>August 2023 - Total Arrearages</th><th>September 2023 - 30 Days</th><th>September 2023 - 60 Days</th><th>September 2023 - 90 Days</th><th>September 2023 - Total Arrearages</th><th>October 2023 - 30 Days</th><th>October 2023 - 60 Days</th><th>October 2023 - 90 Days</th><th>October 2023 - Total Arrearages</th><th>November 2023 - 30 Days</th><th>November 2023 - 60 Days</th><th>November 2023 - 90 Days</th><th>November 2023 - Total Arrearages</th><th>December 2023 - 30 Days</th><th>December 2023 - 60 Days</th><th>December 2023 - 90 Days</th><th>December 2023 - Total Arrearages</th></tr><tr><td>i64</td><td>f64</td><td>f64</td><td>f64</td><td>f64</td><td>f64</td><td>f64</td><td>f64</td><td>f64</td><td>f64</td><td>f64</td><td>f64</td><td>f64</td><td>f64</td><td>f64</td><td>f64</td><td>f64</td><td>f64</td><td>f64</td><td>f64</td><td>f64</td><td>f64</td><td>f64</td><td>f64</td><td>f64</td><td>f64</td><td>f64</td><td>f64</td><td>f64</td><td>f64</td><td>f64</td><td>f64</td><td>f64</td><td>f64</td><td>f64</td><td>f64</td><td>f64</td><td>f64</td><td>f64</td><td>f64</td><td>f64</td><td>f64</td><td>f64</td><td>f64</td><td>f64</td><td>f64</td><td>f64</td><td>f64</td><td>f64</td></tr></thead><tbody><tr><td>10407700</td><td>2.4621e6</td><td>1.3582e6</td><td>2.8349e6</td><td>6.6552e6</td><td>2.8895e6</td><td>2.0909e6</td><td>2.8826e6</td><td>7.8630e6</td><td>2.7780e6</td><td>2.5541e6</td><td>3.4246e6</td><td>8.7567e6</td><td>2478809.5</td><td>2.2073e6</td><td>4.1516e6</td><td>8.8377e6</td><td>1.6739e6</td><td>1.9885e6</td><td>4.199901e6</td><td>7.8623e6</td><td>1.1393e6</td><td>1.2488e6</td><td>3.5335e6</td><td>5.9216e6</td><td>1.1849e6</td><td>1.0682e6</td><td>3.2815e6</td><td>5534546.4</td><td>1.2527e6</td><td>1.0026e6</td><td>2.7728e6</td><td>5.0281e6</td><td>1.4520e6</td><td>1.1746e6</td><td>2.7268e6</td><td>5.3534e6</td><td>1.0732e6</td><td>1.1830e6</td><td>2.8353e6</td><td>5.0915e6</td><td>982703.64</td><td>968441.89</td><td>3.0957e6</td><td>5.0468e6</td><td>1.7480e6</td><td>1.1095e6</td><td>3.0320e6</td><td>5.8896e6</td></tr></tbody></table></div>"
      ],
      "text/plain": [
       "shape: (1, 49)\n",
       "┌──────────┬───────────┬───────────┬───────────┬───┬───────────┬───────────┬───────────┬───────────┐\n",
       "│ Zip Code ┆ January   ┆ January   ┆ January   ┆ … ┆ December  ┆ December  ┆ December  ┆ December  │\n",
       "│ ---      ┆ 2023 - 30 ┆ 2023 - 60 ┆ 2023 - 90 ┆   ┆ 2023 - 30 ┆ 2023 - 60 ┆ 2023 - 90 ┆ 2023 -    │\n",
       "│ i64      ┆ Days      ┆ Days      ┆ Days      ┆   ┆ Days      ┆ Days      ┆ Days      ┆ Total     │\n",
       "│          ┆ ---       ┆ ---       ┆ ---       ┆   ┆ ---       ┆ ---       ┆ ---       ┆ Arrearag… │\n",
       "│          ┆ f64       ┆ f64       ┆ f64       ┆   ┆ f64       ┆ f64       ┆ f64       ┆ ---       │\n",
       "│          ┆           ┆           ┆           ┆   ┆           ┆           ┆           ┆ f64       │\n",
       "╞══════════╪═══════════╪═══════════╪═══════════╪═══╪═══════════╪═══════════╪═══════════╪═══════════╡\n",
       "│ 10407700 ┆ 2.4621e6  ┆ 1.3582e6  ┆ 2.8349e6  ┆ … ┆ 1.7480e6  ┆ 1.1095e6  ┆ 3.0320e6  ┆ 5.8896e6  │\n",
       "└──────────┴───────────┴───────────┴───────────┴───┴───────────┴───────────┴───────────┴───────────┘"
      ]
     },
     "execution_count": 15,
     "metadata": {},
     "output_type": "execute_result"
    }
   ],
   "source": [
    "arrearages = arrearages.with_columns([pl.col(col).cast(pl.Float64, strict=False) for col in arrearages.columns[1:]])\n",
    "arrearages = arrearages.with_columns(pl.col(\"Zip Code\").cast(pl.Int64))\n",
    "arrearages.sum()"
   ]
  },
  {
   "cell_type": "markdown",
   "metadata": {},
   "source": [
    "# KLI Arrearages\n",
    "Same code as arrearages, just with a different search string"
   ]
  },
  {
   "cell_type": "code",
   "execution_count": 16,
   "metadata": {},
   "outputs": [],
   "source": [
    "df = pl.read_excel(f\"{PROJECT_ROOT}/data/utility_reporting/avista/avista_{YEAR}.xlsx\", sheet_id=8, has_header=False)"
   ]
  },
  {
   "cell_type": "code",
   "execution_count": 17,
   "metadata": {},
   "outputs": [],
   "source": [
    "is_kli_arrearage_section = (\n",
    "    df.head(1)\n",
    "    .select(pl.col(col).str.contains(r\"(?i)past-due balances for known low-income household\") for col in df.columns)\n",
    "    .row(0)\n",
    ")\n",
    "kli_arrearage_start_index = next(index for index, value in enumerate(is_kli_arrearage_section) if value)\n",
    "kli_arrearages = df.select(df.columns[:2] + df.columns[kli_arrearage_start_index : kli_arrearage_start_index + 48])"
   ]
  },
  {
   "cell_type": "code",
   "execution_count": 18,
   "metadata": {},
   "outputs": [],
   "source": [
    "new_columns = kli_arrearages.select(kli_arrearages.columns[2:]).slice(1, 1).to_dicts()[0]\n",
    "last_date = None\n",
    "last_vintage = 30\n",
    "for col in new_columns:\n",
    "    if new_columns[col] is not None:\n",
    "        date = datetime.datetime.strptime(new_columns[col], \"%Y-%m-%d %H:%M:%S\").astimezone(datetime.UTC)\n",
    "        date = date.strftime(\"%B %Y\")\n",
    "        new_columns[col] = f\"{date} - 30 Days\"\n",
    "        last_date = date\n",
    "    elif last_vintage == 30:\n",
    "        new_columns[col] = f\"{last_date} - 60 Days\"\n",
    "        last_vintage = 60\n",
    "    elif last_vintage == 60:\n",
    "        new_columns[col] = f\"{last_date} - 90 Days\"\n",
    "        last_vintage = 90\n",
    "    else:\n",
    "        new_columns[col] = f\"{last_date} - Total Arrearages\"\n",
    "        last_vintage = 30\n",
    "new_columns = {\"column_1\": \"Zip Code\", \"column_2\": \"Customer Class\"} | new_columns\n",
    "kli_arrearages = (\n",
    "    kli_arrearages.rename(new_columns)\n",
    "    .filter(pl.col(\"Customer Class\").str.contains(r\"(?i)^residential$\"))\n",
    "    .drop(\"Customer Class\")\n",
    ")"
   ]
  },
  {
   "cell_type": "code",
   "execution_count": 19,
   "metadata": {},
   "outputs": [
    {
     "data": {
      "text/html": [
       "<div><style>\n",
       ".dataframe > thead > tr,\n",
       ".dataframe > tbody > tr {\n",
       "  text-align: right;\n",
       "  white-space: pre-wrap;\n",
       "}\n",
       "</style>\n",
       "<small>shape: (1, 49)</small><table border=\"1\" class=\"dataframe\"><thead><tr><th>Zip Code</th><th>January 2023 - 30 Days</th><th>January 2023 - 60 Days</th><th>January 2023 - 90 Days</th><th>January 2023 - Total Arrearages</th><th>February 2023 - 30 Days</th><th>February 2023 - 60 Days</th><th>February 2023 - 90 Days</th><th>February 2023 - Total Arrearages</th><th>March 2023 - 30 Days</th><th>March 2023 - 60 Days</th><th>March 2023 - 90 Days</th><th>March 2023 - Total Arrearages</th><th>April 2023 - 30 Days</th><th>April 2023 - 60 Days</th><th>April 2023 - 90 Days</th><th>April 2023 - Total Arrearages</th><th>May 2023 - 30 Days</th><th>May 2023 - 60 Days</th><th>May 2023 - 90 Days</th><th>May 2023 - Total Arrearages</th><th>June 2023 - 30 Days</th><th>June 2023 - 60 Days</th><th>June 2023 - 90 Days</th><th>June 2023 - Total Arrearages</th><th>July 2022 - 30 Days</th><th>July 2022 - 60 Days</th><th>July 2022 - 90 Days</th><th>July 2022 - Total Arrearages</th><th>August 2022 - 30 Days</th><th>August 2022 - 60 Days</th><th>August 2022 - 90 Days</th><th>August 2022 - Total Arrearages</th><th>September 2022 - 30 Days</th><th>September 2022 - 60 Days</th><th>September 2022 - 90 Days</th><th>September 2022 - Total Arrearages</th><th>October 2022 - 30 Days</th><th>October 2022 - 60 Days</th><th>October 2022 - 90 Days</th><th>October 2022 - Total Arrearages</th><th>November 2022 - 30 Days</th><th>November 2022 - 60 Days</th><th>November 2022 - 90 Days</th><th>November 2022 - Total Arrearages</th><th>December 2022 - 30 Days</th><th>December 2022 - 60 Days</th><th>December 2022 - 90 Days</th><th>December 2022 - Total Arrearages</th></tr><tr><td>i64</td><td>f64</td><td>f64</td><td>f64</td><td>f64</td><td>f64</td><td>f64</td><td>f64</td><td>f64</td><td>f64</td><td>f64</td><td>f64</td><td>f64</td><td>f64</td><td>f64</td><td>f64</td><td>f64</td><td>f64</td><td>f64</td><td>f64</td><td>f64</td><td>f64</td><td>f64</td><td>f64</td><td>f64</td><td>f64</td><td>f64</td><td>f64</td><td>f64</td><td>f64</td><td>f64</td><td>f64</td><td>f64</td><td>f64</td><td>f64</td><td>f64</td><td>f64</td><td>f64</td><td>f64</td><td>f64</td><td>f64</td><td>f64</td><td>f64</td><td>f64</td><td>f64</td><td>f64</td><td>f64</td><td>f64</td><td>f64</td></tr></thead><tbody><tr><td>10407700</td><td>507564.97</td><td>301720.52</td><td>678301.81</td><td>1487587.3</td><td>823630.19</td><td>762010.28</td><td>854511.58</td><td>2.4402e6</td><td>497978.96</td><td>1.0390e6</td><td>1.4470e6</td><td>2.9840e6</td><td>500312.55</td><td>766460.57</td><td>2.0454e6</td><td>3.3122e6</td><td>334415.86</td><td>688545.01</td><td>2.1051e6</td><td>3.1280e6</td><td>193244.99</td><td>347350.26</td><td>1.5071e6</td><td>2047738.3</td><td>246529.24</td><td>293497.15</td><td>1.3677e6</td><td>1.9077e6</td><td>285887.86</td><td>333484.63</td><td>1.1360e6</td><td>1.7553e6</td><td>305000.39</td><td>424413.53</td><td>1.1756e6</td><td>1905002.1</td><td>218668.57</td><td>403189.22</td><td>1.3714e6</td><td>1.9933e6</td><td>161442.91</td><td>271281.63</td><td>1.4184e6</td><td>1.8511e6</td><td>285735.2</td><td>294593.43</td><td>1453869.5</td><td>2.0342e6</td></tr></tbody></table></div>"
      ],
      "text/plain": [
       "shape: (1, 49)\n",
       "┌──────────┬───────────┬───────────┬───────────┬───┬───────────┬───────────┬───────────┬───────────┐\n",
       "│ Zip Code ┆ January   ┆ January   ┆ January   ┆ … ┆ December  ┆ December  ┆ December  ┆ December  │\n",
       "│ ---      ┆ 2023 - 30 ┆ 2023 - 60 ┆ 2023 - 90 ┆   ┆ 2022 - 30 ┆ 2022 - 60 ┆ 2022 - 90 ┆ 2022 -    │\n",
       "│ i64      ┆ Days      ┆ Days      ┆ Days      ┆   ┆ Days      ┆ Days      ┆ Days      ┆ Total     │\n",
       "│          ┆ ---       ┆ ---       ┆ ---       ┆   ┆ ---       ┆ ---       ┆ ---       ┆ Arrearag… │\n",
       "│          ┆ f64       ┆ f64       ┆ f64       ┆   ┆ f64       ┆ f64       ┆ f64       ┆ ---       │\n",
       "│          ┆           ┆           ┆           ┆   ┆           ┆           ┆           ┆ f64       │\n",
       "╞══════════╪═══════════╪═══════════╪═══════════╪═══╪═══════════╪═══════════╪═══════════╪═══════════╡\n",
       "│ 10407700 ┆ 507564.97 ┆ 301720.52 ┆ 678301.81 ┆ … ┆ 285735.2  ┆ 294593.43 ┆ 1453869.5 ┆ 2.0342e6  │\n",
       "└──────────┴───────────┴───────────┴───────────┴───┴───────────┴───────────┴───────────┴───────────┘"
      ]
     },
     "execution_count": 19,
     "metadata": {},
     "output_type": "execute_result"
    }
   ],
   "source": [
    "kli_arrearages = kli_arrearages.with_columns(\n",
    "    [pl.col(col).cast(pl.Float64, strict=False) for col in kli_arrearages.columns[1:]]\n",
    ").fill_null(0)\n",
    "kli_arrearages = kli_arrearages.with_columns(pl.col(\"Zip Code\").cast(pl.Int64))\n",
    "kli_arrearages.sum()"
   ]
  },
  {
   "cell_type": "markdown",
   "metadata": {},
   "source": []
  }
 ],
 "metadata": {
  "kernelspec": {
   "display_name": ".venv",
   "language": "python",
   "name": "python3"
  },
  "language_info": {
   "codemirror_mode": {
    "name": "ipython",
    "version": 3
   },
   "file_extension": ".py",
   "mimetype": "text/x-python",
   "name": "python",
   "nbconvert_exporter": "python",
   "pygments_lexer": "ipython3",
   "version": "3.12.6"
  }
 },
 "nbformat": 4,
 "nbformat_minor": 2
}
