{
 "cells": [
  {
   "cell_type": "code",
   "execution_count": 8,
   "metadata": {},
   "outputs": [],
   "source": [
    "import polars as pl\n",
    "\n",
    "import nwec.utility_reporting.arrearages\n",
    "import nwec.utils.excel\n",
    "from nwec.constants import CLEAN_UTILITY_DATA, RAW_UTILITY_DATA\n",
    "\n",
    "YEAR = 2023\n",
    "NUM_MONTHS = 6\n",
    "COLS_PER_MONTH = 9\n",
    "SHEET_SEARCH_STRING = \"Past Due Balances\"\n",
    "ARREARAGE_SEARCH_STRING = \"number of past-due balances\"\n",
    "KLI_SEARCH_STRING = \"known low-income\"\n",
    "spreadsheet = RAW_UTILITY_DATA / str(YEAR) / \"cng.xlsx\""
   ]
  },
  {
   "cell_type": "code",
   "execution_count": 9,
   "metadata": {},
   "outputs": [],
   "source": [
    "sheet_index = nwec.utils.excel.get_sheet_index_from_name(spreadsheet, SHEET_SEARCH_STRING)\n",
    "df = pl.read_excel(spreadsheet, sheet_id=sheet_index, has_header=False)\n",
    "arrearages = nwec.utility_reporting.arrearages.get_arrearages_df(\n",
    "    df, NUM_MONTHS, COLS_PER_MONTH, ARREARAGE_SEARCH_STRING\n",
    ")\n",
    "kli_arrearages = nwec.utility_reporting.arrearages.get_arrearages_df(df, NUM_MONTHS, COLS_PER_MONTH, KLI_SEARCH_STRING)"
   ]
  },
  {
   "cell_type": "markdown",
   "metadata": {},
   "source": [
    "# Arrearages"
   ]
  },
  {
   "cell_type": "code",
   "execution_count": 10,
   "metadata": {},
   "outputs": [],
   "source": [
    "date_to_zip_offset = 1\n",
    "source_date_format = \"%Y-%m-%d %H:%M:%S\"\n",
    "\n",
    "arrearages = nwec.utility_reporting.arrearages.combine_arrearage_year_vintage_cols(\n",
    "    arrearages, NUM_MONTHS, COLS_PER_MONTH, date_to_zip_offset, source_date_format\n",
    ")"
   ]
  },
  {
   "cell_type": "code",
   "execution_count": 11,
   "metadata": {},
   "outputs": [
    {
     "data": {
      "text/html": [
       "<div><style>\n",
       ".dataframe > thead > tr,\n",
       ".dataframe > tbody > tr {\n",
       "  text-align: right;\n",
       "  white-space: pre-wrap;\n",
       "}\n",
       "</style>\n",
       "<small>shape: (1, 43)</small><table border=\"1\" class=\"dataframe\"><thead><tr><th>Zip Code</th><th>01 2023 30 Days Arrears</th><th>01 2023 30 Days Cust</th><th>01 2023 60 Days Arrears</th><th>01 2023 60 Days Cust</th><th>01 2023 90 Days Arrears</th><th>01 2023 90 Days Cust</th><th>01 2023 Total Arrearages</th><th>02 2023 30 Days Arrears</th><th>02 2023 30 Days Cust</th><th>02 2023 60 Days Arrears</th><th>02 2023 60 Days Cust</th><th>02 2023 90 Days Arrears</th><th>02 2023 90 Days Cust</th><th>02 2023 Total Arrearages</th><th>03 2023 30 Days Arrears</th><th>03 2023 30 Days Cust</th><th>03 2023 60 Days Arrears</th><th>03 2023 60 Days Cust</th><th>03 2023 90 Days Arrears</th><th>03 2023 90 Days Cust</th><th>03 2023 Total Arrearages</th><th>04 2023 30 Days Arrears</th><th>04 2023 30 Days Cust</th><th>04 2023 60 Days Arrears</th><th>04 2023 60 Days Cust</th><th>04 2023 90 Days Arrears</th><th>04 2023 90 Days Cust</th><th>04 2023 Total Arrearages</th><th>05 2023 30 Days Arrears</th><th>05 2023 30 Days Cust</th><th>05 2023 60 Days Arrears</th><th>05 2023 60 Days Cust</th><th>05 2023 90 Days Arrears</th><th>05 2023 90 Days Cust</th><th>05 2023 Total Arrearages</th><th>06 2023 30 Days Arrears</th><th>06 2023 30 Days Cust</th><th>06 2023 60 Days Arrears</th><th>06 2023 60 Days Cust</th><th>06 2023 90 Days Arrears</th><th>06 2023 90 Days Cust</th><th>06 2023 Total Arrearages</th></tr><tr><td>i32</td><td>f64</td><td>f64</td><td>f64</td><td>f64</td><td>f64</td><td>f64</td><td>f64</td><td>f64</td><td>f64</td><td>f64</td><td>f64</td><td>f64</td><td>f64</td><td>f64</td><td>f64</td><td>f64</td><td>f64</td><td>f64</td><td>f64</td><td>f64</td><td>f64</td><td>f64</td><td>f64</td><td>f64</td><td>f64</td><td>f64</td><td>f64</td><td>f64</td><td>f64</td><td>f64</td><td>f64</td><td>f64</td><td>f64</td><td>f64</td><td>f64</td><td>f64</td><td>f64</td><td>f64</td><td>f64</td><td>f64</td><td>f64</td><td>f64</td></tr></thead><tbody><tr><td>7397559</td><td>2.2030e6</td><td>10287.0</td><td>468038.9</td><td>2860.0</td><td>677420.3</td><td>4374.0</td><td>3.3485e6</td><td>2.3995e6</td><td>10773.0</td><td>971746.99</td><td>4345.0</td><td>657843.99</td><td>3642.0</td><td>4.0291e6</td><td>1.3589e6</td><td>5786.0</td><td>897098.47</td><td>3388.0</td><td>864093.54</td><td>3789.0</td><td>3.1201e6</td><td>2.3270e6</td><td>11028.0</td><td>782139.67</td><td>2970.0</td><td>1.2782e6</td><td>4987.0</td><td>4.3873e6</td><td>1.3189e6</td><td>7166.0</td><td>1.0496e6</td><td>4070.0</td><td>1391526.2</td><td>4798.0</td><td>3.7600e6</td><td>541193.93</td><td>3881.0</td><td>660744.18</td><td>2739.0</td><td>1.5275e6</td><td>4821.0</td><td>2.7294e6</td></tr></tbody></table></div>"
      ],
      "text/plain": [
       "shape: (1, 43)\n",
       "┌──────────┬───────────┬───────────┬───────────┬───┬───────────┬───────────┬───────────┬───────────┐\n",
       "│ Zip Code ┆ 01 2023   ┆ 01 2023   ┆ 01 2023   ┆ … ┆ 06 2023   ┆ 06 2023   ┆ 06 2023   ┆ 06 2023   │\n",
       "│ ---      ┆ 30 Days   ┆ 30 Days   ┆ 60 Days   ┆   ┆ 60 Days   ┆ 90 Days   ┆ 90 Days   ┆ Total Arr │\n",
       "│ i32      ┆ Arrears   ┆ Cust      ┆ Arrears   ┆   ┆ Cust      ┆ Arrears   ┆ Cust      ┆ earages   │\n",
       "│          ┆ ---       ┆ ---       ┆ ---       ┆   ┆ ---       ┆ ---       ┆ ---       ┆ ---       │\n",
       "│          ┆ f64       ┆ f64       ┆ f64       ┆   ┆ f64       ┆ f64       ┆ f64       ┆ f64       │\n",
       "╞══════════╪═══════════╪═══════════╪═══════════╪═══╪═══════════╪═══════════╪═══════════╪═══════════╡\n",
       "│ 7397559  ┆ 2.2030e6  ┆ 10287.0   ┆ 468038.9  ┆ … ┆ 2739.0    ┆ 1.5275e6  ┆ 4821.0    ┆ 2.7294e6  │\n",
       "└──────────┴───────────┴───────────┴───────────┴───┴───────────┴───────────┴───────────┴───────────┘"
      ]
     },
     "execution_count": 11,
     "metadata": {},
     "output_type": "execute_result"
    }
   ],
   "source": [
    "arrearages.sum()"
   ]
  },
  {
   "cell_type": "markdown",
   "metadata": {},
   "source": [
    "# KLI Arrearages"
   ]
  },
  {
   "cell_type": "code",
   "execution_count": 12,
   "metadata": {},
   "outputs": [],
   "source": [
    "date_to_zip_offset = 1\n",
    "source_date_format = \"%Y-%m-%d %H:%M:%S\"\n",
    "\n",
    "kli_arrearages = nwec.utility_reporting.arrearages.combine_arrearage_year_vintage_cols(\n",
    "    kli_arrearages, NUM_MONTHS, COLS_PER_MONTH, date_to_zip_offset, source_date_format\n",
    ")"
   ]
  },
  {
   "cell_type": "code",
   "execution_count": 13,
   "metadata": {},
   "outputs": [
    {
     "data": {
      "text/html": [
       "<div><style>\n",
       ".dataframe > thead > tr,\n",
       ".dataframe > tbody > tr {\n",
       "  text-align: right;\n",
       "  white-space: pre-wrap;\n",
       "}\n",
       "</style>\n",
       "<small>shape: (1, 43)</small><table border=\"1\" class=\"dataframe\"><thead><tr><th>Zip Code</th><th>01 2023 30 Days Arrears</th><th>01 2023 30 Days Cust</th><th>01 2023 60 Days Arrears</th><th>01 2023 60 Days Cust</th><th>01 2023 90 Days Arrears</th><th>01 2023 90 Days Cust</th><th>01 2023 Total Arrearages</th><th>02 2023 30 Days Arrears</th><th>02 2023 30 Days Cust</th><th>02 2023 60 Days Arrears</th><th>02 2023 60 Days Cust</th><th>02 2023 90 Days Arrears</th><th>02 2023 90 Days Cust</th><th>02 2023 Total Arrearages</th><th>03 2023 30 Days Arrears</th><th>03 2023 30 Days Cust</th><th>03 2023 60 Days Arrears</th><th>03 2023 60 Days Cust</th><th>03 2023 90 Days Arrears</th><th>03 2023 90 Days Cust</th><th>03 2023 Total Arrearages</th><th>04 2023 30 Days Arrears</th><th>04 2023 30 Days Cust</th><th>04 2023 60 Days Arrears</th><th>04 2023 60 Days Cust</th><th>04 2023 90 Days Arrears</th><th>04 2023 90 Days Cust</th><th>04 2023 Total Arrearages</th><th>05 2023 30 Days Arrears</th><th>05 2023 30 Days Cust</th><th>05 2023 60 Days Arrears</th><th>05 2023 60 Days Cust</th><th>05 2023 90 Days Arrears</th><th>05 2023 90 Days Cust</th><th>05 2023 Total Arrearages</th><th>06 2023 30 Days Arrears</th><th>06 2023 30 Days Cust</th><th>06 2023 60 Days Arrears</th><th>06 2023 60 Days Cust</th><th>06 2023 90 Days Arrears</th><th>06 2023 90 Days Cust</th><th>06 2023 Total Arrearages</th></tr><tr><td>i32</td><td>f64</td><td>f64</td><td>f64</td><td>f64</td><td>f64</td><td>f64</td><td>f64</td><td>f64</td><td>f64</td><td>f64</td><td>f64</td><td>f64</td><td>f64</td><td>f64</td><td>f64</td><td>f64</td><td>f64</td><td>f64</td><td>f64</td><td>f64</td><td>f64</td><td>f64</td><td>f64</td><td>f64</td><td>f64</td><td>f64</td><td>f64</td><td>f64</td><td>f64</td><td>f64</td><td>f64</td><td>f64</td><td>f64</td><td>f64</td><td>f64</td><td>f64</td><td>f64</td><td>f64</td><td>f64</td><td>f64</td><td>f64</td><td>f64</td></tr></thead><tbody><tr><td>4833653</td><td>59171.7</td><td>272.0</td><td>13062.96</td><td>100.0</td><td>10538.34</td><td>92.0</td><td>82773.0</td><td>72952.59</td><td>254.0</td><td>36581.08</td><td>183.0</td><td>12757.06</td><td>98.0</td><td>122290.73</td><td>46886.43</td><td>170.0</td><td>38246.19</td><td>149.0</td><td>27911.4</td><td>149.0</td><td>113044.02</td><td>77713.6</td><td>274.0</td><td>31271.93</td><td>129.0</td><td>44158.79</td><td>178.0</td><td>153144.32</td><td>43860.27</td><td>163.0</td><td>41358.92</td><td>159.0</td><td>50015.09</td><td>186.0</td><td>135234.28</td><td>27945.36</td><td>106.0</td><td>30900.19</td><td>119.0</td><td>61709.75</td><td>229.0</td><td>120555.3</td></tr></tbody></table></div>"
      ],
      "text/plain": [
       "shape: (1, 43)\n",
       "┌──────────┬───────────┬───────────┬───────────┬───┬───────────┬───────────┬───────────┬───────────┐\n",
       "│ Zip Code ┆ 01 2023   ┆ 01 2023   ┆ 01 2023   ┆ … ┆ 06 2023   ┆ 06 2023   ┆ 06 2023   ┆ 06 2023   │\n",
       "│ ---      ┆ 30 Days   ┆ 30 Days   ┆ 60 Days   ┆   ┆ 60 Days   ┆ 90 Days   ┆ 90 Days   ┆ Total Arr │\n",
       "│ i32      ┆ Arrears   ┆ Cust      ┆ Arrears   ┆   ┆ Cust      ┆ Arrears   ┆ Cust      ┆ earages   │\n",
       "│          ┆ ---       ┆ ---       ┆ ---       ┆   ┆ ---       ┆ ---       ┆ ---       ┆ ---       │\n",
       "│          ┆ f64       ┆ f64       ┆ f64       ┆   ┆ f64       ┆ f64       ┆ f64       ┆ f64       │\n",
       "╞══════════╪═══════════╪═══════════╪═══════════╪═══╪═══════════╪═══════════╪═══════════╪═══════════╡\n",
       "│ 4833653  ┆ 59171.7   ┆ 272.0     ┆ 13062.96  ┆ … ┆ 119.0     ┆ 61709.75  ┆ 229.0     ┆ 120555.3  │\n",
       "└──────────┴───────────┴───────────┴───────────┴───┴───────────┴───────────┴───────────┴───────────┘"
      ]
     },
     "execution_count": 13,
     "metadata": {},
     "output_type": "execute_result"
    }
   ],
   "source": [
    "kli_arrearages.sum()"
   ]
  },
  {
   "cell_type": "markdown",
   "metadata": {},
   "source": [
    "# Save Output"
   ]
  },
  {
   "cell_type": "code",
   "execution_count": 14,
   "metadata": {},
   "outputs": [],
   "source": [
    "arrearages = nwec.utility_reporting.arrearages.normalize_arrearage_cols(arrearages, NUM_MONTHS)\n",
    "arrearages = arrearages.with_columns(pl.lit(\"CNG\").alias(\"Utility\"))\n",
    "arrearages = arrearages.with_columns(pl.lit(\"Residential\").alias(\"Customer Class\"))\n",
    "\n",
    "kli_arrearages = nwec.utility_reporting.arrearages.normalize_arrearage_cols(kli_arrearages, NUM_MONTHS)\n",
    "kli_arrearages = kli_arrearages.with_columns(pl.lit(\"CNG\").alias(\"Utility\"))\n",
    "kli_arrearages = kli_arrearages.with_columns(pl.lit(\"KLI\").alias(\"Customer Class\"))\n",
    "\n",
    "pl.concat([arrearages, kli_arrearages]).write_ipc(CLEAN_UTILITY_DATA / \"cng.arrow\")"
   ]
  }
 ],
 "metadata": {
  "kernelspec": {
   "display_name": ".venv",
   "language": "python",
   "name": "python3"
  },
  "language_info": {
   "codemirror_mode": {
    "name": "ipython",
    "version": 3
   },
   "file_extension": ".py",
   "mimetype": "text/x-python",
   "name": "python",
   "nbconvert_exporter": "python",
   "pygments_lexer": "ipython3",
   "version": "3.12.6"
  }
 },
 "nbformat": 4,
 "nbformat_minor": 2
}
