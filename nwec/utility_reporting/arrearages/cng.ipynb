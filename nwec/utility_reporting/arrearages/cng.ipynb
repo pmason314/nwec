{
 "cells": [
  {
   "cell_type": "code",
   "execution_count": 1,
   "metadata": {},
   "outputs": [],
   "source": [
    "import datetime\n",
    "\n",
    "import polars as pl\n",
    "\n",
    "import nwec.utility_reporting.arrearages\n",
    "import nwec.utils.excel\n",
    "from nwec.constants import DATA\n",
    "\n",
    "YEAR = 2024\n",
    "NUM_MONTHS = 6\n",
    "COLS_PER_MONTH = 9\n",
    "spreadsheet = DATA / f\"utility_reporting/cng/cng_{YEAR}.xlsx\""
   ]
  },
  {
   "cell_type": "markdown",
   "metadata": {},
   "source": [
    "# Arrearages"
   ]
  },
  {
   "cell_type": "code",
   "execution_count": 2,
   "metadata": {},
   "outputs": [],
   "source": [
    "arrearages_index = nwec.utils.excel.get_sheet_index_from_name(spreadsheet, \"Past Due Balances\")\n",
    "df = pl.read_excel(spreadsheet, sheet_id=arrearages_index, has_header=False)"
   ]
  },
  {
   "cell_type": "code",
   "execution_count": 3,
   "metadata": {},
   "outputs": [],
   "source": [
    "_, arrearage_start_index = nwec.utils.excel.find_unpromoted_header(df, \"number of past-due balances\")\n",
    "\n",
    "# Set up arrearages-specific DF with built-in space for the zip code and customer class columns\n",
    "arrearages = df.select(df.columns[arrearage_start_index : arrearage_start_index + NUM_MONTHS * COLS_PER_MONTH + 2])\n",
    "arrearages = nwec.utility_reporting.arrearages.normalize_zip_class_cols(df, arrearages)"
   ]
  },
  {
   "cell_type": "code",
   "execution_count": 4,
   "metadata": {},
   "outputs": [],
   "source": [
    "zip_index = nwec.utils.excel.find_unpromoted_header(arrearages, \"Zip Code\")\n",
    "new_columns = arrearages.select(arrearages.columns[2:][:-2]).slice(zip_index[0] - 1, 1).to_dicts()[0]\n",
    "vintage_cols = arrearages.select(arrearages.columns[2:][:-2]).slice(zip_index[0], 1).to_dicts()[0]\n",
    "months = list({k: v for k, v in new_columns.items() if v is not None}.values())\n",
    "\n",
    "for counter, col in enumerate(vintage_cols):\n",
    "    current_month = months[counter // COLS_PER_MONTH]\n",
    "    date = datetime.datetime.strptime(current_month, \"%Y-%m-%d %H:%M:%S\").astimezone(datetime.UTC)\n",
    "    new_columns[col] = date.strftime(\"%B %Y\")\n",
    "    new_columns[col] = new_columns[col] + \" \" + vintage_cols[col]\n",
    "new_columns = new_columns | {\"Zip Code\": \"Zip Code\", \"Customer Class\": \"Customer Class\"}"
   ]
  },
  {
   "cell_type": "code",
   "execution_count": 5,
   "metadata": {},
   "outputs": [],
   "source": [
    "arrearages = arrearages.rename(new_columns).select(list(new_columns.values()))\n",
    "arrearages = arrearages.filter(~pl.all_horizontal(pl.all().is_null()))\n",
    "arrearages = arrearages.filter(pl.col(\"Customer Class\").str.contains(r\"(?i)resident\")).drop(pl.col(\"Customer Class\"))\n",
    "arrearages = pl.concat(\n",
    "    [arrearages.select(\"Zip Code\"), arrearages.drop(pl.selectors.matches(r\"(?i)zip|customer class\"))], how=\"horizontal\"\n",
    ")\n",
    "arrearages = arrearages.with_columns([pl.col(col).cast(pl.Float64, strict=False) for col in arrearages.columns[1:]])"
   ]
  },
  {
   "cell_type": "code",
   "execution_count": 6,
   "metadata": {},
   "outputs": [
    {
     "data": {
      "text/html": [
       "<div><style>\n",
       ".dataframe > thead > tr,\n",
       ".dataframe > tbody > tr {\n",
       "  text-align: right;\n",
       "  white-space: pre-wrap;\n",
       "}\n",
       "</style>\n",
       "<small>shape: (1, 43)</small><table border=\"1\" class=\"dataframe\"><thead><tr><th>Zip Code</th><th>January 2024 30 Days Arrears</th><th>January 2024 30 Days Cust</th><th>January 2024 60 Days Arrears</th><th>January 2024 60 Days Cust</th><th>January 2024 90 Days Arrears</th><th>January 2024 90 Days Cust</th><th>January 2024 Total Arrearages</th><th>February 2024 30 Days Arrears</th><th>February 2024 30 Days Cust</th><th>February 2024 60 Days Arrears</th><th>February 2024 60 Days Cust</th><th>February 2024 90 Days Arrears</th><th>February 2024 90 Days Cust</th><th>February 2024 Total Arrearages</th><th>March 2024 30 Days Arrears</th><th>March 2024 30 Days Cust</th><th>March 2024 60 Days Arrears</th><th>March 2024 60 Days Cust</th><th>March 2024 90 Days Arrears</th><th>March 2024 90 Days Cust</th><th>March 2024 Total Arrearages</th><th>April 2024 30 Days Arrears</th><th>April 2024 30 Days Cust</th><th>April 2024 60 Days Arrears</th><th>April 2024 60 Days Cust</th><th>April 2024 90 Days Arrears</th><th>April 2024 90 Days Cust</th><th>April 2024 Total Arrearages</th><th>May 2024 30 Days Arrears</th><th>May 2024 30 Days Cust</th><th>May 2024 60 Days Arrears</th><th>May 2024 60 Days Cust</th><th>May 2024 90 Days Arrears</th><th>May 2024 90 Days Cust</th><th>May 2024 Total Arrearages</th><th>June 2024 30 Days Arrears</th><th>June 2024 30 Days Cust</th><th>June 2024 60 Days Arrears</th><th>June 2024 60 Days Cust</th><th>June 2024 90 Days Arrears</th><th>June 2024 90 Days Cust</th><th>June 2024 Total Arrearages</th></tr><tr><td>str</td><td>f64</td><td>f64</td><td>f64</td><td>f64</td><td>f64</td><td>f64</td><td>f64</td><td>f64</td><td>f64</td><td>f64</td><td>f64</td><td>f64</td><td>f64</td><td>f64</td><td>f64</td><td>f64</td><td>f64</td><td>f64</td><td>f64</td><td>f64</td><td>f64</td><td>f64</td><td>f64</td><td>f64</td><td>f64</td><td>f64</td><td>f64</td><td>f64</td><td>f64</td><td>f64</td><td>f64</td><td>f64</td><td>f64</td><td>f64</td><td>f64</td><td>f64</td><td>f64</td><td>f64</td><td>f64</td><td>f64</td><td>f64</td><td>f64</td></tr></thead><tbody><tr><td>null</td><td>1.5643e6</td><td>8994.0</td><td>477846.7</td><td>3231.0</td><td>495500.19</td><td>3958.0</td><td>2.5377e6</td><td>1.7507e6</td><td>8346.0</td><td>594804.61</td><td>3400.0</td><td>497099.93</td><td>3250.0</td><td>2.8426e6</td><td>2.0402e6</td><td>9644.0</td><td>1.0894e6</td><td>5219.0</td><td>655486.48</td><td>3948.0</td><td>3785031.3</td><td>1.6016e6</td><td>7566.0</td><td>954606.38</td><td>4208.0</td><td>953093.16</td><td>4652.0</td><td>3.5093e6</td><td>1.1611e6</td><td>7902.0</td><td>823555.85</td><td>3754.0</td><td>1.1140e6</td><td>5184.0</td><td>3.0987e6</td><td>981580.56</td><td>8791.0</td><td>709077.18</td><td>4416.0</td><td>1.3371e6</td><td>6235.0</td><td>3.0277e6</td></tr></tbody></table></div>"
      ],
      "text/plain": [
       "shape: (1, 43)\n",
       "┌──────────┬───────────┬───────────┬───────────┬───┬───────────┬───────────┬───────────┬───────────┐\n",
       "│ Zip Code ┆ January   ┆ January   ┆ January   ┆ … ┆ June 2024 ┆ June 2024 ┆ June 2024 ┆ June 2024 │\n",
       "│ ---      ┆ 2024 30   ┆ 2024 30   ┆ 2024 60   ┆   ┆ 60 Days   ┆ 90 Days   ┆ 90 Days   ┆ Total Arr │\n",
       "│ str      ┆ Days      ┆ Days Cust ┆ Days      ┆   ┆ Cust      ┆ Arrears   ┆ Cust      ┆ earages   │\n",
       "│          ┆ Arrears   ┆ ---       ┆ Arrears   ┆   ┆ ---       ┆ ---       ┆ ---       ┆ ---       │\n",
       "│          ┆ ---       ┆ f64       ┆ ---       ┆   ┆ f64       ┆ f64       ┆ f64       ┆ f64       │\n",
       "│          ┆ f64       ┆           ┆ f64       ┆   ┆           ┆           ┆           ┆           │\n",
       "╞══════════╪═══════════╪═══════════╪═══════════╪═══╪═══════════╪═══════════╪═══════════╪═══════════╡\n",
       "│ null     ┆ 1.5643e6  ┆ 8994.0    ┆ 477846.7  ┆ … ┆ 4416.0    ┆ 1.3371e6  ┆ 6235.0    ┆ 3.0277e6  │\n",
       "└──────────┴───────────┴───────────┴───────────┴───┴───────────┴───────────┴───────────┴───────────┘"
      ]
     },
     "execution_count": 6,
     "metadata": {},
     "output_type": "execute_result"
    }
   ],
   "source": [
    "arrearages.sum()"
   ]
  },
  {
   "cell_type": "markdown",
   "metadata": {},
   "source": [
    "# KLI Arrearages\n",
    "Almost the same as arrearages, but with different search string.  Also they swapped the order of customer class and zip code columns for whatever reason"
   ]
  },
  {
   "cell_type": "code",
   "execution_count": 7,
   "metadata": {},
   "outputs": [],
   "source": [
    "kli_arrearages_index = nwec.utils.excel.get_sheet_index_from_name(spreadsheet, \"Past Due Balances\")\n",
    "df = pl.read_excel(spreadsheet, sheet_id=kli_arrearages_index, has_header=False)"
   ]
  },
  {
   "cell_type": "code",
   "execution_count": 8,
   "metadata": {},
   "outputs": [],
   "source": [
    "_, kli_arrearage_start_index = nwec.utils.excel.find_unpromoted_header(df, \"known low-income\")\n",
    "\n",
    "# Set up arrearages-specific DF with built-in space for the zip code and customer class columns\n",
    "kli_arrearages = df.select(\n",
    "    df.columns[kli_arrearage_start_index : kli_arrearage_start_index + NUM_MONTHS * COLS_PER_MONTH + 2]\n",
    ")\n",
    "kli_arrearages = nwec.utility_reporting.arrearages.normalize_zip_class_cols(df, kli_arrearages)"
   ]
  },
  {
   "cell_type": "code",
   "execution_count": 9,
   "metadata": {},
   "outputs": [],
   "source": [
    "zip_index = nwec.utils.excel.find_unpromoted_header(kli_arrearages, \"Zip Code\")\n",
    "new_columns = kli_arrearages.select(kli_arrearages.columns[2:][:-2]).slice(zip_index[0] - 1, 1).to_dicts()[0]\n",
    "vintage_cols = kli_arrearages.select(kli_arrearages.columns[2:][:-2]).slice(zip_index[0], 1).to_dicts()[0]\n",
    "months = list({k: v for k, v in new_columns.items() if v is not None}.values())\n",
    "\n",
    "for counter, col in enumerate(vintage_cols):\n",
    "    current_month = months[counter // COLS_PER_MONTH]\n",
    "    date = datetime.datetime.strptime(current_month, \"%Y-%m-%d %H:%M:%S\").astimezone(datetime.UTC)\n",
    "    new_columns[col] = date.strftime(\"%B %Y\")\n",
    "    new_columns[col] = new_columns[col] + \" \" + vintage_cols[col]\n",
    "new_columns = new_columns | {\"Zip Code\": \"Zip Code\", \"Customer Class\": \"Customer Class\"}"
   ]
  },
  {
   "cell_type": "code",
   "execution_count": 10,
   "metadata": {},
   "outputs": [],
   "source": [
    "kli_arrearages = kli_arrearages.rename(new_columns).select(list(new_columns.values()))\n",
    "kli_arrearages = kli_arrearages.filter(~pl.all_horizontal(pl.all().is_null()))\n",
    "kli_arrearages = kli_arrearages.filter(pl.col(\"Customer Class\").str.contains(r\"(?i)resident\")).drop(\n",
    "    pl.col(\"Customer Class\")\n",
    ")\n",
    "kli_arrearages = pl.concat(\n",
    "    [kli_arrearages.select(\"Zip Code\"), kli_arrearages.drop(pl.selectors.matches(r\"(?i)zip|customer class\"))],\n",
    "    how=\"horizontal\",\n",
    ")\n",
    "kli_arrearages = kli_arrearages.with_columns(\n",
    "    [pl.col(col).cast(pl.Float64, strict=False) for col in kli_arrearages.columns[1:]]\n",
    ")"
   ]
  },
  {
   "cell_type": "code",
   "execution_count": 11,
   "metadata": {},
   "outputs": [
    {
     "data": {
      "text/html": [
       "<div><style>\n",
       ".dataframe > thead > tr,\n",
       ".dataframe > tbody > tr {\n",
       "  text-align: right;\n",
       "  white-space: pre-wrap;\n",
       "}\n",
       "</style>\n",
       "<small>shape: (1, 43)</small><table border=\"1\" class=\"dataframe\"><thead><tr><th>Zip Code</th><th>January 2024 30 Days Arrears</th><th>January 2024 30 Days Cust</th><th>January 2024 60 Days Arrears</th><th>January 2024 60 Days Cust</th><th>January 2024 90 Days Arrears</th><th>January 2024 90 Days Cust</th><th>January 2024 Total Arrearages</th><th>February 2024 30 Days Arrears</th><th>February 2024 30 Days Cust</th><th>February 2024 60 Days Arrears</th><th>February 2024 60 Days Cust</th><th>February 2024 90 Days Arrears</th><th>February 2024 90 Days Cust</th><th>February 2024 Total Arrearages</th><th>March 2024 30 Days Arrears</th><th>March 2024 30 Days Cust</th><th>March 2024 60 Days Arrears</th><th>March 2024 60 Days Cust</th><th>March 2024 90 Days Arrears</th><th>March 2024 90 Days Cust</th><th>March 2024 Total Arrearages</th><th>April 2024 30 Days Arrears</th><th>April 2024 30 Days Cust</th><th>April 2024 60 Days Arrears</th><th>April 2024 60 Days Cust</th><th>April 2024 90 Days Arrears</th><th>April 2024 90 Days Cust</th><th>April 2024 Total Arrearages</th><th>May 2024 30 Days Arrears</th><th>May 2024 30 Days Cust</th><th>May 2024 60 Days Arrears</th><th>May 2024 60 Days Cust</th><th>May 2024 90 Days Arrears</th><th>May 2024 90 Days Cust</th><th>May 2024 Total Arrearages</th><th>June 2024 30 Days Arrears</th><th>June 2024 30 Days Cust</th><th>June 2024 60 Days Arrears</th><th>June 2024 60 Days Cust</th><th>June 2024 90 Days Arrears</th><th>June 2024 90 Days Cust</th><th>June 2024 Total Arrearages</th></tr><tr><td>str</td><td>f64</td><td>f64</td><td>f64</td><td>f64</td><td>f64</td><td>f64</td><td>f64</td><td>f64</td><td>f64</td><td>f64</td><td>f64</td><td>f64</td><td>f64</td><td>f64</td><td>f64</td><td>f64</td><td>f64</td><td>f64</td><td>f64</td><td>f64</td><td>f64</td><td>f64</td><td>f64</td><td>f64</td><td>f64</td><td>f64</td><td>f64</td><td>f64</td><td>f64</td><td>f64</td><td>f64</td><td>f64</td><td>f64</td><td>f64</td><td>f64</td><td>f64</td><td>f64</td><td>f64</td><td>f64</td><td>f64</td><td>f64</td><td>f64</td></tr></thead><tbody><tr><td>null</td><td>37980.28</td><td>212.0</td><td>14421.73</td><td>76.0</td><td>24308.45</td><td>137.0</td><td>76710.46</td><td>42867.52</td><td>193.0</td><td>24452.65</td><td>124.0</td><td>25340.89</td><td>137.0</td><td>92661.06</td><td>39462.79</td><td>162.0</td><td>25831.87</td><td>111.0</td><td>27596.23</td><td>126.0</td><td>92890.89</td><td>30089.83</td><td>148.0</td><td>24131.32</td><td>103.0</td><td>32790.1</td><td>139.0</td><td>87011.25</td><td>19222.34</td><td>96.0</td><td>18408.14</td><td>94.0</td><td>34336.19</td><td>145.0</td><td>71966.67</td><td>15416.11</td><td>100.0</td><td>12470.58</td><td>63.0</td><td>29702.61</td><td>145.0</td><td>57589.3</td></tr></tbody></table></div>"
      ],
      "text/plain": [
       "shape: (1, 43)\n",
       "┌──────────┬───────────┬───────────┬───────────┬───┬───────────┬───────────┬───────────┬───────────┐\n",
       "│ Zip Code ┆ January   ┆ January   ┆ January   ┆ … ┆ June 2024 ┆ June 2024 ┆ June 2024 ┆ June 2024 │\n",
       "│ ---      ┆ 2024 30   ┆ 2024 30   ┆ 2024 60   ┆   ┆ 60 Days   ┆ 90 Days   ┆ 90 Days   ┆ Total Arr │\n",
       "│ str      ┆ Days      ┆ Days Cust ┆ Days      ┆   ┆ Cust      ┆ Arrears   ┆ Cust      ┆ earages   │\n",
       "│          ┆ Arrears   ┆ ---       ┆ Arrears   ┆   ┆ ---       ┆ ---       ┆ ---       ┆ ---       │\n",
       "│          ┆ ---       ┆ f64       ┆ ---       ┆   ┆ f64       ┆ f64       ┆ f64       ┆ f64       │\n",
       "│          ┆ f64       ┆           ┆ f64       ┆   ┆           ┆           ┆           ┆           │\n",
       "╞══════════╪═══════════╪═══════════╪═══════════╪═══╪═══════════╪═══════════╪═══════════╪═══════════╡\n",
       "│ null     ┆ 37980.28  ┆ 212.0     ┆ 14421.73  ┆ … ┆ 63.0      ┆ 29702.61  ┆ 145.0     ┆ 57589.3   │\n",
       "└──────────┴───────────┴───────────┴───────────┴───┴───────────┴───────────┴───────────┴───────────┘"
      ]
     },
     "execution_count": 11,
     "metadata": {},
     "output_type": "execute_result"
    }
   ],
   "source": [
    "kli_arrearages.sum()"
   ]
  }
 ],
 "metadata": {
  "kernelspec": {
   "display_name": ".venv",
   "language": "python",
   "name": "python3"
  },
  "language_info": {
   "codemirror_mode": {
    "name": "ipython",
    "version": 3
   },
   "file_extension": ".py",
   "mimetype": "text/x-python",
   "name": "python",
   "nbconvert_exporter": "python",
   "pygments_lexer": "ipython3",
   "version": "3.12.6"
  }
 },
 "nbformat": 4,
 "nbformat_minor": 2
}
