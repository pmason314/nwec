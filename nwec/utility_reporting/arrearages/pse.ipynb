{
 "cells": [
  {
   "cell_type": "code",
   "execution_count": 1,
   "metadata": {},
   "outputs": [],
   "source": [
    "import polars as pl\n",
    "\n",
    "import nwec.utility_reporting.arrearages\n",
    "import nwec.utils.excel\n",
    "from nwec.constants import UTILITY_DATA\n",
    "\n",
    "YEAR = 2024\n",
    "NUM_MONTHS = 3\n",
    "COLS_PER_MONTH = 4\n",
    "SHEET_SEARCH_STRING = \"Past Due Balances\"\n",
    "ARREARAGE_SEARCH_STRING = \"Past-due balances by customer class and number of days\"\n",
    "KLI_SEARCH_STRING = \"past-due balances for known low-income\"\n",
    "spreadsheet = UTILITY_DATA / f\"pse/pse_{YEAR}.xlsx\""
   ]
  },
  {
   "cell_type": "code",
   "execution_count": 2,
   "metadata": {},
   "outputs": [],
   "source": [
    "sheet_index = nwec.utils.excel.get_sheet_index_from_name(spreadsheet, SHEET_SEARCH_STRING)\n",
    "df = pl.read_excel(spreadsheet, sheet_id=sheet_index, has_header=False)\n",
    "arrearages = nwec.utility_reporting.arrearages.get_arrearages_df(\n",
    "    df, NUM_MONTHS, COLS_PER_MONTH, ARREARAGE_SEARCH_STRING\n",
    ")\n",
    "kli_arrearages = nwec.utility_reporting.arrearages.get_arrearages_df(df, NUM_MONTHS, COLS_PER_MONTH, KLI_SEARCH_STRING)"
   ]
  },
  {
   "cell_type": "markdown",
   "metadata": {},
   "source": [
    "# Arrearages"
   ]
  },
  {
   "cell_type": "code",
   "execution_count": 3,
   "metadata": {},
   "outputs": [],
   "source": [
    "date_to_zip_offset = 0\n",
    "source_date_format = \"%Y-%m-%d %H:%M:%S\"\n",
    "\n",
    "arrearages = nwec.utility_reporting.arrearages.rename_arrearage_columns(\n",
    "    arrearages, COLS_PER_MONTH, date_to_zip_offset, source_date_format\n",
    ")"
   ]
  },
  {
   "cell_type": "code",
   "execution_count": 4,
   "metadata": {},
   "outputs": [
    {
     "data": {
      "text/html": [
       "<div><style>\n",
       ".dataframe > thead > tr,\n",
       ".dataframe > tbody > tr {\n",
       "  text-align: right;\n",
       "  white-space: pre-wrap;\n",
       "}\n",
       "</style>\n",
       "<small>shape: (1, 11)</small><table border=\"1\" class=\"dataframe\"><thead><tr><th>Zip Code</th><th>April 2024 31 - 60 Days</th><th>April 2024 61 - 90 Days</th><th>April 2024 91+ Days</th><th>April 2024 Total Arrearages</th><th>May 2024 31 - 60 Days</th><th>May 2024 61 - 90 Days</th><th>May 2024 91+ Days</th><th>May 2024 Total Arrearages</th><th>June 2024 31 - 60 Days</th><th>June 2024 61 - 90 Days</th></tr><tr><td>str</td><td>f64</td><td>f64</td><td>f64</td><td>f64</td><td>f64</td><td>f64</td><td>f64</td><td>f64</td><td>f64</td><td>f64</td></tr></thead><tbody><tr><td>null</td><td>2.2155e7</td><td>1.8843e7</td><td>6.6271e7</td><td>1.4212e8</td><td>2.1600e7</td><td>1.5369e7</td><td>7.1822e7</td><td>1.3657e8</td><td>1.7212e7</td><td>1.6436e7</td></tr></tbody></table></div>"
      ],
      "text/plain": [
       "shape: (1, 11)\n",
       "┌──────────┬───────────┬───────────┬───────────┬───┬───────────┬───────────┬───────────┬───────────┐\n",
       "│ Zip Code ┆ April     ┆ April     ┆ April     ┆ … ┆ May 2024  ┆ May 2024  ┆ June 2024 ┆ June 2024 │\n",
       "│ ---      ┆ 2024 31 - ┆ 2024 61 - ┆ 2024 91+  ┆   ┆ 91+ Days  ┆ Total Arr ┆ 31 - 60   ┆ 61 - 90   │\n",
       "│ str      ┆ 60 Days   ┆ 90 Days   ┆ Days      ┆   ┆ ---       ┆ earages   ┆ Days      ┆ Days      │\n",
       "│          ┆ ---       ┆ ---       ┆ ---       ┆   ┆ f64       ┆ ---       ┆ ---       ┆ ---       │\n",
       "│          ┆ f64       ┆ f64       ┆ f64       ┆   ┆           ┆ f64       ┆ f64       ┆ f64       │\n",
       "╞══════════╪═══════════╪═══════════╪═══════════╪═══╪═══════════╪═══════════╪═══════════╪═══════════╡\n",
       "│ null     ┆ 2.2155e7  ┆ 1.8843e7  ┆ 6.6271e7  ┆ … ┆ 7.1822e7  ┆ 1.3657e8  ┆ 1.7212e7  ┆ 1.6436e7  │\n",
       "└──────────┴───────────┴───────────┴───────────┴───┴───────────┴───────────┴───────────┴───────────┘"
      ]
     },
     "execution_count": 4,
     "metadata": {},
     "output_type": "execute_result"
    }
   ],
   "source": [
    "arrearages.sum()"
   ]
  },
  {
   "cell_type": "markdown",
   "metadata": {},
   "source": [
    "# KLI Arrearages"
   ]
  },
  {
   "cell_type": "code",
   "execution_count": 5,
   "metadata": {},
   "outputs": [],
   "source": [
    "date_to_zip_offset = 0\n",
    "source_date_format = \"%Y-%m-%d %H:%M:%S\"\n",
    "\n",
    "kli_arrearages = nwec.utility_reporting.arrearages.rename_arrearage_columns(\n",
    "    kli_arrearages, COLS_PER_MONTH, date_to_zip_offset, source_date_format\n",
    ")"
   ]
  },
  {
   "cell_type": "code",
   "execution_count": 6,
   "metadata": {},
   "outputs": [
    {
     "data": {
      "text/html": [
       "<div><style>\n",
       ".dataframe > thead > tr,\n",
       ".dataframe > tbody > tr {\n",
       "  text-align: right;\n",
       "  white-space: pre-wrap;\n",
       "}\n",
       "</style>\n",
       "<small>shape: (1, 11)</small><table border=\"1\" class=\"dataframe\"><thead><tr><th>Zip Code</th><th>April 2024 31 - 60 Days</th><th>April 2024 61 - 90 Days</th><th>April 2024 91+ Days</th><th>April 2024 Total Arrearages</th><th>May 2024 31 - 60 Days</th><th>May 2024 61 - 90 Days</th><th>May 2024 91+ Days</th><th>May 2024 Total Arrearages</th><th>June 2024 31 - 60 Days</th><th>June 2024 61 - 90 Days</th></tr><tr><td>str</td><td>f64</td><td>f64</td><td>f64</td><td>f64</td><td>f64</td><td>f64</td><td>f64</td><td>f64</td><td>f64</td><td>f64</td></tr></thead><tbody><tr><td>null</td><td>4.3267e6</td><td>4.1498e6</td><td>1.3362e7</td><td>2.6811e7</td><td>3.8740e6</td><td>3.1100e6</td><td>1.3463e7</td><td>2.4092e7</td><td>2.8849e6</td><td>3.1755e6</td></tr></tbody></table></div>"
      ],
      "text/plain": [
       "shape: (1, 11)\n",
       "┌──────────┬───────────┬───────────┬───────────┬───┬───────────┬───────────┬───────────┬───────────┐\n",
       "│ Zip Code ┆ April     ┆ April     ┆ April     ┆ … ┆ May 2024  ┆ May 2024  ┆ June 2024 ┆ June 2024 │\n",
       "│ ---      ┆ 2024 31 - ┆ 2024 61 - ┆ 2024 91+  ┆   ┆ 91+ Days  ┆ Total Arr ┆ 31 - 60   ┆ 61 - 90   │\n",
       "│ str      ┆ 60 Days   ┆ 90 Days   ┆ Days      ┆   ┆ ---       ┆ earages   ┆ Days      ┆ Days      │\n",
       "│          ┆ ---       ┆ ---       ┆ ---       ┆   ┆ f64       ┆ ---       ┆ ---       ┆ ---       │\n",
       "│          ┆ f64       ┆ f64       ┆ f64       ┆   ┆           ┆ f64       ┆ f64       ┆ f64       │\n",
       "╞══════════╪═══════════╪═══════════╪═══════════╪═══╪═══════════╪═══════════╪═══════════╪═══════════╡\n",
       "│ null     ┆ 4.3267e6  ┆ 4.1498e6  ┆ 1.3362e7  ┆ … ┆ 1.3463e7  ┆ 2.4092e7  ┆ 2.8849e6  ┆ 3.1755e6  │\n",
       "└──────────┴───────────┴───────────┴───────────┴───┴───────────┴───────────┴───────────┴───────────┘"
      ]
     },
     "execution_count": 6,
     "metadata": {},
     "output_type": "execute_result"
    }
   ],
   "source": [
    "kli_arrearages.sum()"
   ]
  }
 ],
 "metadata": {
  "kernelspec": {
   "display_name": ".venv",
   "language": "python",
   "name": "python3"
  },
  "language_info": {
   "codemirror_mode": {
    "name": "ipython",
    "version": 3
   },
   "file_extension": ".py",
   "mimetype": "text/x-python",
   "name": "python",
   "nbconvert_exporter": "python",
   "pygments_lexer": "ipython3",
   "version": "3.12.6"
  }
 },
 "nbformat": 4,
 "nbformat_minor": 2
}
