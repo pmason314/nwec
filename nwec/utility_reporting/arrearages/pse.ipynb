{
 "cells": [
  {
   "cell_type": "code",
   "execution_count": 1,
   "metadata": {},
   "outputs": [],
   "source": [
    "import polars as pl\n",
    "\n",
    "import nwec.utility_reporting.arrearages\n",
    "import nwec.utils.excel\n",
    "from nwec.constants import CLEAN_UTILITY_DATA, RAW_UTILITY_DATA\n",
    "\n",
    "YEAR = 2024\n",
    "NUM_MONTHS = 3\n",
    "COLS_PER_MONTH = 4\n",
    "SHEET_SEARCH_STRING = \"Past Due Balances\"\n",
    "ARREARAGE_SEARCH_STRING = \"Past-due balances by customer class and number of days\"\n",
    "KLI_SEARCH_STRING = \"past-due balances for known low-income\"\n",
    "spreadsheet = RAW_UTILITY_DATA / f\"pse/pse_{YEAR}.xlsx\""
   ]
  },
  {
   "cell_type": "code",
   "execution_count": 2,
   "metadata": {},
   "outputs": [],
   "source": [
    "sheet_index = nwec.utils.excel.get_sheet_index_from_name(spreadsheet, SHEET_SEARCH_STRING)\n",
    "df = pl.read_excel(spreadsheet, sheet_id=sheet_index, has_header=False)\n",
    "arrearages = nwec.utility_reporting.arrearages.get_arrearages_df(\n",
    "    df, NUM_MONTHS, COLS_PER_MONTH, ARREARAGE_SEARCH_STRING\n",
    ")\n",
    "kli_arrearages = nwec.utility_reporting.arrearages.get_arrearages_df(df, NUM_MONTHS, COLS_PER_MONTH, KLI_SEARCH_STRING)"
   ]
  },
  {
   "cell_type": "code",
   "execution_count": 3,
   "metadata": {},
   "outputs": [
    {
     "data": {
      "text/html": [
       "<div><style>\n",
       ".dataframe > thead > tr,\n",
       ".dataframe > tbody > tr {\n",
       "  text-align: right;\n",
       "  white-space: pre-wrap;\n",
       "}\n",
       "</style>\n",
       "<small>shape: (481, 14)</small><table border=\"1\" class=\"dataframe\"><thead><tr><th>Zip Code</th><th>Customer Class</th><th>column_10</th><th>column_11</th><th>column_12</th><th>column_13</th><th>column_14</th><th>column_15</th><th>column_16</th><th>column_17</th><th>column_18</th><th>column_19</th><th>column_20</th><th>column_21</th></tr><tr><td>str</td><td>str</td><td>str</td><td>str</td><td>str</td><td>str</td><td>str</td><td>str</td><td>str</td><td>str</td><td>str</td><td>str</td><td>str</td><td>str</td></tr></thead><tbody><tr><td>null</td><td>null</td><td>null</td><td>null</td><td>null</td><td>null</td><td>null</td><td>null</td><td>null</td><td>null</td><td>null</td><td>null</td><td>null</td><td>null</td></tr><tr><td>null</td><td>null</td><td>null</td><td>null</td><td>null</td><td>null</td><td>null</td><td>null</td><td>null</td><td>null</td><td>null</td><td>null</td><td>null</td><td>null</td></tr><tr><td>null</td><td>null</td><td>null</td><td>null</td><td>null</td><td>null</td><td>null</td><td>null</td><td>null</td><td>null</td><td>null</td><td>null</td><td>null</td><td>null</td></tr><tr><td>null</td><td>null</td><td>null</td><td>null</td><td>null</td><td>null</td><td>null</td><td>null</td><td>null</td><td>null</td><td>null</td><td>null</td><td>null</td><td>null</td></tr><tr><td>null</td><td>null</td><td>null</td><td>null</td><td>null</td><td>null</td><td>null</td><td>null</td><td>null</td><td>null</td><td>null</td><td>null</td><td>null</td><td>null</td></tr><tr><td>&hellip;</td><td>&hellip;</td><td>&hellip;</td><td>&hellip;</td><td>&hellip;</td><td>&hellip;</td><td>&hellip;</td><td>&hellip;</td><td>&hellip;</td><td>&hellip;</td><td>&hellip;</td><td>&hellip;</td><td>&hellip;</td><td>&hellip;</td></tr><tr><td>&quot;98943&quot;</td><td>&quot;Residential&quot;</td><td>&quot;12138.76&quot;</td><td>&quot;11900.35&quot;</td><td>&quot;18503.08&quot;</td><td>&quot;56740.4&quot;</td><td>&quot;7944.38&quot;</td><td>&quot;7671.38&quot;</td><td>&quot;22423.0899999999&quot;</td><td>&quot;51866.6999999999&quot;</td><td>&quot;7096.4&quot;</td><td>&quot;6513.43&quot;</td><td>&quot;26313.9699999999&quot;</td><td>&quot;51572.54&quot;</td></tr><tr><td>&quot;98946&quot;</td><td>&quot;Commercial / Industrial&quot;</td><td>&quot;3994.65&quot;</td><td>&quot;3404.4&quot;</td><td>&quot;74532.03&quot;</td><td>&quot;98171.38&quot;</td><td>&quot;2964.63&quot;</td><td>&quot;3520.58&quot;</td><td>&quot;77519.62&quot;</td><td>&quot;94833.4&quot;</td><td>&quot;2272.54&quot;</td><td>&quot;2616.82&quot;</td><td>&quot;80497.05&quot;</td><td>&quot;98328.74&quot;</td></tr><tr><td>&quot;98946&quot;</td><td>&quot;Residential&quot;</td><td>&quot;6265.95&quot;</td><td>&quot;6603.97&quot;</td><td>&quot;16860.53&quot;</td><td>&quot;38514.03&quot;</td><td>&quot;4864.08&quot;</td><td>&quot;5016.91&quot;</td><td>&quot;20412.8299999999&quot;</td><td>&quot;36553.7&quot;</td><td>&quot;4279.46&quot;</td><td>&quot;4541.77&quot;</td><td>&quot;22540.0699999999&quot;</td><td>&quot;39278.38&quot;</td></tr><tr><td>&quot;(blank)&quot;</td><td>&quot;Commercial / Industrial&quot;</td><td>&quot;8333.86&quot;</td><td>&quot;2922.01&quot;</td><td>&quot;20481.44&quot;</td><td>&quot;92987.32&quot;</td><td>&quot;19371.38&quot;</td><td>&quot;3509.41&quot;</td><td>&quot;18238.03&quot;</td><td>&quot;61595.16&quot;</td><td>&quot;2954.19&quot;</td><td>&quot;15877.07&quot;</td><td>&quot;17018&quot;</td><td>&quot;61582.61&quot;</td></tr><tr><td>&quot;(blank)&quot;</td><td>&quot;Residential&quot;</td><td>&quot;15786.51&quot;</td><td>&quot;14858.43&quot;</td><td>&quot;36795.37&quot;</td><td>&quot;97187.93&quot;</td><td>&quot;14157.02&quot;</td><td>&quot;8465.21&quot;</td><td>&quot;35238.52&quot;</td><td>&quot;76680.54&quot;</td><td>&quot;6501.87&quot;</td><td>&quot;7328.89&quot;</td><td>&quot;33717.1&quot;</td><td>&quot;62350.33&quot;</td></tr></tbody></table></div>"
      ],
      "text/plain": [
       "shape: (481, 14)\n",
       "┌──────────┬───────────┬───────────┬───────────┬───┬───────────┬───────────┬───────────┬───────────┐\n",
       "│ Zip Code ┆ Customer  ┆ column_10 ┆ column_11 ┆ … ┆ column_18 ┆ column_19 ┆ column_20 ┆ column_21 │\n",
       "│ ---      ┆ Class     ┆ ---       ┆ ---       ┆   ┆ ---       ┆ ---       ┆ ---       ┆ ---       │\n",
       "│ str      ┆ ---       ┆ str       ┆ str       ┆   ┆ str       ┆ str       ┆ str       ┆ str       │\n",
       "│          ┆ str       ┆           ┆           ┆   ┆           ┆           ┆           ┆           │\n",
       "╞══════════╪═══════════╪═══════════╪═══════════╪═══╪═══════════╪═══════════╪═══════════╪═══════════╡\n",
       "│ null     ┆ null      ┆ null      ┆ null      ┆ … ┆ null      ┆ null      ┆ null      ┆ null      │\n",
       "│ null     ┆ null      ┆ null      ┆ null      ┆ … ┆ null      ┆ null      ┆ null      ┆ null      │\n",
       "│ null     ┆ null      ┆ null      ┆ null      ┆ … ┆ null      ┆ null      ┆ null      ┆ null      │\n",
       "│ null     ┆ null      ┆ null      ┆ null      ┆ … ┆ null      ┆ null      ┆ null      ┆ null      │\n",
       "│ null     ┆ null      ┆ null      ┆ null      ┆ … ┆ null      ┆ null      ┆ null      ┆ null      │\n",
       "│ …        ┆ …         ┆ …         ┆ …         ┆ … ┆ …         ┆ …         ┆ …         ┆ …         │\n",
       "│ 98943    ┆ Residenti ┆ 12138.76  ┆ 11900.35  ┆ … ┆ 7096.4    ┆ 6513.43   ┆ 26313.969 ┆ 51572.54  │\n",
       "│          ┆ al        ┆           ┆           ┆   ┆           ┆           ┆ 9999999   ┆           │\n",
       "│ 98946    ┆ Commercia ┆ 3994.65   ┆ 3404.4    ┆ … ┆ 2272.54   ┆ 2616.82   ┆ 80497.05  ┆ 98328.74  │\n",
       "│          ┆ l / Indus ┆           ┆           ┆   ┆           ┆           ┆           ┆           │\n",
       "│          ┆ trial     ┆           ┆           ┆   ┆           ┆           ┆           ┆           │\n",
       "│ 98946    ┆ Residenti ┆ 6265.95   ┆ 6603.97   ┆ … ┆ 4279.46   ┆ 4541.77   ┆ 22540.069 ┆ 39278.38  │\n",
       "│          ┆ al        ┆           ┆           ┆   ┆           ┆           ┆ 9999999   ┆           │\n",
       "│ (blank)  ┆ Commercia ┆ 8333.86   ┆ 2922.01   ┆ … ┆ 2954.19   ┆ 15877.07  ┆ 17018     ┆ 61582.61  │\n",
       "│          ┆ l / Indus ┆           ┆           ┆   ┆           ┆           ┆           ┆           │\n",
       "│          ┆ trial     ┆           ┆           ┆   ┆           ┆           ┆           ┆           │\n",
       "│ (blank)  ┆ Residenti ┆ 15786.51  ┆ 14858.43  ┆ … ┆ 6501.87   ┆ 7328.89   ┆ 33717.1   ┆ 62350.33  │\n",
       "│          ┆ al        ┆           ┆           ┆   ┆           ┆           ┆           ┆           │\n",
       "└──────────┴───────────┴───────────┴───────────┴───┴───────────┴───────────┴───────────┴───────────┘"
      ]
     },
     "execution_count": 3,
     "metadata": {},
     "output_type": "execute_result"
    }
   ],
   "source": [
    "arrearages"
   ]
  },
  {
   "cell_type": "markdown",
   "metadata": {},
   "source": [
    "# Arrearages"
   ]
  },
  {
   "cell_type": "code",
   "execution_count": 4,
   "metadata": {},
   "outputs": [],
   "source": [
    "date_to_zip_offset = 0\n",
    "source_date_format = \"%Y-%m-%d %H:%M:%S\"\n",
    "\n",
    "arrearages = nwec.utility_reporting.arrearages.combine_arrearage_year_vintage_cols(\n",
    "    arrearages, NUM_MONTHS, COLS_PER_MONTH, date_to_zip_offset, source_date_format\n",
    ")"
   ]
  },
  {
   "cell_type": "code",
   "execution_count": 5,
   "metadata": {},
   "outputs": [
    {
     "data": {
      "text/html": [
       "<div><style>\n",
       ".dataframe > thead > tr,\n",
       ".dataframe > tbody > tr {\n",
       "  text-align: right;\n",
       "  white-space: pre-wrap;\n",
       "}\n",
       "</style>\n",
       "<small>shape: (1, 13)</small><table border=\"1\" class=\"dataframe\"><thead><tr><th>Zip Code</th><th>04 2024 31 - 60 Days</th><th>04 2024 61 - 90 Days</th><th>04 2024 91+ Days</th><th>04 2024 Total Arrearages</th><th>05 2024 31 - 60 Days</th><th>05 2024 61 - 90 Days</th><th>05 2024 91+ Days</th><th>05 2024 Total Arrearages</th><th>06 2024 31 - 60 Days</th><th>06 2024 61 - 90 Days</th><th>06 2024 91+ Days</th><th>06 2024 Total Arrearages</th></tr><tr><td>i32</td><td>f64</td><td>f64</td><td>f64</td><td>f64</td><td>f64</td><td>f64</td><td>f64</td><td>f64</td><td>f64</td><td>f64</td><td>f64</td><td>f64</td></tr></thead><tbody><tr><td>22404931</td><td>2.2155e7</td><td>1.8843e7</td><td>6.6271e7</td><td>1.4212e8</td><td>2.1600e7</td><td>1.5369e7</td><td>7.1822e7</td><td>1.3657e8</td><td>1.7212e7</td><td>1.6436e7</td><td>7.5010e7</td><td>1.3435e8</td></tr></tbody></table></div>"
      ],
      "text/plain": [
       "shape: (1, 13)\n",
       "┌──────────┬───────────┬───────────┬───────────┬───┬───────────┬───────────┬───────────┬───────────┐\n",
       "│ Zip Code ┆ 04 2024   ┆ 04 2024   ┆ 04 2024   ┆ … ┆ 06 2024   ┆ 06 2024   ┆ 06 2024   ┆ 06 2024   │\n",
       "│ ---      ┆ 31 - 60   ┆ 61 - 90   ┆ 91+ Days  ┆   ┆ 31 - 60   ┆ 61 - 90   ┆ 91+ Days  ┆ Total Arr │\n",
       "│ i32      ┆ Days      ┆ Days      ┆ ---       ┆   ┆ Days      ┆ Days      ┆ ---       ┆ earages   │\n",
       "│          ┆ ---       ┆ ---       ┆ f64       ┆   ┆ ---       ┆ ---       ┆ f64       ┆ ---       │\n",
       "│          ┆ f64       ┆ f64       ┆           ┆   ┆ f64       ┆ f64       ┆           ┆ f64       │\n",
       "╞══════════╪═══════════╪═══════════╪═══════════╪═══╪═══════════╪═══════════╪═══════════╪═══════════╡\n",
       "│ 22404931 ┆ 2.2155e7  ┆ 1.8843e7  ┆ 6.6271e7  ┆ … ┆ 1.7212e7  ┆ 1.6436e7  ┆ 7.5010e7  ┆ 1.3435e8  │\n",
       "└──────────┴───────────┴───────────┴───────────┴───┴───────────┴───────────┴───────────┴───────────┘"
      ]
     },
     "execution_count": 5,
     "metadata": {},
     "output_type": "execute_result"
    }
   ],
   "source": [
    "arrearages.sum()"
   ]
  },
  {
   "cell_type": "markdown",
   "metadata": {},
   "source": [
    "# KLI Arrearages"
   ]
  },
  {
   "cell_type": "code",
   "execution_count": 6,
   "metadata": {},
   "outputs": [],
   "source": [
    "date_to_zip_offset = 0\n",
    "source_date_format = \"%Y-%m-%d %H:%M:%S\"\n",
    "\n",
    "kli_arrearages = nwec.utility_reporting.arrearages.combine_arrearage_year_vintage_cols(\n",
    "    kli_arrearages, NUM_MONTHS, COLS_PER_MONTH, date_to_zip_offset, source_date_format\n",
    ")"
   ]
  },
  {
   "cell_type": "code",
   "execution_count": 7,
   "metadata": {},
   "outputs": [
    {
     "data": {
      "text/html": [
       "<div><style>\n",
       ".dataframe > thead > tr,\n",
       ".dataframe > tbody > tr {\n",
       "  text-align: right;\n",
       "  white-space: pre-wrap;\n",
       "}\n",
       "</style>\n",
       "<small>shape: (1, 13)</small><table border=\"1\" class=\"dataframe\"><thead><tr><th>Zip Code</th><th>04 2024 31 - 60 Days</th><th>04 2024 61 - 90 Days</th><th>04 2024 91+ Days</th><th>04 2024 Total Arrearages</th><th>05 2024 31 - 60 Days</th><th>05 2024 61 - 90 Days</th><th>05 2024 91+ Days</th><th>05 2024 Total Arrearages</th><th>06 2024 31 - 60 Days</th><th>06 2024 61 - 90 Days</th><th>06 2024 91+ Days</th><th>06 2024 Total Arrearages</th></tr><tr><td>i32</td><td>f64</td><td>f64</td><td>f64</td><td>f64</td><td>f64</td><td>f64</td><td>f64</td><td>f64</td><td>f64</td><td>f64</td><td>f64</td><td>f64</td></tr></thead><tbody><tr><td>21913360</td><td>4.3267e6</td><td>4.1498e6</td><td>1.3362e7</td><td>2.6811e7</td><td>3.8740e6</td><td>3.1100e6</td><td>1.3463e7</td><td>2.4092e7</td><td>2.8849e6</td><td>3.1755e6</td><td>1.3603e7</td><td>2.2751e7</td></tr></tbody></table></div>"
      ],
      "text/plain": [
       "shape: (1, 13)\n",
       "┌──────────┬───────────┬───────────┬───────────┬───┬───────────┬───────────┬───────────┬───────────┐\n",
       "│ Zip Code ┆ 04 2024   ┆ 04 2024   ┆ 04 2024   ┆ … ┆ 06 2024   ┆ 06 2024   ┆ 06 2024   ┆ 06 2024   │\n",
       "│ ---      ┆ 31 - 60   ┆ 61 - 90   ┆ 91+ Days  ┆   ┆ 31 - 60   ┆ 61 - 90   ┆ 91+ Days  ┆ Total Arr │\n",
       "│ i32      ┆ Days      ┆ Days      ┆ ---       ┆   ┆ Days      ┆ Days      ┆ ---       ┆ earages   │\n",
       "│          ┆ ---       ┆ ---       ┆ f64       ┆   ┆ ---       ┆ ---       ┆ f64       ┆ ---       │\n",
       "│          ┆ f64       ┆ f64       ┆           ┆   ┆ f64       ┆ f64       ┆           ┆ f64       │\n",
       "╞══════════╪═══════════╪═══════════╪═══════════╪═══╪═══════════╪═══════════╪═══════════╪═══════════╡\n",
       "│ 21913360 ┆ 4.3267e6  ┆ 4.1498e6  ┆ 1.3362e7  ┆ … ┆ 2.8849e6  ┆ 3.1755e6  ┆ 1.3603e7  ┆ 2.2751e7  │\n",
       "└──────────┴───────────┴───────────┴───────────┴───┴───────────┴───────────┴───────────┴───────────┘"
      ]
     },
     "execution_count": 7,
     "metadata": {},
     "output_type": "execute_result"
    }
   ],
   "source": [
    "kli_arrearages.sum()"
   ]
  },
  {
   "cell_type": "markdown",
   "metadata": {},
   "source": [
    "# Save Output"
   ]
  },
  {
   "cell_type": "code",
   "execution_count": 8,
   "metadata": {},
   "outputs": [],
   "source": [
    "arrearages = nwec.utility_reporting.arrearages.normalize_arrearage_cols(arrearages, NUM_MONTHS)\n",
    "arrearages = arrearages.with_columns(pl.lit(\"PSE\").alias(\"Utility\"))\n",
    "arrearages = arrearages.with_columns(pl.lit(\"Residential\").alias(\"Customer Class\"))\n",
    "\n",
    "kli_arrearages = nwec.utility_reporting.arrearages.normalize_arrearage_cols(kli_arrearages, NUM_MONTHS)\n",
    "kli_arrearages = kli_arrearages.with_columns(pl.lit(\"PSE\").alias(\"Utility\"))\n",
    "kli_arrearages = kli_arrearages.with_columns(pl.lit(\"KLI\").alias(\"Customer Class\"))\n",
    "\n",
    "pl.concat([arrearages, kli_arrearages]).write_ipc(CLEAN_UTILITY_DATA / \"pse.arrow\")"
   ]
  }
 ],
 "metadata": {
  "kernelspec": {
   "display_name": ".venv",
   "language": "python",
   "name": "python3"
  },
  "language_info": {
   "codemirror_mode": {
    "name": "ipython",
    "version": 3
   },
   "file_extension": ".py",
   "mimetype": "text/x-python",
   "name": "python",
   "nbconvert_exporter": "python",
   "pygments_lexer": "ipython3",
   "version": "3.12.6"
  }
 },
 "nbformat": 4,
 "nbformat_minor": 2
}
