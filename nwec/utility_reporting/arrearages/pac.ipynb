{
 "cells": [
  {
   "cell_type": "code",
   "execution_count": 1,
   "metadata": {},
   "outputs": [],
   "source": [
    "import polars as pl\n",
    "\n",
    "import nwec.utility_reporting.arrearages\n",
    "import nwec.utils.excel\n",
    "from nwec.constants import CLEAN_UTILITY_DATA, RAW_UTILITY_DATA\n",
    "\n",
    "YEAR = 2024\n",
    "NUM_MONTHS = 3\n",
    "COLS_PER_MONTH = 5\n",
    "SHEET_SEARCH_STRING = \"Arrears\"\n",
    "ARREARAGE_SEARCH_STRING = \"Past-due balances\"\n",
    "KLI_SEARCH_STRING = \"known low-income\"\n",
    "spreadsheet = RAW_UTILITY_DATA / f\"pac/pac_{YEAR}.xlsx\""
   ]
  },
  {
   "cell_type": "code",
   "execution_count": 2,
   "metadata": {},
   "outputs": [],
   "source": [
    "sheet_index = nwec.utils.excel.get_sheet_index_from_name(spreadsheet, SHEET_SEARCH_STRING)\n",
    "df = pl.read_excel(spreadsheet, sheet_id=sheet_index, has_header=False)\n",
    "arrearages = nwec.utility_reporting.arrearages.get_arrearages_df(\n",
    "    df, NUM_MONTHS, COLS_PER_MONTH, ARREARAGE_SEARCH_STRING\n",
    ")\n",
    "kli_arrearages = nwec.utility_reporting.arrearages.get_arrearages_df(df, NUM_MONTHS, COLS_PER_MONTH, KLI_SEARCH_STRING)"
   ]
  },
  {
   "cell_type": "markdown",
   "metadata": {},
   "source": [
    "# Arrearages"
   ]
  },
  {
   "cell_type": "code",
   "execution_count": 3,
   "metadata": {},
   "outputs": [],
   "source": [
    "date_to_zip_offset = 1\n",
    "source_date_format = \"%Y%m\"\n",
    "\n",
    "arrearages = nwec.utility_reporting.arrearages.combine_arrearage_year_vintage_cols(\n",
    "    arrearages, NUM_MONTHS, COLS_PER_MONTH, date_to_zip_offset, source_date_format\n",
    ")"
   ]
  },
  {
   "cell_type": "code",
   "execution_count": 4,
   "metadata": {},
   "outputs": [
    {
     "data": {
      "text/html": [
       "<div><style>\n",
       ".dataframe > thead > tr,\n",
       ".dataframe > tbody > tr {\n",
       "  text-align: right;\n",
       "  white-space: pre-wrap;\n",
       "}\n",
       "</style>\n",
       "<small>shape: (1, 16)</small><table border=\"1\" class=\"dataframe\"><thead><tr><th>Zip Code</th><th>04 2024 COUNT</th><th>04 2024 DAYS 31 60</th><th>04 2024 DAYS 61 90</th><th>04 2024 DAYS 91+</th><th>04 2024 ARREARS</th><th>05 2024 COUNT</th><th>05 2024 DAYS 31 60</th><th>05 2024 DAYS 61 90</th><th>05 2024 DAYS 91+</th><th>05 2024 ARREARS</th><th>06 2024 COUNT</th><th>06 2024 DAYS 31 60</th><th>06 2024 DAYS 61 90</th><th>06 2024 DAYS 91+</th><th>06 2024 ARREARS</th></tr><tr><td>i32</td><td>f64</td><td>f64</td><td>f64</td><td>f64</td><td>f64</td><td>f64</td><td>f64</td><td>f64</td><td>f64</td><td>f64</td><td>f64</td><td>f64</td><td>f64</td><td>f64</td><td>f64</td></tr></thead><tbody><tr><td>3566098</td><td>27842.0</td><td>3.8096e6</td><td>2744742.6</td><td>6.5212e6</td><td>1.3075e7</td><td>26927.0</td><td>2.9246e6</td><td>2158981.1</td><td>6.5424e6</td><td>1.1626e7</td><td>25707.0</td><td>2.3903e6</td><td>1.6404e6</td><td>5.8796e6</td><td>9.9103e6</td></tr></tbody></table></div>"
      ],
      "text/plain": [
       "shape: (1, 16)\n",
       "┌──────────┬───────────┬───────────┬───────────┬───┬───────────┬───────────┬───────────┬───────────┐\n",
       "│ Zip Code ┆ 04 2024   ┆ 04 2024   ┆ 04 2024   ┆ … ┆ 06 2024   ┆ 06 2024   ┆ 06 2024   ┆ 06 2024   │\n",
       "│ ---      ┆ COUNT     ┆ DAYS 31   ┆ DAYS 61   ┆   ┆ DAYS 31   ┆ DAYS 61   ┆ DAYS 91+  ┆ ARREARS   │\n",
       "│ i32      ┆ ---       ┆ 60        ┆ 90        ┆   ┆ 60        ┆ 90        ┆ ---       ┆ ---       │\n",
       "│          ┆ f64       ┆ ---       ┆ ---       ┆   ┆ ---       ┆ ---       ┆ f64       ┆ f64       │\n",
       "│          ┆           ┆ f64       ┆ f64       ┆   ┆ f64       ┆ f64       ┆           ┆           │\n",
       "╞══════════╪═══════════╪═══════════╪═══════════╪═══╪═══════════╪═══════════╪═══════════╪═══════════╡\n",
       "│ 3566098  ┆ 27842.0   ┆ 3.8096e6  ┆ 2744742.6 ┆ … ┆ 2.3903e6  ┆ 1.6404e6  ┆ 5.8796e6  ┆ 9.9103e6  │\n",
       "└──────────┴───────────┴───────────┴───────────┴───┴───────────┴───────────┴───────────┴───────────┘"
      ]
     },
     "execution_count": 4,
     "metadata": {},
     "output_type": "execute_result"
    }
   ],
   "source": [
    "arrearages.sum()"
   ]
  },
  {
   "cell_type": "markdown",
   "metadata": {},
   "source": [
    "# KLI Arrearages"
   ]
  },
  {
   "cell_type": "code",
   "execution_count": 5,
   "metadata": {},
   "outputs": [],
   "source": [
    "date_to_zip_offset = 1\n",
    "source_date_format = \"%Y%m\"\n",
    "\n",
    "kli_arrearages = nwec.utility_reporting.arrearages.combine_arrearage_year_vintage_cols(\n",
    "    kli_arrearages, NUM_MONTHS, COLS_PER_MONTH, date_to_zip_offset, source_date_format\n",
    ")"
   ]
  },
  {
   "cell_type": "code",
   "execution_count": 6,
   "metadata": {},
   "outputs": [
    {
     "data": {
      "text/html": [
       "<div><style>\n",
       ".dataframe > thead > tr,\n",
       ".dataframe > tbody > tr {\n",
       "  text-align: right;\n",
       "  white-space: pre-wrap;\n",
       "}\n",
       "</style>\n",
       "<small>shape: (1, 16)</small><table border=\"1\" class=\"dataframe\"><thead><tr><th>Zip Code</th><th>04 2024 COUNT</th><th>04 2024 DAYS 31 60</th><th>04 2024 DAYS 61 90</th><th>04 2024 DAYS 91+</th><th>04 2024 ARREARS</th><th>05 2024 COUNT</th><th>05 2024 DAYS 31 60</th><th>05 2024 DAYS 61 90</th><th>05 2024 DAYS 91+</th><th>05 2024 ARREARS</th><th>06 2024 COUNT</th><th>06 2024 DAYS 31 60</th><th>06 2024 DAYS 61 90</th><th>06 2024 DAYS 91+</th><th>06 2024 ARREARS</th></tr><tr><td>i32</td><td>f64</td><td>f64</td><td>f64</td><td>f64</td><td>f64</td><td>f64</td><td>f64</td><td>f64</td><td>f64</td><td>f64</td><td>f64</td><td>f64</td><td>f64</td><td>f64</td><td>f64</td></tr></thead><tbody><tr><td>3170370</td><td>5825.0</td><td>754670.96</td><td>750073.43</td><td>1.9786e6</td><td>3483299.7</td><td>5681.0</td><td>584360.03</td><td>546162.81</td><td>1.9909e6</td><td>3.1214e6</td><td>5393.0</td><td>451311.36</td><td>417393.8</td><td>1849496.9</td><td>2.7182e6</td></tr></tbody></table></div>"
      ],
      "text/plain": [
       "shape: (1, 16)\n",
       "┌──────────┬───────────┬───────────┬───────────┬───┬───────────┬───────────┬───────────┬───────────┐\n",
       "│ Zip Code ┆ 04 2024   ┆ 04 2024   ┆ 04 2024   ┆ … ┆ 06 2024   ┆ 06 2024   ┆ 06 2024   ┆ 06 2024   │\n",
       "│ ---      ┆ COUNT     ┆ DAYS 31   ┆ DAYS 61   ┆   ┆ DAYS 31   ┆ DAYS 61   ┆ DAYS 91+  ┆ ARREARS   │\n",
       "│ i32      ┆ ---       ┆ 60        ┆ 90        ┆   ┆ 60        ┆ 90        ┆ ---       ┆ ---       │\n",
       "│          ┆ f64       ┆ ---       ┆ ---       ┆   ┆ ---       ┆ ---       ┆ f64       ┆ f64       │\n",
       "│          ┆           ┆ f64       ┆ f64       ┆   ┆ f64       ┆ f64       ┆           ┆           │\n",
       "╞══════════╪═══════════╪═══════════╪═══════════╪═══╪═══════════╪═══════════╪═══════════╪═══════════╡\n",
       "│ 3170370  ┆ 5825.0    ┆ 754670.96 ┆ 750073.43 ┆ … ┆ 451311.36 ┆ 417393.8  ┆ 1849496.9 ┆ 2.7182e6  │\n",
       "└──────────┴───────────┴───────────┴───────────┴───┴───────────┴───────────┴───────────┴───────────┘"
      ]
     },
     "execution_count": 6,
     "metadata": {},
     "output_type": "execute_result"
    }
   ],
   "source": [
    "kli_arrearages.sum()"
   ]
  },
  {
   "cell_type": "markdown",
   "metadata": {},
   "source": [
    "# Save Output"
   ]
  },
  {
   "cell_type": "code",
   "execution_count": 7,
   "metadata": {},
   "outputs": [],
   "source": [
    "arrearages = nwec.utility_reporting.arrearages.normalize_arrearage_cols(arrearages, NUM_MONTHS)\n",
    "arrearages = arrearages.with_columns(pl.lit(\"PAC\").alias(\"Utility\"))\n",
    "arrearages = arrearages.with_columns(pl.lit(\"Residential\").alias(\"Customer Class\"))\n",
    "\n",
    "kli_arrearages = nwec.utility_reporting.arrearages.normalize_arrearage_cols(kli_arrearages, NUM_MONTHS)\n",
    "kli_arrearages = kli_arrearages.with_columns(pl.lit(\"PAC\").alias(\"Utility\"))\n",
    "kli_arrearages = kli_arrearages.with_columns(pl.lit(\"KLI\").alias(\"Customer Class\"))\n",
    "\n",
    "pl.concat([arrearages, kli_arrearages]).write_ipc(CLEAN_UTILITY_DATA / \"pac.arrow\")"
   ]
  }
 ],
 "metadata": {
  "kernelspec": {
   "display_name": ".venv",
   "language": "python",
   "name": "python3"
  },
  "language_info": {
   "codemirror_mode": {
    "name": "ipython",
    "version": 3
   },
   "file_extension": ".py",
   "mimetype": "text/x-python",
   "name": "python",
   "nbconvert_exporter": "python",
   "pygments_lexer": "ipython3",
   "version": "3.12.6"
  }
 },
 "nbformat": 4,
 "nbformat_minor": 2
}
