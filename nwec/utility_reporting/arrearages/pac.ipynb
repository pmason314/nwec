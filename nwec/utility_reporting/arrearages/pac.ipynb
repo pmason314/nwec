{
 "cells": [
  {
   "cell_type": "code",
   "execution_count": 1,
   "metadata": {},
   "outputs": [],
   "source": [
    "import datetime\n",
    "\n",
    "import polars as pl\n",
    "\n",
    "import nwec.utility_reporting.arrearages\n",
    "import nwec.utils.excel\n",
    "from nwec.constants import DATA\n",
    "\n",
    "YEAR = 2024\n",
    "NUM_MONTHS = 3\n",
    "COLS_PER_MONTH = 5\n",
    "spreadsheet = DATA / f\"utility_reporting/pac/pac_{YEAR}.xlsx\""
   ]
  },
  {
   "cell_type": "code",
   "execution_count": 2,
   "metadata": {},
   "outputs": [],
   "source": [
    "arrearages_index = nwec.utils.excel.get_sheet_index_from_name(spreadsheet, \"Arrears\")\n",
    "df = pl.read_excel(spreadsheet, sheet_id=arrearages_index, has_header=False)"
   ]
  },
  {
   "cell_type": "markdown",
   "metadata": {},
   "source": [
    "# Arrearages"
   ]
  },
  {
   "cell_type": "code",
   "execution_count": 3,
   "metadata": {},
   "outputs": [],
   "source": [
    "_, arrearage_start_index = nwec.utils.excel.find_unpromoted_header(df, \"Past-due balances\")\n",
    "\n",
    "# Set up arrearages-specific DF with built-in space for the zip code and customer class columns\n",
    "arrearages = df.select(df.columns[arrearage_start_index : arrearage_start_index + NUM_MONTHS * COLS_PER_MONTH + 2])\n",
    "arrearages = nwec.utility_reporting.arrearages.normalize_zip_class_cols(df, arrearages)"
   ]
  },
  {
   "cell_type": "code",
   "execution_count": 4,
   "metadata": {},
   "outputs": [],
   "source": [
    "zip_index = next((i for i, s in enumerate(arrearages.columns) if s == \"Zip Code\"), -1)\n",
    "new_columns = arrearages.select(arrearages.columns).slice(zip_index, 1).to_dicts()[0]\n",
    "vintage_cols = arrearages.select(arrearages.columns[2:]).slice(zip_index + 1, 1).to_dicts()[0]\n",
    "months = list({k: v for k, v in new_columns.items() if v is not None}.values())\n",
    "for counter, col in enumerate(vintage_cols):\n",
    "    current_month = months[counter // COLS_PER_MONTH]\n",
    "    date = datetime.datetime.strptime(current_month, \"%Y%m\").astimezone(datetime.UTC)\n",
    "    new_columns[col] = date.strftime(\"%B %Y\")\n",
    "    new_columns[col] = new_columns[col] + \" \" + vintage_cols[col]\n",
    "new_columns = new_columns | {\"Zip Code\": \"Zip Code\", \"Customer Class\": \"Customer Class\"}"
   ]
  },
  {
   "cell_type": "code",
   "execution_count": 5,
   "metadata": {},
   "outputs": [
    {
     "data": {
      "text/plain": [
       "{'Customer Class': 'Customer Class',\n",
       " 'Zip Code': 'Zip Code',\n",
       " 'column_3': 'April 2024 COUNT',\n",
       " 'column_4': 'April 2024 DAYS 31 60',\n",
       " 'column_5': 'April 2024 DAYS 61 90',\n",
       " 'column_6': 'April 2024 DAYS 91+',\n",
       " 'column_7': 'April 2024 ARREARS',\n",
       " 'column_8': 'May 2024 COUNT',\n",
       " 'column_9': 'May 2024 DAYS 31 60',\n",
       " 'column_10': 'May 2024 DAYS 61 90',\n",
       " 'column_11': 'May 2024 DAYS 91+',\n",
       " 'column_12': 'May 2024 ARREARS',\n",
       " 'column_13': 'June 2024 COUNT',\n",
       " 'column_14': 'June 2024 DAYS 31 60',\n",
       " 'column_15': 'June 2024 DAYS 61 90',\n",
       " 'column_16': 'June 2024 DAYS 91+',\n",
       " 'column_17': 'June 2024 ARREARS'}"
      ]
     },
     "execution_count": 5,
     "metadata": {},
     "output_type": "execute_result"
    }
   ],
   "source": [
    "new_columns"
   ]
  },
  {
   "cell_type": "code",
   "execution_count": 6,
   "metadata": {},
   "outputs": [],
   "source": [
    "arrearages = arrearages.rename(new_columns)\n",
    "arrearages = arrearages.filter(pl.col(\"Customer Class\").str.contains(r\"(?i)res\")).drop(pl.col(\"Customer Class\"))\n",
    "arrearages = arrearages.with_columns([pl.col(col).cast(pl.Float64, strict=False) for col in arrearages.columns[1:]])\n",
    "arrearages = arrearages.with_columns(pl.col(\"Zip Code\").str.strip_chars(\" \").cast(pl.Int64))"
   ]
  },
  {
   "cell_type": "code",
   "execution_count": 7,
   "metadata": {},
   "outputs": [
    {
     "data": {
      "text/html": [
       "<div><style>\n",
       ".dataframe > thead > tr,\n",
       ".dataframe > tbody > tr {\n",
       "  text-align: right;\n",
       "  white-space: pre-wrap;\n",
       "}\n",
       "</style>\n",
       "<small>shape: (36, 16)</small><table border=\"1\" class=\"dataframe\"><thead><tr><th>Zip Code</th><th>April 2024 COUNT</th><th>April 2024 DAYS 31 60</th><th>April 2024 DAYS 61 90</th><th>April 2024 DAYS 91+</th><th>April 2024 ARREARS</th><th>May 2024 COUNT</th><th>May 2024 DAYS 31 60</th><th>May 2024 DAYS 61 90</th><th>May 2024 DAYS 91+</th><th>May 2024 ARREARS</th><th>June 2024 COUNT</th><th>June 2024 DAYS 31 60</th><th>June 2024 DAYS 61 90</th><th>June 2024 DAYS 91+</th><th>June 2024 ARREARS</th></tr><tr><td>i64</td><td>f64</td><td>f64</td><td>f64</td><td>f64</td><td>f64</td><td>f64</td><td>f64</td><td>f64</td><td>f64</td><td>f64</td><td>f64</td><td>f64</td><td>f64</td><td>f64</td><td>f64</td></tr></thead><tbody><tr><td>98603</td><td>1.0</td><td>126.45</td><td>116.88</td><td>0.0</td><td>243.33</td><td>2.0</td><td>63.1</td><td>0.0</td><td>0.0</td><td>63.1</td><td>1.0</td><td>39.6</td><td>0.0</td><td>0.0</td><td>39.6</td></tr><tr><td>98901</td><td>2760.0</td><td>409035.13</td><td>297245.84</td><td>821727.99</td><td>1.5280e6</td><td>2633.0</td><td>284330.63</td><td>258781.16</td><td>895302.31</td><td>1438414.1</td><td>2484.0</td><td>225013.68</td><td>174372.83</td><td>906988.82</td><td>1.3064e6</td></tr><tr><td>98902</td><td>4597.0</td><td>474241.5</td><td>449773.91</td><td>870545.55</td><td>1.7946e6</td><td>4801.0</td><td>497963.82</td><td>282542.75</td><td>882692.74</td><td>1.6632e6</td><td>4879.0</td><td>398802.85</td><td>293721.44</td><td>822770.72</td><td>1.5153e6</td></tr><tr><td>98903</td><td>1853.0</td><td>289884.54</td><td>190875.71</td><td>589996.95</td><td>1070757.2</td><td>1765.0</td><td>220294.22</td><td>156895.55</td><td>552933.91</td><td>930123.68</td><td>1833.0</td><td>192436.04</td><td>133142.63</td><td>419754.29</td><td>745332.96</td></tr><tr><td>98904</td><td>null</td><td>0.0</td><td>0.0</td><td>0.0</td><td>0.0</td><td>1.0</td><td>31.65</td><td>0.0</td><td>0.0</td><td>31.65</td><td>1.0</td><td>25.92</td><td>31.65</td><td>0.0</td><td>57.57</td></tr><tr><td>&hellip;</td><td>&hellip;</td><td>&hellip;</td><td>&hellip;</td><td>&hellip;</td><td>&hellip;</td><td>&hellip;</td><td>&hellip;</td><td>&hellip;</td><td>&hellip;</td><td>&hellip;</td><td>&hellip;</td><td>&hellip;</td><td>&hellip;</td><td>&hellip;</td><td>&hellip;</td></tr><tr><td>99350</td><td>7.0</td><td>1157.38</td><td>808.67</td><td>10.3</td><td>1976.35</td><td>8.0</td><td>897.79</td><td>393.88</td><td>127.57</td><td>1419.24</td><td>5.0</td><td>416.06</td><td>83.35</td><td>40.57</td><td>539.98</td></tr><tr><td>99360</td><td>59.0</td><td>2506.82</td><td>9976.62</td><td>118.24</td><td>12601.68</td><td>101.0</td><td>17216.37</td><td>864.21</td><td>3473.17</td><td>21553.75</td><td>85.0</td><td>9097.2</td><td>4688.32</td><td>3386.96</td><td>17172.48</td></tr><tr><td>99361</td><td>154.0</td><td>26330.88</td><td>14247.45</td><td>8347.04</td><td>48925.37</td><td>153.0</td><td>19130.32</td><td>13880.2</td><td>11539.08</td><td>44549.6</td><td>142.0</td><td>16131.84</td><td>9717.2</td><td>11800.04</td><td>37649.08</td></tr><tr><td>99362</td><td>2544.0</td><td>294348.54</td><td>153356.77</td><td>106156.84</td><td>553862.15</td><td>2368.0</td><td>200655.49</td><td>143298.63</td><td>133005.41</td><td>476959.53</td><td>2213.0</td><td>170758.31</td><td>100841.08</td><td>150835.84</td><td>422435.23</td></tr><tr><td>99363</td><td>16.0</td><td>0.0</td><td>2981.31</td><td>584.78</td><td>3566.09</td><td>27.0</td><td>5132.25</td><td>0.0</td><td>1944.12</td><td>7076.37</td><td>23.0</td><td>2248.03</td><td>1788.87</td><td>2509.48</td><td>6546.38</td></tr></tbody></table></div>"
      ],
      "text/plain": [
       "shape: (36, 16)\n",
       "┌──────────┬────────┬────────────┬────────────┬───┬────────────┬───────────┬───────────┬───────────┐\n",
       "│ Zip Code ┆ April  ┆ April 2024 ┆ April 2024 ┆ … ┆ June 2024  ┆ June 2024 ┆ June 2024 ┆ June 2024 │\n",
       "│ ---      ┆ 2024   ┆ DAYS 31 60 ┆ DAYS 61 90 ┆   ┆ DAYS 31 60 ┆ DAYS 61   ┆ DAYS 91+  ┆ ARREARS   │\n",
       "│ i64      ┆ COUNT  ┆ ---        ┆ ---        ┆   ┆ ---        ┆ 90        ┆ ---       ┆ ---       │\n",
       "│          ┆ ---    ┆ f64        ┆ f64        ┆   ┆ f64        ┆ ---       ┆ f64       ┆ f64       │\n",
       "│          ┆ f64    ┆            ┆            ┆   ┆            ┆ f64       ┆           ┆           │\n",
       "╞══════════╪════════╪════════════╪════════════╪═══╪════════════╪═══════════╪═══════════╪═══════════╡\n",
       "│ 98603    ┆ 1.0    ┆ 126.45     ┆ 116.88     ┆ … ┆ 39.6       ┆ 0.0       ┆ 0.0       ┆ 39.6      │\n",
       "│ 98901    ┆ 2760.0 ┆ 409035.13  ┆ 297245.84  ┆ … ┆ 225013.68  ┆ 174372.83 ┆ 906988.82 ┆ 1.3064e6  │\n",
       "│ 98902    ┆ 4597.0 ┆ 474241.5   ┆ 449773.91  ┆ … ┆ 398802.85  ┆ 293721.44 ┆ 822770.72 ┆ 1.5153e6  │\n",
       "│ 98903    ┆ 1853.0 ┆ 289884.54  ┆ 190875.71  ┆ … ┆ 192436.04  ┆ 133142.63 ┆ 419754.29 ┆ 745332.96 │\n",
       "│ 98904    ┆ null   ┆ 0.0        ┆ 0.0        ┆ … ┆ 25.92      ┆ 31.65     ┆ 0.0       ┆ 57.57     │\n",
       "│ …        ┆ …      ┆ …          ┆ …          ┆ … ┆ …          ┆ …         ┆ …         ┆ …         │\n",
       "│ 99350    ┆ 7.0    ┆ 1157.38    ┆ 808.67     ┆ … ┆ 416.06     ┆ 83.35     ┆ 40.57     ┆ 539.98    │\n",
       "│ 99360    ┆ 59.0   ┆ 2506.82    ┆ 9976.62    ┆ … ┆ 9097.2     ┆ 4688.32   ┆ 3386.96   ┆ 17172.48  │\n",
       "│ 99361    ┆ 154.0  ┆ 26330.88   ┆ 14247.45   ┆ … ┆ 16131.84   ┆ 9717.2    ┆ 11800.04  ┆ 37649.08  │\n",
       "│ 99362    ┆ 2544.0 ┆ 294348.54  ┆ 153356.77  ┆ … ┆ 170758.31  ┆ 100841.08 ┆ 150835.84 ┆ 422435.23 │\n",
       "│ 99363    ┆ 16.0   ┆ 0.0        ┆ 2981.31    ┆ … ┆ 2248.03    ┆ 1788.87   ┆ 2509.48   ┆ 6546.38   │\n",
       "└──────────┴────────┴────────────┴────────────┴───┴────────────┴───────────┴───────────┴───────────┘"
      ]
     },
     "execution_count": 7,
     "metadata": {},
     "output_type": "execute_result"
    }
   ],
   "source": [
    "arrearages"
   ]
  },
  {
   "cell_type": "code",
   "execution_count": 8,
   "metadata": {},
   "outputs": [
    {
     "data": {
      "text/html": [
       "<div><style>\n",
       ".dataframe > thead > tr,\n",
       ".dataframe > tbody > tr {\n",
       "  text-align: right;\n",
       "  white-space: pre-wrap;\n",
       "}\n",
       "</style>\n",
       "<small>shape: (1, 16)</small><table border=\"1\" class=\"dataframe\"><thead><tr><th>Zip Code</th><th>April 2024 COUNT</th><th>April 2024 DAYS 31 60</th><th>April 2024 DAYS 61 90</th><th>April 2024 DAYS 91+</th><th>April 2024 ARREARS</th><th>May 2024 COUNT</th><th>May 2024 DAYS 31 60</th><th>May 2024 DAYS 61 90</th><th>May 2024 DAYS 91+</th><th>May 2024 ARREARS</th><th>June 2024 COUNT</th><th>June 2024 DAYS 31 60</th><th>June 2024 DAYS 61 90</th><th>June 2024 DAYS 91+</th><th>June 2024 ARREARS</th></tr><tr><td>i64</td><td>f64</td><td>f64</td><td>f64</td><td>f64</td><td>f64</td><td>f64</td><td>f64</td><td>f64</td><td>f64</td><td>f64</td><td>f64</td><td>f64</td><td>f64</td><td>f64</td><td>f64</td></tr></thead><tbody><tr><td>3566098</td><td>27842.0</td><td>3.8096e6</td><td>2744742.6</td><td>6.5212e6</td><td>1.3075e7</td><td>26927.0</td><td>2.9246e6</td><td>2158981.1</td><td>6.5424e6</td><td>1.1626e7</td><td>25707.0</td><td>2.3903e6</td><td>1.6404e6</td><td>5.8796e6</td><td>9.9103e6</td></tr></tbody></table></div>"
      ],
      "text/plain": [
       "shape: (1, 16)\n",
       "┌──────────┬───────────┬───────────┬───────────┬───┬───────────┬───────────┬───────────┬───────────┐\n",
       "│ Zip Code ┆ April     ┆ April     ┆ April     ┆ … ┆ June 2024 ┆ June 2024 ┆ June 2024 ┆ June 2024 │\n",
       "│ ---      ┆ 2024      ┆ 2024 DAYS ┆ 2024 DAYS ┆   ┆ DAYS 31   ┆ DAYS 61   ┆ DAYS 91+  ┆ ARREARS   │\n",
       "│ i64      ┆ COUNT     ┆ 31 60     ┆ 61 90     ┆   ┆ 60        ┆ 90        ┆ ---       ┆ ---       │\n",
       "│          ┆ ---       ┆ ---       ┆ ---       ┆   ┆ ---       ┆ ---       ┆ f64       ┆ f64       │\n",
       "│          ┆ f64       ┆ f64       ┆ f64       ┆   ┆ f64       ┆ f64       ┆           ┆           │\n",
       "╞══════════╪═══════════╪═══════════╪═══════════╪═══╪═══════════╪═══════════╪═══════════╪═══════════╡\n",
       "│ 3566098  ┆ 27842.0   ┆ 3.8096e6  ┆ 2744742.6 ┆ … ┆ 2.3903e6  ┆ 1.6404e6  ┆ 5.8796e6  ┆ 9.9103e6  │\n",
       "└──────────┴───────────┴───────────┴───────────┴───┴───────────┴───────────┴───────────┴───────────┘"
      ]
     },
     "execution_count": 8,
     "metadata": {},
     "output_type": "execute_result"
    }
   ],
   "source": [
    "arrearages.sum()"
   ]
  },
  {
   "cell_type": "markdown",
   "metadata": {},
   "source": [
    "# KLI Arrearages"
   ]
  },
  {
   "cell_type": "code",
   "execution_count": 9,
   "metadata": {},
   "outputs": [],
   "source": [
    "_, kli_arrearage_start_index = nwec.utils.excel.find_unpromoted_header(df, \"known low-income\")\n",
    "\n",
    "# Set up arrearages-specific DF with built-in space for the zip code and customer class columns\n",
    "kli_arrearages = df.select(\n",
    "    df.columns[kli_arrearage_start_index : kli_arrearage_start_index + NUM_MONTHS * COLS_PER_MONTH + 2]\n",
    ")\n",
    "kli_arrearages = nwec.utility_reporting.arrearages.normalize_zip_class_cols(df, kli_arrearages)"
   ]
  },
  {
   "cell_type": "code",
   "execution_count": 10,
   "metadata": {},
   "outputs": [],
   "source": [
    "zip_index = next((i for i, s in enumerate(kli_arrearages.columns) if s == \"Zip Code\"), -1)\n",
    "new_columns = kli_arrearages.select(kli_arrearages.columns).slice(zip_index, 1).to_dicts()[0]\n",
    "vintage_cols = kli_arrearages.select(kli_arrearages.columns[2:]).slice(zip_index + 1, 1).to_dicts()[0]\n",
    "months = list({k: v for k, v in new_columns.items() if v is not None}.values())\n",
    "for counter, col in enumerate(vintage_cols):\n",
    "    current_month = months[counter // COLS_PER_MONTH]\n",
    "    date = datetime.datetime.strptime(current_month, \"%Y%m\").astimezone(datetime.UTC)\n",
    "    new_columns[col] = date.strftime(\"%B %Y\")\n",
    "    new_columns[col] = new_columns[col] + \" \" + vintage_cols[col]\n",
    "new_columns = new_columns | {\"Zip Code\": \"Zip Code\", \"Customer Class\": \"Customer Class\"}"
   ]
  },
  {
   "cell_type": "code",
   "execution_count": 11,
   "metadata": {},
   "outputs": [],
   "source": [
    "kli_arrearages = kli_arrearages.rename(new_columns)\n",
    "kli_arrearages = kli_arrearages.filter(pl.col(\"Customer Class\").str.contains(r\"(?i)res\")).drop(pl.col(\"Customer Class\"))\n",
    "kli_arrearages = kli_arrearages.with_columns(\n",
    "    [pl.col(col).cast(pl.Float64, strict=False) for col in kli_arrearages.columns[1:]]\n",
    ")\n",
    "kli_arrearages = kli_arrearages.with_columns(pl.col(\"Zip Code\").str.strip_chars(\" \").cast(pl.Int64))"
   ]
  },
  {
   "cell_type": "code",
   "execution_count": 12,
   "metadata": {},
   "outputs": [
    {
     "data": {
      "text/html": [
       "<div><style>\n",
       ".dataframe > thead > tr,\n",
       ".dataframe > tbody > tr {\n",
       "  text-align: right;\n",
       "  white-space: pre-wrap;\n",
       "}\n",
       "</style>\n",
       "<small>shape: (1, 16)</small><table border=\"1\" class=\"dataframe\"><thead><tr><th>Zip Code</th><th>April 2024 COUNT</th><th>April 2024 DAYS 31 60</th><th>April 2024 DAYS 61 90</th><th>April 2024 DAYS 91+</th><th>April 2024 ARREARS</th><th>May 2024 COUNT</th><th>May 2024 DAYS 31 60</th><th>May 2024 DAYS 61 90</th><th>May 2024 DAYS 91+</th><th>May 2024 ARREARS</th><th>June 2024 COUNT</th><th>June 2024 DAYS 31 60</th><th>June 2024 DAYS 61 90</th><th>June 2024 DAYS 91+</th><th>June 2024 ARREARS</th></tr><tr><td>i64</td><td>f64</td><td>f64</td><td>f64</td><td>f64</td><td>f64</td><td>f64</td><td>f64</td><td>f64</td><td>f64</td><td>f64</td><td>f64</td><td>f64</td><td>f64</td><td>f64</td><td>f64</td></tr></thead><tbody><tr><td>3170370</td><td>5825.0</td><td>754670.96</td><td>750073.43</td><td>1.9786e6</td><td>3483299.7</td><td>5681.0</td><td>584360.03</td><td>546162.81</td><td>1.9909e6</td><td>3.1214e6</td><td>5393.0</td><td>451311.36</td><td>417393.8</td><td>1849496.9</td><td>2.7182e6</td></tr></tbody></table></div>"
      ],
      "text/plain": [
       "shape: (1, 16)\n",
       "┌──────────┬────────┬────────────┬────────────┬───┬────────────┬───────────┬───────────┬───────────┐\n",
       "│ Zip Code ┆ April  ┆ April 2024 ┆ April 2024 ┆ … ┆ June 2024  ┆ June 2024 ┆ June 2024 ┆ June 2024 │\n",
       "│ ---      ┆ 2024   ┆ DAYS 31 60 ┆ DAYS 61 90 ┆   ┆ DAYS 31 60 ┆ DAYS 61   ┆ DAYS 91+  ┆ ARREARS   │\n",
       "│ i64      ┆ COUNT  ┆ ---        ┆ ---        ┆   ┆ ---        ┆ 90        ┆ ---       ┆ ---       │\n",
       "│          ┆ ---    ┆ f64        ┆ f64        ┆   ┆ f64        ┆ ---       ┆ f64       ┆ f64       │\n",
       "│          ┆ f64    ┆            ┆            ┆   ┆            ┆ f64       ┆           ┆           │\n",
       "╞══════════╪════════╪════════════╪════════════╪═══╪════════════╪═══════════╪═══════════╪═══════════╡\n",
       "│ 3170370  ┆ 5825.0 ┆ 754670.96  ┆ 750073.43  ┆ … ┆ 451311.36  ┆ 417393.8  ┆ 1849496.9 ┆ 2.7182e6  │\n",
       "└──────────┴────────┴────────────┴────────────┴───┴────────────┴───────────┴───────────┴───────────┘"
      ]
     },
     "execution_count": 12,
     "metadata": {},
     "output_type": "execute_result"
    }
   ],
   "source": [
    "kli_arrearages.sum()"
   ]
  }
 ],
 "metadata": {
  "kernelspec": {
   "display_name": ".venv",
   "language": "python",
   "name": "python3"
  },
  "language_info": {
   "codemirror_mode": {
    "name": "ipython",
    "version": 3
   },
   "file_extension": ".py",
   "mimetype": "text/x-python",
   "name": "python",
   "nbconvert_exporter": "python",
   "pygments_lexer": "ipython3",
   "version": "3.12.6"
  }
 },
 "nbformat": 4,
 "nbformat_minor": 2
}
