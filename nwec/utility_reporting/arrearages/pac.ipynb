{
 "cells": [
  {
   "cell_type": "code",
   "execution_count": 8,
   "metadata": {},
   "outputs": [],
   "source": [
    "import polars as pl\n",
    "\n",
    "import nwec.utility_reporting.arrearages\n",
    "import nwec.utils.excel\n",
    "from nwec.constants import CLEAN_UTILITY_DATA, RAW_UTILITY_DATA\n",
    "\n",
    "YEAR = 2023\n",
    "NUM_MONTHS = 3\n",
    "COLS_PER_MONTH = 5\n",
    "SHEET_SEARCH_STRING = \"Arrears\"\n",
    "ARREARAGE_SEARCH_STRING = \"Past-due balances\"\n",
    "KLI_SEARCH_STRING = \"known low-income\"\n",
    "spreadsheet = RAW_UTILITY_DATA / str(YEAR) / \"pac.xlsx\""
   ]
  },
  {
   "cell_type": "code",
   "execution_count": 9,
   "metadata": {},
   "outputs": [],
   "source": [
    "sheet_index = nwec.utils.excel.get_sheet_index_from_name(spreadsheet, SHEET_SEARCH_STRING)\n",
    "df = pl.read_excel(spreadsheet, sheet_id=sheet_index, has_header=False)\n",
    "arrearages = nwec.utility_reporting.arrearages.get_arrearages_df(\n",
    "    df, NUM_MONTHS, COLS_PER_MONTH, ARREARAGE_SEARCH_STRING\n",
    ")\n",
    "kli_arrearages = nwec.utility_reporting.arrearages.get_arrearages_df(df, NUM_MONTHS, COLS_PER_MONTH, KLI_SEARCH_STRING)"
   ]
  },
  {
   "cell_type": "markdown",
   "metadata": {},
   "source": [
    "# Arrearages"
   ]
  },
  {
   "cell_type": "code",
   "execution_count": 10,
   "metadata": {},
   "outputs": [],
   "source": [
    "date_to_zip_offset = 1\n",
    "source_date_format = \"%Y%m\"\n",
    "\n",
    "arrearages = nwec.utility_reporting.arrearages.combine_arrearage_year_vintage_cols(\n",
    "    arrearages, NUM_MONTHS, COLS_PER_MONTH, date_to_zip_offset, source_date_format\n",
    ")"
   ]
  },
  {
   "cell_type": "code",
   "execution_count": 11,
   "metadata": {},
   "outputs": [
    {
     "data": {
      "text/html": [
       "<div><style>\n",
       ".dataframe > thead > tr,\n",
       ".dataframe > tbody > tr {\n",
       "  text-align: right;\n",
       "  white-space: pre-wrap;\n",
       "}\n",
       "</style>\n",
       "<small>shape: (1, 16)</small><table border=\"1\" class=\"dataframe\"><thead><tr><th>Zip Code</th><th>10 2023 COUNT</th><th>10 2023 DAYS 31 60</th><th>10 2023 DAYS 61 90</th><th>10 2023 DAYS 91+</th><th>10 2023 ARREARS</th><th>11 2023 COUNT</th><th>11 2023 DAYS 31 60</th><th>11 2023 DAYS 61 90</th><th>11 2023 DAYS 91+</th><th>11 2023 ARREARS</th><th>12 2023 COUNT</th><th>12 2023 DAYS 31 60</th><th>12 2023 DAYS 61 90</th><th>12 2023 DAYS 91+</th><th>12 2023 ARREARS</th></tr><tr><td>i32</td><td>f64</td><td>f64</td><td>f64</td><td>f64</td><td>f64</td><td>f64</td><td>f64</td><td>f64</td><td>f64</td><td>f64</td><td>f64</td><td>f64</td><td>f64</td><td>f64</td><td>f64</td></tr></thead><tbody><tr><td>3566098</td><td>26654.0</td><td>2.6583e6</td><td>1.9116e6</td><td>6.8507e6</td><td>1.1421e7</td><td>26220.0</td><td>2.2677e6</td><td>1.5202e6</td><td>6.8535e6</td><td>1.0642e7</td><td>23822.0</td><td>2.6612e6</td><td>1.0868e6</td><td>6.7601e6</td><td>1.0508e7</td></tr></tbody></table></div>"
      ],
      "text/plain": [
       "shape: (1, 16)\n",
       "┌──────────┬───────────┬───────────┬───────────┬───┬───────────┬───────────┬───────────┬───────────┐\n",
       "│ Zip Code ┆ 10 2023   ┆ 10 2023   ┆ 10 2023   ┆ … ┆ 12 2023   ┆ 12 2023   ┆ 12 2023   ┆ 12 2023   │\n",
       "│ ---      ┆ COUNT     ┆ DAYS 31   ┆ DAYS 61   ┆   ┆ DAYS 31   ┆ DAYS 61   ┆ DAYS 91+  ┆ ARREARS   │\n",
       "│ i32      ┆ ---       ┆ 60        ┆ 90        ┆   ┆ 60        ┆ 90        ┆ ---       ┆ ---       │\n",
       "│          ┆ f64       ┆ ---       ┆ ---       ┆   ┆ ---       ┆ ---       ┆ f64       ┆ f64       │\n",
       "│          ┆           ┆ f64       ┆ f64       ┆   ┆ f64       ┆ f64       ┆           ┆           │\n",
       "╞══════════╪═══════════╪═══════════╪═══════════╪═══╪═══════════╪═══════════╪═══════════╪═══════════╡\n",
       "│ 3566098  ┆ 26654.0   ┆ 2.6583e6  ┆ 1.9116e6  ┆ … ┆ 2.6612e6  ┆ 1.0868e6  ┆ 6.7601e6  ┆ 1.0508e7  │\n",
       "└──────────┴───────────┴───────────┴───────────┴───┴───────────┴───────────┴───────────┴───────────┘"
      ]
     },
     "execution_count": 11,
     "metadata": {},
     "output_type": "execute_result"
    }
   ],
   "source": [
    "arrearages.sum()"
   ]
  },
  {
   "cell_type": "markdown",
   "metadata": {},
   "source": [
    "# KLI Arrearages"
   ]
  },
  {
   "cell_type": "code",
   "execution_count": 12,
   "metadata": {},
   "outputs": [],
   "source": [
    "date_to_zip_offset = 1\n",
    "source_date_format = \"%Y%m\"\n",
    "\n",
    "kli_arrearages = nwec.utility_reporting.arrearages.combine_arrearage_year_vintage_cols(\n",
    "    kli_arrearages, NUM_MONTHS, COLS_PER_MONTH, date_to_zip_offset, source_date_format\n",
    ")"
   ]
  },
  {
   "cell_type": "code",
   "execution_count": 13,
   "metadata": {},
   "outputs": [
    {
     "data": {
      "text/html": [
       "<div><style>\n",
       ".dataframe > thead > tr,\n",
       ".dataframe > tbody > tr {\n",
       "  text-align: right;\n",
       "  white-space: pre-wrap;\n",
       "}\n",
       "</style>\n",
       "<small>shape: (1, 16)</small><table border=\"1\" class=\"dataframe\"><thead><tr><th>Zip Code</th><th>10 2023 COUNT</th><th>10 2023 DAYS 31 60</th><th>10 2023 DAYS 61 90</th><th>10 2023 DAYS 91+</th><th>10 2023 ARREARS</th><th>11 2023 COUNT</th><th>11 2023 DAYS 31 60</th><th>11 2023 DAYS 61 90</th><th>11 2023 DAYS 91+</th><th>11 2023 ARREARS</th><th>12 2023 COUNT</th><th>12 2023 DAYS 31 60</th><th>12 2023 DAYS 61 90</th><th>12 2023 DAYS 91+</th><th>12 2023 ARREARS</th></tr><tr><td>i32</td><td>f64</td><td>f64</td><td>f64</td><td>f64</td><td>f64</td><td>f64</td><td>f64</td><td>f64</td><td>f64</td><td>f64</td><td>f64</td><td>f64</td><td>f64</td><td>f64</td><td>f64</td></tr></thead><tbody><tr><td>3170370</td><td>4753.0</td><td>411087.59</td><td>382778.86</td><td>1.6135e6</td><td>2.4073e6</td><td>4975.0</td><td>407395.37</td><td>323422.86</td><td>1.6590e6</td><td>2.3898e6</td><td>4773.0</td><td>506641.0</td><td>268497.22</td><td>1.6729e6</td><td>2.4481e6</td></tr></tbody></table></div>"
      ],
      "text/plain": [
       "shape: (1, 16)\n",
       "┌──────────┬───────────┬───────────┬───────────┬───┬───────────┬───────────┬───────────┬───────────┐\n",
       "│ Zip Code ┆ 10 2023   ┆ 10 2023   ┆ 10 2023   ┆ … ┆ 12 2023   ┆ 12 2023   ┆ 12 2023   ┆ 12 2023   │\n",
       "│ ---      ┆ COUNT     ┆ DAYS 31   ┆ DAYS 61   ┆   ┆ DAYS 31   ┆ DAYS 61   ┆ DAYS 91+  ┆ ARREARS   │\n",
       "│ i32      ┆ ---       ┆ 60        ┆ 90        ┆   ┆ 60        ┆ 90        ┆ ---       ┆ ---       │\n",
       "│          ┆ f64       ┆ ---       ┆ ---       ┆   ┆ ---       ┆ ---       ┆ f64       ┆ f64       │\n",
       "│          ┆           ┆ f64       ┆ f64       ┆   ┆ f64       ┆ f64       ┆           ┆           │\n",
       "╞══════════╪═══════════╪═══════════╪═══════════╪═══╪═══════════╪═══════════╪═══════════╪═══════════╡\n",
       "│ 3170370  ┆ 4753.0    ┆ 411087.59 ┆ 382778.86 ┆ … ┆ 506641.0  ┆ 268497.22 ┆ 1.6729e6  ┆ 2.4481e6  │\n",
       "└──────────┴───────────┴───────────┴───────────┴───┴───────────┴───────────┴───────────┴───────────┘"
      ]
     },
     "execution_count": 13,
     "metadata": {},
     "output_type": "execute_result"
    }
   ],
   "source": [
    "kli_arrearages.sum()"
   ]
  },
  {
   "cell_type": "markdown",
   "metadata": {},
   "source": [
    "# Save Output"
   ]
  },
  {
   "cell_type": "code",
   "execution_count": 14,
   "metadata": {},
   "outputs": [],
   "source": [
    "arrearages = nwec.utility_reporting.arrearages.normalize_arrearage_cols(arrearages, NUM_MONTHS)\n",
    "arrearages = arrearages.with_columns(pl.lit(\"PAC\").alias(\"Utility\"))\n",
    "arrearages = arrearages.with_columns(pl.lit(\"Residential\").alias(\"Customer Class\"))\n",
    "\n",
    "kli_arrearages = nwec.utility_reporting.arrearages.normalize_arrearage_cols(kli_arrearages, NUM_MONTHS)\n",
    "kli_arrearages = kli_arrearages.with_columns(pl.lit(\"PAC\").alias(\"Utility\"))\n",
    "kli_arrearages = kli_arrearages.with_columns(pl.lit(\"KLI\").alias(\"Customer Class\"))\n",
    "\n",
    "pl.concat([arrearages, kli_arrearages]).write_ipc(CLEAN_UTILITY_DATA / \"pac.arrow\")"
   ]
  }
 ],
 "metadata": {
  "kernelspec": {
   "display_name": ".venv",
   "language": "python",
   "name": "python3"
  },
  "language_info": {
   "codemirror_mode": {
    "name": "ipython",
    "version": 3
   },
   "file_extension": ".py",
   "mimetype": "text/x-python",
   "name": "python",
   "nbconvert_exporter": "python",
   "pygments_lexer": "ipython3",
   "version": "3.12.6"
  }
 },
 "nbformat": 4,
 "nbformat_minor": 2
}
