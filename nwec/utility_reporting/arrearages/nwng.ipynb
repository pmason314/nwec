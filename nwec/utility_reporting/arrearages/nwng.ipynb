{
 "cells": [
  {
   "cell_type": "code",
   "execution_count": 8,
   "metadata": {},
   "outputs": [],
   "source": [
    "import polars as pl\n",
    "\n",
    "import nwec.utility_reporting.arrearages\n",
    "import nwec.utils.excel\n",
    "from nwec.constants import CLEAN_UTILITY_DATA, RAW_UTILITY_DATA\n",
    "\n",
    "YEAR = 2023\n",
    "NUM_MONTHS = 3\n",
    "COLS_PER_MONTH = 8\n",
    "KLI_COLS_PER_MONTH = 4\n",
    "SHEET_SEARCH_STRING = \"Past Due Balances\"\n",
    "ARREARAGE_SEARCH_STRING = \"Past-due balances by customer class\"\n",
    "KLI_SEARCH_STRING = \"known low-income\"\n",
    "spreadsheet = RAW_UTILITY_DATA / str(YEAR) / \"nwng.xlsx\""
   ]
  },
  {
   "cell_type": "code",
   "execution_count": 9,
   "metadata": {},
   "outputs": [],
   "source": [
    "sheet_index = nwec.utils.excel.get_sheet_index_from_name(spreadsheet, SHEET_SEARCH_STRING)\n",
    "df = pl.read_excel(spreadsheet, sheet_id=sheet_index, has_header=False)\n",
    "arrearages = nwec.utility_reporting.arrearages.get_arrearages_df(\n",
    "    df, NUM_MONTHS, COLS_PER_MONTH, ARREARAGE_SEARCH_STRING\n",
    ")\n",
    "kli_arrearages = nwec.utility_reporting.arrearages.get_arrearages_df(\n",
    "    df, NUM_MONTHS, KLI_COLS_PER_MONTH, KLI_SEARCH_STRING\n",
    ")"
   ]
  },
  {
   "cell_type": "markdown",
   "metadata": {},
   "source": [
    "# Arrearages"
   ]
  },
  {
   "cell_type": "code",
   "execution_count": 10,
   "metadata": {},
   "outputs": [],
   "source": [
    "date_to_zip_offset = 1\n",
    "source_date_format = \"%b %Y\"\n",
    "\n",
    "arrearages = nwec.utility_reporting.arrearages.combine_arrearage_year_vintage_cols(\n",
    "    arrearages, NUM_MONTHS, COLS_PER_MONTH, date_to_zip_offset, source_date_format\n",
    ")"
   ]
  },
  {
   "cell_type": "code",
   "execution_count": 11,
   "metadata": {},
   "outputs": [
    {
     "data": {
      "text/html": [
       "<div><style>\n",
       ".dataframe > thead > tr,\n",
       ".dataframe > tbody > tr {\n",
       "  text-align: right;\n",
       "  white-space: pre-wrap;\n",
       "}\n",
       "</style>\n",
       "<small>shape: (1, 25)</small><table border=\"1\" class=\"dataframe\"><thead><tr><th>Zip Code</th><th>10 2023 30 Days Amt</th><th>10 2023 30 Day Count</th><th>10 2023 60 Days Amt</th><th>10 2023 60 Days Count</th><th>10 2023 90 Days + Amt</th><th>10 2023 90 Days + Count</th><th>10 2023 Total Arrearages</th><th>10 2023 Total Count</th><th>11 2023 30 Days Amt</th><th>11 2023 30 Day Count</th><th>11 2023 60 Days Amt</th><th>11 2023 60 Days Count</th><th>11 2023 90 Days + Amt</th><th>11 2023 90 Days + Count</th><th>11 2023 Total Arrearages</th><th>11 2023 Total Count</th><th>12 2023 30 Days Amt</th><th>12 2023 30 Day Count</th><th>12 2023 60 Days Amt</th><th>12 2023 60 Days Count</th><th>12 2023 90 Days + Amt</th><th>12 2023 90 Days + Count</th><th>12 2023 Total Arrearages</th><th>12 2023 Total Count</th></tr><tr><td>i32</td><td>f64</td><td>f64</td><td>f64</td><td>f64</td><td>f64</td><td>f64</td><td>f64</td><td>f64</td><td>f64</td><td>f64</td><td>f64</td><td>f64</td><td>f64</td><td>f64</td><td>f64</td><td>f64</td><td>f64</td><td>f64</td><td>f64</td><td>f64</td><td>f64</td><td>f64</td><td>f64</td><td>f64</td></tr></thead><tbody><tr><td>4234744</td><td>225033.18</td><td>3137.0</td><td>135911.31</td><td>1529.0</td><td>352300.93</td><td>3319.0</td><td>713245.42</td><td>7985.0</td><td>338254.77</td><td>3815.0</td><td>121470.93</td><td>1288.0</td><td>315504.22</td><td>3292.0</td><td>775229.92</td><td>8395.0</td><td>369149.31</td><td>2648.0</td><td>86793.01</td><td>803.0</td><td>118700.66</td><td>1379.0</td><td>574642.98</td><td>4830.0</td></tr></tbody></table></div>"
      ],
      "text/plain": [
       "shape: (1, 25)\n",
       "┌──────────┬───────────┬───────────┬───────────┬───┬───────────┬───────────┬───────────┬───────────┐\n",
       "│ Zip Code ┆ 10 2023   ┆ 10 2023   ┆ 10 2023   ┆ … ┆ 12 2023   ┆ 12 2023   ┆ 12 2023   ┆ 12 2023   │\n",
       "│ ---      ┆ 30 Days   ┆ 30 Day    ┆ 60 Days   ┆   ┆ 90 Days + ┆ 90 Days + ┆ Total Arr ┆ Total     │\n",
       "│ i32      ┆ Amt       ┆ Count     ┆ Amt       ┆   ┆ Amt       ┆ Count     ┆ earages   ┆ Count     │\n",
       "│          ┆ ---       ┆ ---       ┆ ---       ┆   ┆ ---       ┆ ---       ┆ ---       ┆ ---       │\n",
       "│          ┆ f64       ┆ f64       ┆ f64       ┆   ┆ f64       ┆ f64       ┆ f64       ┆ f64       │\n",
       "╞══════════╪═══════════╪═══════════╪═══════════╪═══╪═══════════╪═══════════╪═══════════╪═══════════╡\n",
       "│ 4234744  ┆ 225033.18 ┆ 3137.0    ┆ 135911.31 ┆ … ┆ 118700.66 ┆ 1379.0    ┆ 574642.98 ┆ 4830.0    │\n",
       "└──────────┴───────────┴───────────┴───────────┴───┴───────────┴───────────┴───────────┴───────────┘"
      ]
     },
     "execution_count": 11,
     "metadata": {},
     "output_type": "execute_result"
    }
   ],
   "source": [
    "arrearages.sum()"
   ]
  },
  {
   "cell_type": "markdown",
   "metadata": {},
   "source": [
    "# KLI Arrearages"
   ]
  },
  {
   "cell_type": "code",
   "execution_count": 12,
   "metadata": {},
   "outputs": [],
   "source": [
    "date_to_zip_offset = 1\n",
    "source_date_format = \"%b %Y\"\n",
    "\n",
    "kli_arrearages = nwec.utility_reporting.arrearages.combine_arrearage_year_vintage_cols(\n",
    "    kli_arrearages, NUM_MONTHS, KLI_COLS_PER_MONTH, date_to_zip_offset, source_date_format\n",
    ")"
   ]
  },
  {
   "cell_type": "code",
   "execution_count": 13,
   "metadata": {},
   "outputs": [
    {
     "data": {
      "text/html": [
       "<div><style>\n",
       ".dataframe > thead > tr,\n",
       ".dataframe > tbody > tr {\n",
       "  text-align: right;\n",
       "  white-space: pre-wrap;\n",
       "}\n",
       "</style>\n",
       "<small>shape: (1, 13)</small><table border=\"1\" class=\"dataframe\"><thead><tr><th>Zip Code</th><th>10 2023 30 Days</th><th>10 2023 60 Days</th><th>10 2023 90 Days +</th><th>10 2023 Total Arrearages</th><th>11 2023 30 Days</th><th>11 2023 60 Days</th><th>11 2023 90 Days +</th><th>11 2023 Total Arrearages</th><th>12 2023 30 Days</th><th>12 2023 60 Days</th><th>12 2023 90 Days +</th><th>12 2023 Total Arrearages</th></tr><tr><td>i32</td><td>f64</td><td>f64</td><td>f64</td><td>f64</td><td>f64</td><td>f64</td><td>f64</td><td>f64</td><td>f64</td><td>f64</td><td>f64</td><td>f64</td></tr></thead><tbody><tr><td>4234744</td><td>5454.0</td><td>4050.09</td><td>18321.71</td><td>27825.8</td><td>9431.94</td><td>4243.59</td><td>18468.75</td><td>32144.28</td><td>7513.77</td><td>2412.37</td><td>4046.26</td><td>13972.4</td></tr></tbody></table></div>"
      ],
      "text/plain": [
       "shape: (1, 13)\n",
       "┌──────────┬───────────┬───────────┬───────────┬───┬───────────┬───────────┬───────────┬───────────┐\n",
       "│ Zip Code ┆ 10 2023   ┆ 10 2023   ┆ 10 2023   ┆ … ┆ 12 2023   ┆ 12 2023   ┆ 12 2023   ┆ 12 2023   │\n",
       "│ ---      ┆ 30 Days   ┆ 60 Days   ┆ 90 Days + ┆   ┆ 30 Days   ┆ 60 Days   ┆ 90 Days + ┆ Total Arr │\n",
       "│ i32      ┆ ---       ┆ ---       ┆ ---       ┆   ┆ ---       ┆ ---       ┆ ---       ┆ earages   │\n",
       "│          ┆ f64       ┆ f64       ┆ f64       ┆   ┆ f64       ┆ f64       ┆ f64       ┆ ---       │\n",
       "│          ┆           ┆           ┆           ┆   ┆           ┆           ┆           ┆ f64       │\n",
       "╞══════════╪═══════════╪═══════════╪═══════════╪═══╪═══════════╪═══════════╪═══════════╪═══════════╡\n",
       "│ 4234744  ┆ 5454.0    ┆ 4050.09   ┆ 18321.71  ┆ … ┆ 7513.77   ┆ 2412.37   ┆ 4046.26   ┆ 13972.4   │\n",
       "└──────────┴───────────┴───────────┴───────────┴───┴───────────┴───────────┴───────────┴───────────┘"
      ]
     },
     "execution_count": 13,
     "metadata": {},
     "output_type": "execute_result"
    }
   ],
   "source": [
    "kli_arrearages.sum()"
   ]
  },
  {
   "cell_type": "markdown",
   "metadata": {},
   "source": [
    "# Save Output"
   ]
  },
  {
   "cell_type": "code",
   "execution_count": 14,
   "metadata": {},
   "outputs": [],
   "source": [
    "arrearages = nwec.utility_reporting.arrearages.normalize_arrearage_cols(arrearages, NUM_MONTHS)\n",
    "arrearages = arrearages.with_columns(pl.lit(\"NWNG\").alias(\"Utility\"))\n",
    "arrearages = arrearages.with_columns(pl.lit(\"Residential\").alias(\"Customer Class\"))\n",
    "\n",
    "kli_arrearages = nwec.utility_reporting.arrearages.normalize_arrearage_cols(kli_arrearages, NUM_MONTHS)\n",
    "kli_arrearages = kli_arrearages.with_columns(pl.lit(\"NWNG\").alias(\"Utility\"))\n",
    "kli_arrearages = kli_arrearages.with_columns(pl.lit(\"KLI\").alias(\"Customer Class\"))\n",
    "\n",
    "pl.concat([arrearages, kli_arrearages]).write_ipc(CLEAN_UTILITY_DATA / \"nwng.arrow\")"
   ]
  }
 ],
 "metadata": {
  "kernelspec": {
   "display_name": ".venv",
   "language": "python",
   "name": "python3"
  },
  "language_info": {
   "codemirror_mode": {
    "name": "ipython",
    "version": 3
   },
   "file_extension": ".py",
   "mimetype": "text/x-python",
   "name": "python",
   "nbconvert_exporter": "python",
   "pygments_lexer": "ipython3",
   "version": "3.12.6"
  }
 },
 "nbformat": 4,
 "nbformat_minor": 2
}
