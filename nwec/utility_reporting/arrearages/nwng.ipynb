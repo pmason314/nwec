{
 "cells": [
  {
   "cell_type": "code",
   "execution_count": 1,
   "metadata": {},
   "outputs": [],
   "source": [
    "import datetime\n",
    "\n",
    "import polars as pl\n",
    "\n",
    "import nwec.utility_reporting.arrearages\n",
    "import nwec.utils.excel\n",
    "from nwec.constants import DATA\n",
    "\n",
    "YEAR = 2024\n",
    "NUM_MONTHS = 3\n",
    "COLS_PER_MONTH = 8\n",
    "KLI_COLS_PER_MONTH = 4\n",
    "spreadsheet = DATA / f\"utility_reporting/nwng/nwng_{YEAR}.xlsx\""
   ]
  },
  {
   "cell_type": "code",
   "execution_count": 2,
   "metadata": {},
   "outputs": [],
   "source": [
    "arrearages_index = nwec.utils.excel.get_sheet_index_from_name(spreadsheet, \"Past Due Balances\")\n",
    "df = pl.read_excel(spreadsheet, sheet_id=arrearages_index, has_header=False)"
   ]
  },
  {
   "cell_type": "markdown",
   "metadata": {},
   "source": [
    "# Arrearages"
   ]
  },
  {
   "cell_type": "code",
   "execution_count": 3,
   "metadata": {},
   "outputs": [],
   "source": [
    "_, arrearage_start_index = nwec.utils.excel.find_unpromoted_header(df, \"Past-due balances by customer class\")\n",
    "\n",
    "# Set up arrearages-specific DF with built-in space for the zip code and customer class columns\n",
    "arrearages = df.select(df.columns[arrearage_start_index : arrearage_start_index + NUM_MONTHS * COLS_PER_MONTH + 2])\n",
    "arrearages = nwec.utility_reporting.arrearages.normalize_zip_class_cols(df, arrearages)"
   ]
  },
  {
   "cell_type": "code",
   "execution_count": 4,
   "metadata": {},
   "outputs": [],
   "source": [
    "zip_index = nwec.utils.excel.find_unpromoted_header(arrearages, \"Zip Code\")\n",
    "new_columns = arrearages.select(arrearages.columns[2:][:-2]).slice(zip_index[0] - 1, 1).to_dicts()[0]\n",
    "vintage_cols = arrearages.select(arrearages.columns[2:][:-2]).slice(zip_index[0], 1).to_dicts()[0]\n",
    "months = list({k: v for k, v in new_columns.items() if v is not None}.values())\n",
    "\n",
    "for counter, col in enumerate(vintage_cols):\n",
    "    current_month = months[counter // COLS_PER_MONTH]\n",
    "    date = datetime.datetime.strptime(current_month, \"%b %Y\").astimezone(datetime.UTC)\n",
    "    new_columns[col] = date.strftime(\"%B %Y\")\n",
    "    new_columns[col] = new_columns[col] + \" \" + vintage_cols[col]\n",
    "new_columns = new_columns | {\"Zip Code\": \"Zip Code\", \"Customer Class\": \"Customer Class\"}"
   ]
  },
  {
   "cell_type": "code",
   "execution_count": 5,
   "metadata": {},
   "outputs": [],
   "source": [
    "arrearages = arrearages.rename(new_columns).select(list(new_columns.values()))\n",
    "arrearages = arrearages.filter(~pl.all_horizontal(pl.all().is_null()))\n",
    "arrearages = (\n",
    "    arrearages.filter(pl.col(\"Customer Class\").str.contains(r\"(?i)resident\"))\n",
    "    .drop(pl.col(\"Customer Class\"))\n",
    "    .drop(pl.selectors.matches(r\"(?i)count\"))\n",
    ")\n",
    "arrearages = arrearages.with_columns([pl.col(col).cast(pl.Float64, strict=False) for col in arrearages.columns[1:]])"
   ]
  },
  {
   "cell_type": "code",
   "execution_count": 6,
   "metadata": {},
   "outputs": [
    {
     "data": {
      "text/html": [
       "<div><style>\n",
       ".dataframe > thead > tr,\n",
       ".dataframe > tbody > tr {\n",
       "  text-align: right;\n",
       "  white-space: pre-wrap;\n",
       "}\n",
       "</style>\n",
       "<small>shape: (1, 13)</small><table border=\"1\" class=\"dataframe\"><thead><tr><th>April 2024 30 Days Amt</th><th>April 2024 60 Days Amt</th><th>April 2024 90 Days + Amt</th><th>April 2024 Total Arrearages</th><th>May 2024 30 Days Amt</th><th>May 2024 60 Days Amt</th><th>May 2024 90 Days + Amt</th><th>May 2024 Total Arrearages</th><th>June 2024 30 Days Amt</th><th>June 2024 60 Days Amt</th><th>June 2024 90 Days + Amt</th><th>June 2024 Total Arrearages</th><th>Zip Code</th></tr><tr><td>str</td><td>f64</td><td>f64</td><td>f64</td><td>f64</td><td>f64</td><td>f64</td><td>f64</td><td>f64</td><td>f64</td><td>f64</td><td>f64</td><td>f64</td></tr></thead><tbody><tr><td>null</td><td>530589.64</td><td>262109.24</td><td>2.0935e6</td><td>958601.13</td><td>538972.22</td><td>315149.72</td><td>1.8127e6</td><td>755043.46</td><td>469782.58</td><td>390257.18</td><td>1.6151e6</td><td>4.234744e6</td></tr></tbody></table></div>"
      ],
      "text/plain": [
       "shape: (1, 13)\n",
       "┌───────────┬───────────┬───────────┬───────────┬───┬───────────┬───────────┬───────────┬──────────┐\n",
       "│ April     ┆ April     ┆ April     ┆ April     ┆ … ┆ June 2024 ┆ June 2024 ┆ June 2024 ┆ Zip Code │\n",
       "│ 2024 30   ┆ 2024 60   ┆ 2024 90   ┆ 2024      ┆   ┆ 60 Days   ┆ 90 Days + ┆ Total Arr ┆ ---      │\n",
       "│ Days Amt  ┆ Days Amt  ┆ Days +    ┆ Total Arr ┆   ┆ Amt       ┆ Amt       ┆ earages   ┆ f64      │\n",
       "│ ---       ┆ ---       ┆ Amt       ┆ earages   ┆   ┆ ---       ┆ ---       ┆ ---       ┆          │\n",
       "│ str       ┆ f64       ┆ ---       ┆ ---       ┆   ┆ f64       ┆ f64       ┆ f64       ┆          │\n",
       "│           ┆           ┆ f64       ┆ f64       ┆   ┆           ┆           ┆           ┆          │\n",
       "╞═══════════╪═══════════╪═══════════╪═══════════╪═══╪═══════════╪═══════════╪═══════════╪══════════╡\n",
       "│ null      ┆ 530589.64 ┆ 262109.24 ┆ 2.0935e6  ┆ … ┆ 469782.58 ┆ 390257.18 ┆ 1.6151e6  ┆ 4.234744 │\n",
       "│           ┆           ┆           ┆           ┆   ┆           ┆           ┆           ┆ e6       │\n",
       "└───────────┴───────────┴───────────┴───────────┴───┴───────────┴───────────┴───────────┴──────────┘"
      ]
     },
     "execution_count": 6,
     "metadata": {},
     "output_type": "execute_result"
    }
   ],
   "source": [
    "arrearages.sum()"
   ]
  },
  {
   "cell_type": "markdown",
   "metadata": {},
   "source": [
    "# KLI Arrearages"
   ]
  },
  {
   "cell_type": "code",
   "execution_count": 7,
   "metadata": {},
   "outputs": [],
   "source": [
    "_, kli_arrearage_start_index = nwec.utils.excel.find_unpromoted_header(df, \"known low-income\")\n",
    "_, kli_arrearage_start_index = nwec.utils.excel.find_unpromoted_header(df, \"known low-income\")\n",
    "\n",
    "# Set up arrearages-specific DF with built-in space for the zip code and customer class columns\n",
    "kli_arrearages = df.select(\n",
    "    df.columns[kli_arrearage_start_index : kli_arrearage_start_index + NUM_MONTHS * KLI_COLS_PER_MONTH + 2]\n",
    ")\n",
    "kli_arrearages = nwec.utility_reporting.arrearages.normalize_zip_class_cols(df, kli_arrearages)"
   ]
  },
  {
   "cell_type": "code",
   "execution_count": 8,
   "metadata": {},
   "outputs": [],
   "source": [
    "zip_index = nwec.utils.excel.find_unpromoted_header(kli_arrearages, \"Zip Code\")\n",
    "new_columns = kli_arrearages.select(kli_arrearages.columns[2:][:-2]).slice(zip_index[0] - 1, 1).to_dicts()[0]\n",
    "vintage_cols = kli_arrearages.select(kli_arrearages.columns[2:][:-2]).slice(zip_index[0], 1).to_dicts()[0]\n",
    "months = list({k: v for k, v in new_columns.items() if v is not None}.values())\n",
    "for counter, col in enumerate(vintage_cols):\n",
    "    current_month = months[counter // KLI_COLS_PER_MONTH]\n",
    "    date = datetime.datetime.strptime(current_month, \"%b %Y\").astimezone(datetime.UTC)\n",
    "    new_columns[col] = date.strftime(\"%B %Y\")\n",
    "    new_columns[col] = new_columns[col] + \" \" + vintage_cols[col]\n",
    "new_columns = new_columns | {\"Zip Code\": \"Zip Code\", \"Customer Class\": \"Customer Class\"}"
   ]
  },
  {
   "cell_type": "code",
   "execution_count": 9,
   "metadata": {},
   "outputs": [],
   "source": [
    "kli_arrearages = kli_arrearages.rename(new_columns).select(list(new_columns.values()))\n",
    "kli_arrearages = kli_arrearages.filter(~pl.all_horizontal(pl.all().is_null()))\n",
    "kli_arrearages = (\n",
    "    kli_arrearages.filter(pl.col(\"Customer Class\").str.contains(r\"(?i)resident\"))\n",
    "    .drop(pl.col(\"Customer Class\"))\n",
    "    .drop(pl.selectors.matches(r\"(?i)count\"))\n",
    ")\n",
    "kli_arrearages = kli_arrearages.with_columns(\n",
    "    [pl.col(col).cast(pl.Float64, strict=False) for col in kli_arrearages.columns[1:]]\n",
    ")"
   ]
  },
  {
   "cell_type": "code",
   "execution_count": 10,
   "metadata": {},
   "outputs": [
    {
     "data": {
      "text/html": [
       "<div><style>\n",
       ".dataframe > thead > tr,\n",
       ".dataframe > tbody > tr {\n",
       "  text-align: right;\n",
       "  white-space: pre-wrap;\n",
       "}\n",
       "</style>\n",
       "<small>shape: (1, 13)</small><table border=\"1\" class=\"dataframe\"><thead><tr><th>April 2024 30 Days</th><th>April 2024 60 Days</th><th>April 2024 90 Days +</th><th>April 2024 Total Arrearages</th><th>May 2024 30 Days</th><th>May 2024 60 Days</th><th>May 2024 90 Days +</th><th>May 2024 Total Arrearages</th><th>June 2024 30 Days</th><th>June 2024 60 Days</th><th>June 2024 90 Days +</th><th>June 2024 Total Arrearages</th><th>Zip Code</th></tr><tr><td>str</td><td>f64</td><td>f64</td><td>f64</td><td>f64</td><td>f64</td><td>f64</td><td>f64</td><td>f64</td><td>f64</td><td>f64</td><td>f64</td><td>f64</td></tr></thead><tbody><tr><td>null</td><td>14732.93</td><td>21041.81</td><td>52507.26</td><td>5867.38</td><td>5554.94</td><td>10261.1</td><td>21683.42</td><td>2729.54</td><td>2837.67</td><td>5641.03</td><td>11208.24</td><td>4.234744e6</td></tr></tbody></table></div>"
      ],
      "text/plain": [
       "shape: (1, 13)\n",
       "┌───────────┬───────────┬───────────┬───────────┬───┬───────────┬───────────┬───────────┬──────────┐\n",
       "│ April     ┆ April     ┆ April     ┆ April     ┆ … ┆ June 2024 ┆ June 2024 ┆ June 2024 ┆ Zip Code │\n",
       "│ 2024 30   ┆ 2024 60   ┆ 2024 90   ┆ 2024      ┆   ┆ 60 Days   ┆ 90 Days + ┆ Total Arr ┆ ---      │\n",
       "│ Days      ┆ Days      ┆ Days +    ┆ Total Arr ┆   ┆ ---       ┆ ---       ┆ earages   ┆ f64      │\n",
       "│ ---       ┆ ---       ┆ ---       ┆ earages   ┆   ┆ f64       ┆ f64       ┆ ---       ┆          │\n",
       "│ str       ┆ f64       ┆ f64       ┆ ---       ┆   ┆           ┆           ┆ f64       ┆          │\n",
       "│           ┆           ┆           ┆ f64       ┆   ┆           ┆           ┆           ┆          │\n",
       "╞═══════════╪═══════════╪═══════════╪═══════════╪═══╪═══════════╪═══════════╪═══════════╪══════════╡\n",
       "│ null      ┆ 14732.93  ┆ 21041.81  ┆ 52507.26  ┆ … ┆ 2837.67   ┆ 5641.03   ┆ 11208.24  ┆ 4.234744 │\n",
       "│           ┆           ┆           ┆           ┆   ┆           ┆           ┆           ┆ e6       │\n",
       "└───────────┴───────────┴───────────┴───────────┴───┴───────────┴───────────┴───────────┴──────────┘"
      ]
     },
     "execution_count": 10,
     "metadata": {},
     "output_type": "execute_result"
    }
   ],
   "source": [
    "kli_arrearages.sum()"
   ]
  }
 ],
 "metadata": {
  "kernelspec": {
   "display_name": ".venv",
   "language": "python",
   "name": "python3"
  },
  "language_info": {
   "codemirror_mode": {
    "name": "ipython",
    "version": 3
   },
   "file_extension": ".py",
   "mimetype": "text/x-python",
   "name": "python",
   "nbconvert_exporter": "python",
   "pygments_lexer": "ipython3",
   "version": "3.12.6"
  }
 },
 "nbformat": 4,
 "nbformat_minor": 2
}
