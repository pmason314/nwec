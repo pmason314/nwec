{
 "cells": [
  {
   "cell_type": "code",
   "execution_count": 1,
   "metadata": {},
   "outputs": [],
   "source": [
    "import polars as pl\n",
    "\n",
    "import nwec.utility_reporting.arrearages\n",
    "import nwec.utils.excel\n",
    "from nwec.constants import DATA\n",
    "\n",
    "YEAR = 2024\n",
    "NUM_MONTHS = 3\n",
    "COLS_PER_MONTH = 8\n",
    "KLI_COLS_PER_MONTH = 4\n",
    "SHEET_SEARCH_STRING = \"Past Due Balances\"\n",
    "ARREARAGE_SEARCH_STRING = \"Past-due balances by customer class\"\n",
    "KLI_SEARCH_STRING = \"known low-income\"\n",
    "spreadsheet = DATA / f\"utility_reporting/nwng/nwng_{YEAR}.xlsx\""
   ]
  },
  {
   "cell_type": "code",
   "execution_count": 2,
   "metadata": {},
   "outputs": [],
   "source": [
    "sheet_index = nwec.utils.excel.get_sheet_index_from_name(spreadsheet, SHEET_SEARCH_STRING)\n",
    "df = pl.read_excel(spreadsheet, sheet_id=sheet_index, has_header=False)\n",
    "arrearages = nwec.utility_reporting.arrearages.get_arrearages_df(\n",
    "    df, NUM_MONTHS, COLS_PER_MONTH, ARREARAGE_SEARCH_STRING\n",
    ")\n",
    "kli_arrearages = nwec.utility_reporting.arrearages.get_arrearages_df(\n",
    "    df, NUM_MONTHS, KLI_COLS_PER_MONTH, KLI_SEARCH_STRING\n",
    ")"
   ]
  },
  {
   "cell_type": "markdown",
   "metadata": {},
   "source": [
    "# Arrearages"
   ]
  },
  {
   "cell_type": "code",
   "execution_count": 3,
   "metadata": {},
   "outputs": [],
   "source": [
    "date_to_zip_offset = 1\n",
    "source_date_format = \"%b %Y\"\n",
    "\n",
    "arrearages = nwec.utility_reporting.arrearages.rename_arrearage_columns(\n",
    "    arrearages, COLS_PER_MONTH, date_to_zip_offset, source_date_format\n",
    ")"
   ]
  },
  {
   "cell_type": "code",
   "execution_count": 4,
   "metadata": {},
   "outputs": [
    {
     "data": {
      "text/html": [
       "<div><style>\n",
       ".dataframe > thead > tr,\n",
       ".dataframe > tbody > tr {\n",
       "  text-align: right;\n",
       "  white-space: pre-wrap;\n",
       "}\n",
       "</style>\n",
       "<small>shape: (1, 25)</small><table border=\"1\" class=\"dataframe\"><thead><tr><th>Zip Code</th><th>April 2024 30 Days Amt</th><th>April 2024 30 Day Count</th><th>April 2024 60 Days Amt</th><th>April 2024 60 Days Count</th><th>April 2024 90 Days + Amt</th><th>April 2024 90 Days + Count</th><th>April 2024 Total Arrearages</th><th>April 2024 Total Count</th><th>May 2024 30 Days Amt</th><th>May 2024 30 Day Count</th><th>May 2024 60 Days Amt</th><th>May 2024 60 Days Count</th><th>May 2024 90 Days + Amt</th><th>May 2024 90 Days + Count</th><th>May 2024 Total Arrearages</th><th>May 2024 Total Count</th><th>June 2024 30 Days Amt</th><th>June 2024 30 Day Count</th><th>June 2024 60 Days Amt</th><th>June 2024 60 Days Count</th><th>June 2024 90 Days + Amt</th><th>June 2024 90 Days + Count</th><th>June 2024 Total Arrearages</th><th>June 2024 Total Count</th></tr><tr><td>str</td><td>f64</td><td>f64</td><td>f64</td><td>f64</td><td>f64</td><td>f64</td><td>f64</td><td>f64</td><td>f64</td><td>f64</td><td>f64</td><td>f64</td><td>f64</td><td>f64</td><td>f64</td><td>f64</td><td>f64</td><td>f64</td><td>f64</td><td>f64</td><td>f64</td><td>f64</td><td>f64</td><td>f64</td></tr></thead><tbody><tr><td>null</td><td>1.3008e6</td><td>7338.0</td><td>530589.64</td><td>4427.0</td><td>262109.24</td><td>2390.0</td><td>2.0935e6</td><td>14155.0</td><td>958601.13</td><td>6157.0</td><td>538972.22</td><td>4543.0</td><td>315149.72</td><td>2963.0</td><td>1.8127e6</td><td>13663.0</td><td>755043.46</td><td>5485.0</td><td>469782.58</td><td>3917.0</td><td>390257.18</td><td>3976.0</td><td>1.6151e6</td><td>13378.0</td></tr></tbody></table></div>"
      ],
      "text/plain": [
       "shape: (1, 25)\n",
       "┌──────────┬───────────┬───────────┬───────────┬───┬───────────┬───────────┬───────────┬───────────┐\n",
       "│ Zip Code ┆ April     ┆ April     ┆ April     ┆ … ┆ June 2024 ┆ June 2024 ┆ June 2024 ┆ June 2024 │\n",
       "│ ---      ┆ 2024 30   ┆ 2024 30   ┆ 2024 60   ┆   ┆ 90 Days + ┆ 90 Days + ┆ Total Arr ┆ Total     │\n",
       "│ str      ┆ Days Amt  ┆ Day Count ┆ Days Amt  ┆   ┆ Amt       ┆ Count     ┆ earages   ┆ Count     │\n",
       "│          ┆ ---       ┆ ---       ┆ ---       ┆   ┆ ---       ┆ ---       ┆ ---       ┆ ---       │\n",
       "│          ┆ f64       ┆ f64       ┆ f64       ┆   ┆ f64       ┆ f64       ┆ f64       ┆ f64       │\n",
       "╞══════════╪═══════════╪═══════════╪═══════════╪═══╪═══════════╪═══════════╪═══════════╪═══════════╡\n",
       "│ null     ┆ 1.3008e6  ┆ 7338.0    ┆ 530589.64 ┆ … ┆ 390257.18 ┆ 3976.0    ┆ 1.6151e6  ┆ 13378.0   │\n",
       "└──────────┴───────────┴───────────┴───────────┴───┴───────────┴───────────┴───────────┴───────────┘"
      ]
     },
     "execution_count": 4,
     "metadata": {},
     "output_type": "execute_result"
    }
   ],
   "source": [
    "arrearages.sum()"
   ]
  },
  {
   "cell_type": "markdown",
   "metadata": {},
   "source": [
    "# KLI Arrearages"
   ]
  },
  {
   "cell_type": "code",
   "execution_count": 5,
   "metadata": {},
   "outputs": [],
   "source": [
    "date_to_zip_offset = 1\n",
    "source_date_format = \"%b %Y\"\n",
    "\n",
    "kli_arrearages = nwec.utility_reporting.arrearages.rename_arrearage_columns(\n",
    "    kli_arrearages, KLI_COLS_PER_MONTH, date_to_zip_offset, source_date_format\n",
    ")"
   ]
  },
  {
   "cell_type": "code",
   "execution_count": 6,
   "metadata": {},
   "outputs": [
    {
     "data": {
      "text/html": [
       "<div><style>\n",
       ".dataframe > thead > tr,\n",
       ".dataframe > tbody > tr {\n",
       "  text-align: right;\n",
       "  white-space: pre-wrap;\n",
       "}\n",
       "</style>\n",
       "<small>shape: (1, 13)</small><table border=\"1\" class=\"dataframe\"><thead><tr><th>Zip Code</th><th>April 2024 30 Days</th><th>April 2024 60 Days</th><th>April 2024 90 Days +</th><th>April 2024 Total Arrearages</th><th>May 2024 30 Days</th><th>May 2024 60 Days</th><th>May 2024 90 Days +</th><th>May 2024 Total Arrearages</th><th>June 2024 30 Days</th><th>June 2024 60 Days</th><th>June 2024 90 Days +</th><th>June 2024 Total Arrearages</th></tr><tr><td>str</td><td>f64</td><td>f64</td><td>f64</td><td>f64</td><td>f64</td><td>f64</td><td>f64</td><td>f64</td><td>f64</td><td>f64</td><td>f64</td><td>f64</td></tr></thead><tbody><tr><td>null</td><td>16732.52</td><td>14732.93</td><td>21041.81</td><td>52507.26</td><td>5867.38</td><td>5554.94</td><td>10261.1</td><td>21683.42</td><td>2729.54</td><td>2837.67</td><td>5641.03</td><td>11208.24</td></tr></tbody></table></div>"
      ],
      "text/plain": [
       "shape: (1, 13)\n",
       "┌──────────┬───────────┬───────────┬───────────┬───┬───────────┬───────────┬───────────┬───────────┐\n",
       "│ Zip Code ┆ April     ┆ April     ┆ April     ┆ … ┆ June 2024 ┆ June 2024 ┆ June 2024 ┆ June 2024 │\n",
       "│ ---      ┆ 2024 30   ┆ 2024 60   ┆ 2024 90   ┆   ┆ 30 Days   ┆ 60 Days   ┆ 90 Days + ┆ Total Arr │\n",
       "│ str      ┆ Days      ┆ Days      ┆ Days +    ┆   ┆ ---       ┆ ---       ┆ ---       ┆ earages   │\n",
       "│          ┆ ---       ┆ ---       ┆ ---       ┆   ┆ f64       ┆ f64       ┆ f64       ┆ ---       │\n",
       "│          ┆ f64       ┆ f64       ┆ f64       ┆   ┆           ┆           ┆           ┆ f64       │\n",
       "╞══════════╪═══════════╪═══════════╪═══════════╪═══╪═══════════╪═══════════╪═══════════╪═══════════╡\n",
       "│ null     ┆ 16732.52  ┆ 14732.93  ┆ 21041.81  ┆ … ┆ 2729.54   ┆ 2837.67   ┆ 5641.03   ┆ 11208.24  │\n",
       "└──────────┴───────────┴───────────┴───────────┴───┴───────────┴───────────┴───────────┴───────────┘"
      ]
     },
     "execution_count": 6,
     "metadata": {},
     "output_type": "execute_result"
    }
   ],
   "source": [
    "kli_arrearages.sum()"
   ]
  }
 ],
 "metadata": {
  "kernelspec": {
   "display_name": ".venv",
   "language": "python",
   "name": "python3"
  },
  "language_info": {
   "codemirror_mode": {
    "name": "ipython",
    "version": 3
   },
   "file_extension": ".py",
   "mimetype": "text/x-python",
   "name": "python",
   "nbconvert_exporter": "python",
   "pygments_lexer": "ipython3",
   "version": "3.12.6"
  }
 },
 "nbformat": 4,
 "nbformat_minor": 2
}
