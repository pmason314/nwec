{
 "cells": [
  {
   "cell_type": "code",
   "execution_count": 1,
   "metadata": {},
   "outputs": [],
   "source": [
    "import datetime\n",
    "\n",
    "import polars as pl\n",
    "\n",
    "import nwec.utility_reporting.arrearages\n",
    "import nwec.utils.excel\n",
    "from nwec.constants import DATA\n",
    "\n",
    "YEAR = 2024\n",
    "NUM_MONTHS = 12\n",
    "COLS_PER_MONTH = 4\n",
    "spreadsheet = DATA / f\"utility_reporting/avista/avista_{YEAR}.xlsx\""
   ]
  },
  {
   "cell_type": "markdown",
   "metadata": {},
   "source": [
    "# Arrearages"
   ]
  },
  {
   "cell_type": "code",
   "execution_count": 2,
   "metadata": {},
   "outputs": [],
   "source": [
    "arrearages_index = nwec.utils.excel.get_sheet_index_from_name(spreadsheet, \"past due balances\")\n",
    "df = pl.read_excel(spreadsheet, sheet_id=arrearages_index, has_header=False)"
   ]
  },
  {
   "cell_type": "code",
   "execution_count": 3,
   "metadata": {},
   "outputs": [],
   "source": [
    "_, arrearage_start_index = nwec.utils.excel.find_unpromoted_header(df, \"past-due balances by customer class\")\n",
    "\n",
    "# Set up arrearages-specific DF with built-in space for the zip code and customer class columns\n",
    "arrearages = df.select(df.columns[arrearage_start_index : arrearage_start_index + NUM_MONTHS * COLS_PER_MONTH + 2])\n",
    "arrearages = nwec.utility_reporting.arrearages.normalize_zip_class_cols(df, arrearages)"
   ]
  },
  {
   "cell_type": "code",
   "execution_count": 4,
   "metadata": {},
   "outputs": [],
   "source": [
    "zip_index = nwec.utils.excel.find_unpromoted_header(arrearages, \"Zip Code\")\n",
    "new_columns = arrearages.select(arrearages.columns[2:][:-2]).slice(zip_index[0] - 1, 1).to_dicts()[0]\n",
    "vintage_cols = arrearages.select(arrearages.columns[2:][:-2]).slice(zip_index[0], 1).to_dicts()[0]\n",
    "months = list({k: v for k, v in new_columns.items() if v is not None}.values())\n",
    "\n",
    "for counter, col in enumerate(vintage_cols):\n",
    "    current_month = months[counter // COLS_PER_MONTH]\n",
    "    date = datetime.datetime.strptime(current_month, \"%Y-%m-%d %H:%M:%S\").astimezone(datetime.UTC)\n",
    "    new_columns[col] = date.strftime(\"%B %Y\")\n",
    "    new_columns[col] = new_columns[col] + \" \" + vintage_cols[col]\n",
    "new_columns = new_columns | {\"Zip Code\": \"Zip Code\", \"Customer Class\": \"Customer Class\"}"
   ]
  },
  {
   "cell_type": "code",
   "execution_count": 5,
   "metadata": {},
   "outputs": [],
   "source": [
    "arrearages = arrearages.rename(new_columns).select(list(new_columns.values()))\n",
    "arrearages = arrearages.filter(~pl.all_horizontal(pl.all().is_null()))\n",
    "arrearages = arrearages.filter(pl.col(\"Customer Class\").str.contains(r\"(?i)resident\")).drop(pl.col(\"Customer Class\"))\n",
    "arrearages = pl.concat(\n",
    "    [arrearages.select(\"Zip Code\"), arrearages.drop(pl.selectors.matches(r\"(?i)zip|customer class\"))], how=\"horizontal\"\n",
    ")\n",
    "arrearages = arrearages.with_columns([pl.col(col).cast(pl.Float64, strict=False) for col in arrearages.columns[1:]])"
   ]
  },
  {
   "cell_type": "code",
   "execution_count": 6,
   "metadata": {},
   "outputs": [
    {
     "data": {
      "text/html": [
       "<div><style>\n",
       ".dataframe > thead > tr,\n",
       ".dataframe > tbody > tr {\n",
       "  text-align: right;\n",
       "  white-space: pre-wrap;\n",
       "}\n",
       "</style>\n",
       "<small>shape: (1, 49)</small><table border=\"1\" class=\"dataframe\"><thead><tr><th>Zip Code</th><th>January 2024 30 Days</th><th>January 2024 60 Days</th><th>January 2024 90 Days +</th><th>January 2024 Total Arrearages</th><th>February 2024 30 Days</th><th>February 2024 60 Days</th><th>February 2024 90 Days +</th><th>February 2024 Total Arrearages</th><th>March 2024 30 Days</th><th>March 2024 60 Days</th><th>March 2024 90 Days +</th><th>March 2024 Total Arrearages</th><th>April 2024 30 Days</th><th>April 2024 60 Days</th><th>April 2024 90 Days +</th><th>April 2024 Total Arrearages</th><th>May 2024 30 Days</th><th>May 2024 60 Days</th><th>May 2024 90 Days +</th><th>May 2024 Total Arrearages</th><th>June 2024 30 Days</th><th>June 2024 60 Days</th><th>June 2024 90 Days +</th><th>June 2024 Total Arrearages</th><th>July 2024 30 Days</th><th>July 2024 60 Days</th><th>July 2024 90 Days +</th><th>July 2024 Total Arrearages</th><th>August 2024 30 Days</th><th>August 2024 60 Days</th><th>August 2024 90 Days +</th><th>August 2024 Total Arrearages</th><th>September 2024 30 Days</th><th>September 2024 60 Days</th><th>September 2024 90 Days +</th><th>September 2024 Total Arrearages</th><th>October 2024 30 Days</th><th>October 2024 60 Days</th><th>October 2024 90 Days +</th><th>October 2024 Total Arrearages</th><th>November 2024 30 Days</th><th>November 2024 60 Days</th><th>November 2024 90 Days +</th><th>November 2024 Total Arrearages</th><th>December 2024 30 Days</th><th>December 2024 60 Days</th><th>December 2024 90 Days +</th><th>December 2024 Total Arrearages</th></tr><tr><td>str</td><td>f64</td><td>f64</td><td>f64</td><td>f64</td><td>f64</td><td>f64</td><td>f64</td><td>f64</td><td>f64</td><td>f64</td><td>f64</td><td>f64</td><td>f64</td><td>f64</td><td>f64</td><td>f64</td><td>f64</td><td>f64</td><td>f64</td><td>f64</td><td>f64</td><td>f64</td><td>f64</td><td>f64</td><td>f64</td><td>f64</td><td>f64</td><td>f64</td><td>f64</td><td>f64</td><td>f64</td><td>f64</td><td>f64</td><td>f64</td><td>f64</td><td>f64</td><td>f64</td><td>f64</td><td>f64</td><td>f64</td><td>f64</td><td>f64</td><td>f64</td><td>f64</td><td>f64</td><td>f64</td><td>f64</td><td>f64</td></tr></thead><tbody><tr><td>null</td><td>1.9802e6</td><td>1.2420e6</td><td>2.8916e6</td><td>6.1138e6</td><td>2.5340e6</td><td>1.6214e6</td><td>2.9906e6</td><td>7.1460e6</td><td>3.3460e6</td><td>2.3195e6</td><td>3.3744e6</td><td>9.0400e6</td><td>2.4698e6</td><td>2046855.3</td><td>3.0270e6</td><td>7.5437e6</td><td>2.2034e6</td><td>1.5750e6</td><td>2.7109e6</td><td>6.4892e6</td><td>1.8379e6</td><td>1.6149e6</td><td>2.5123e6</td><td>5.9651e6</td><td>0.0</td><td>0.0</td><td>0.0</td><td>0.0</td><td>0.0</td><td>0.0</td><td>0.0</td><td>0.0</td><td>0.0</td><td>0.0</td><td>0.0</td><td>0.0</td><td>0.0</td><td>0.0</td><td>0.0</td><td>0.0</td><td>0.0</td><td>0.0</td><td>0.0</td><td>0.0</td><td>0.0</td><td>0.0</td><td>0.0</td><td>0.0</td></tr></tbody></table></div>"
      ],
      "text/plain": [
       "shape: (1, 49)\n",
       "┌──────────┬───────────┬───────────┬───────────┬───┬───────────┬───────────┬───────────┬───────────┐\n",
       "│ Zip Code ┆ January   ┆ January   ┆ January   ┆ … ┆ December  ┆ December  ┆ December  ┆ December  │\n",
       "│ ---      ┆ 2024 30   ┆ 2024 60   ┆ 2024 90   ┆   ┆ 2024 30   ┆ 2024 60   ┆ 2024 90   ┆ 2024      │\n",
       "│ str      ┆ Days      ┆ Days      ┆ Days +    ┆   ┆ Days      ┆ Days      ┆ Days +    ┆ Total Arr │\n",
       "│          ┆ ---       ┆ ---       ┆ ---       ┆   ┆ ---       ┆ ---       ┆ ---       ┆ earages   │\n",
       "│          ┆ f64       ┆ f64       ┆ f64       ┆   ┆ f64       ┆ f64       ┆ f64       ┆ ---       │\n",
       "│          ┆           ┆           ┆           ┆   ┆           ┆           ┆           ┆ f64       │\n",
       "╞══════════╪═══════════╪═══════════╪═══════════╪═══╪═══════════╪═══════════╪═══════════╪═══════════╡\n",
       "│ null     ┆ 1.9802e6  ┆ 1.2420e6  ┆ 2.8916e6  ┆ … ┆ 0.0       ┆ 0.0       ┆ 0.0       ┆ 0.0       │\n",
       "└──────────┴───────────┴───────────┴───────────┴───┴───────────┴───────────┴───────────┴───────────┘"
      ]
     },
     "execution_count": 6,
     "metadata": {},
     "output_type": "execute_result"
    }
   ],
   "source": [
    "arrearages.sum()"
   ]
  },
  {
   "cell_type": "markdown",
   "metadata": {},
   "source": [
    "# KLI Arrearages\n",
    "Same code as arrearages, just with a different search string"
   ]
  },
  {
   "cell_type": "code",
   "execution_count": 7,
   "metadata": {},
   "outputs": [],
   "source": [
    "kli_arrearages_index = nwec.utils.excel.get_sheet_index_from_name(spreadsheet, \"past due balances\")\n",
    "df = pl.read_excel(spreadsheet, sheet_id=kli_arrearages_index, has_header=False)"
   ]
  },
  {
   "cell_type": "code",
   "execution_count": 8,
   "metadata": {},
   "outputs": [],
   "source": [
    "_, kli_arrearage_start_index = nwec.utils.excel.find_unpromoted_header(\n",
    "    df, \"past-due balances for known low-income household\"\n",
    ")\n",
    "\n",
    "# Set up arrearages-specific DF with built-in space for the zip code and customer class columns\n",
    "kli_arrearages = df.select(\n",
    "    df.columns[kli_arrearage_start_index : kli_arrearage_start_index + NUM_MONTHS * COLS_PER_MONTH + 2]\n",
    ")\n",
    "kli_arrearages = nwec.utility_reporting.arrearages.normalize_zip_class_cols(df, kli_arrearages)"
   ]
  },
  {
   "cell_type": "code",
   "execution_count": 9,
   "metadata": {},
   "outputs": [],
   "source": [
    "zip_index = nwec.utils.excel.find_unpromoted_header(kli_arrearages, \"Zip Code\")\n",
    "new_columns = kli_arrearages.select(kli_arrearages.columns[2:][:-2]).slice(zip_index[0] - 1, 1).to_dicts()[0]\n",
    "vintage_cols = kli_arrearages.select(kli_arrearages.columns[2:][:-2]).slice(zip_index[0], 1).to_dicts()[0]\n",
    "months = list({k: v for k, v in new_columns.items() if v is not None}.values())\n",
    "\n",
    "for counter, col in enumerate(vintage_cols):\n",
    "    current_month = months[counter // COLS_PER_MONTH]\n",
    "    date = datetime.datetime.strptime(current_month, \"%Y-%m-%d %H:%M:%S\").astimezone(datetime.UTC)\n",
    "    new_columns[col] = date.strftime(\"%B %Y\")\n",
    "    new_columns[col] = new_columns[col] + \" \" + vintage_cols[col]\n",
    "new_columns = new_columns | {\"Zip Code\": \"Zip Code\", \"Customer Class\": \"Customer Class\"}"
   ]
  },
  {
   "cell_type": "code",
   "execution_count": 10,
   "metadata": {},
   "outputs": [],
   "source": [
    "kli_arrearages = kli_arrearages.rename(new_columns).select(list(new_columns.values()))\n",
    "kli_arrearages = kli_arrearages.filter(~pl.all_horizontal(pl.all().is_null()))\n",
    "kli_arrearages = kli_arrearages.filter(pl.col(\"Customer Class\").str.contains(r\"(?i)resident\")).drop(\n",
    "    pl.col(\"Customer Class\")\n",
    ")\n",
    "kli_arrearages = pl.concat(\n",
    "    [kli_arrearages.select(\"Zip Code\"), kli_arrearages.drop(pl.selectors.matches(r\"(?i)zip|customer class\"))],\n",
    "    how=\"horizontal\",\n",
    ")\n",
    "kli_arrearages = kli_arrearages.with_columns(\n",
    "    [pl.col(col).cast(pl.Float64, strict=False) for col in kli_arrearages.columns[1:]]\n",
    ")"
   ]
  },
  {
   "cell_type": "code",
   "execution_count": 11,
   "metadata": {},
   "outputs": [
    {
     "data": {
      "text/html": [
       "<div><style>\n",
       ".dataframe > thead > tr,\n",
       ".dataframe > tbody > tr {\n",
       "  text-align: right;\n",
       "  white-space: pre-wrap;\n",
       "}\n",
       "</style>\n",
       "<small>shape: (1, 49)</small><table border=\"1\" class=\"dataframe\"><thead><tr><th>Zip Code</th><th>January 2024 30 Days</th><th>January 2024 60 Days</th><th>January 2024 90 Days +</th><th>January 2024 Total Arrearages</th><th>February 2024 30 Days</th><th>February 2024 60 Days</th><th>February 2024 90 Days +</th><th>February 2024 Total Arrearages</th><th>March 2024 30 Days</th><th>March 2024 60 Days</th><th>March 2024 90 Days +</th><th>March 2024 Total Arrearages</th><th>April 2024 30 Days</th><th>April 2024 60 Days</th><th>April 2024 90 Days +</th><th>April 2024 Total Arrearages</th><th>May 2024 30 Days</th><th>May 2024 60 Days</th><th>May 2024 90 Days +</th><th>May 2024 Total Arrearages</th><th>June 2024 30 Days</th><th>June 2024 60 Days</th><th>June 2024 90 Days +</th><th>June 2024 Total Arrearages</th><th>July 2024 30 Days</th><th>July 2024 60 Days</th><th>July 2024 90 Days +</th><th>July 2024 Total Arrearages</th><th>August 2024 30 Days</th><th>August 2024 60 Days</th><th>August 2024 90 Days +</th><th>August 2024 Total Arrearages</th><th>September 2024 30 Days</th><th>September 2024 60 Days</th><th>September 2024 90 Days +</th><th>September 2024 Total Arrearages</th><th>October 2024 30 Days</th><th>October 2024 60 Days</th><th>October 2024 90 Days +</th><th>October 2024 Total Arrearages</th><th>November 2024 30 Days</th><th>November 2024 60 Days</th><th>November 2024 90 Days +</th><th>November 2024 Total Arrearages</th><th>December 2024 30 Days</th><th>December 2024 60 Days</th><th>December 2024 90 Days +</th><th>December 2024 Total Arrearages</th></tr><tr><td>str</td><td>f64</td><td>f64</td><td>f64</td><td>f64</td><td>f64</td><td>f64</td><td>f64</td><td>f64</td><td>f64</td><td>f64</td><td>f64</td><td>f64</td><td>f64</td><td>f64</td><td>f64</td><td>f64</td><td>f64</td><td>f64</td><td>f64</td><td>f64</td><td>f64</td><td>f64</td><td>f64</td><td>f64</td><td>f64</td><td>f64</td><td>f64</td><td>f64</td><td>f64</td><td>f64</td><td>f64</td><td>f64</td><td>f64</td><td>f64</td><td>f64</td><td>f64</td><td>f64</td><td>f64</td><td>f64</td><td>f64</td><td>f64</td><td>f64</td><td>f64</td><td>f64</td><td>f64</td><td>f64</td><td>f64</td><td>f64</td></tr></thead><tbody><tr><td>null</td><td>359026.37</td><td>385153.04</td><td>1.4268e6</td><td>2.1710e6</td><td>418069.06</td><td>500612.85</td><td>1.4692e6</td><td>2.3878e6</td><td>423795.41</td><td>480086.37</td><td>1.6715e6</td><td>2.5754e6</td><td>294259.5</td><td>428951.27</td><td>1.3864e6</td><td>2.1096e6</td><td>247913.34</td><td>269823.11</td><td>1.2266e6</td><td>1.7443e6</td><td>181198.94</td><td>252652.83</td><td>1.0977e6</td><td>1.5316e6</td><td>0.0</td><td>0.0</td><td>0.0</td><td>0.0</td><td>0.0</td><td>0.0</td><td>0.0</td><td>0.0</td><td>0.0</td><td>0.0</td><td>0.0</td><td>0.0</td><td>0.0</td><td>0.0</td><td>0.0</td><td>0.0</td><td>0.0</td><td>0.0</td><td>0.0</td><td>0.0</td><td>0.0</td><td>0.0</td><td>0.0</td><td>0.0</td></tr></tbody></table></div>"
      ],
      "text/plain": [
       "shape: (1, 49)\n",
       "┌──────────┬───────────┬───────────┬───────────┬───┬───────────┬───────────┬───────────┬───────────┐\n",
       "│ Zip Code ┆ January   ┆ January   ┆ January   ┆ … ┆ December  ┆ December  ┆ December  ┆ December  │\n",
       "│ ---      ┆ 2024 30   ┆ 2024 60   ┆ 2024 90   ┆   ┆ 2024 30   ┆ 2024 60   ┆ 2024 90   ┆ 2024      │\n",
       "│ str      ┆ Days      ┆ Days      ┆ Days +    ┆   ┆ Days      ┆ Days      ┆ Days +    ┆ Total Arr │\n",
       "│          ┆ ---       ┆ ---       ┆ ---       ┆   ┆ ---       ┆ ---       ┆ ---       ┆ earages   │\n",
       "│          ┆ f64       ┆ f64       ┆ f64       ┆   ┆ f64       ┆ f64       ┆ f64       ┆ ---       │\n",
       "│          ┆           ┆           ┆           ┆   ┆           ┆           ┆           ┆ f64       │\n",
       "╞══════════╪═══════════╪═══════════╪═══════════╪═══╪═══════════╪═══════════╪═══════════╪═══════════╡\n",
       "│ null     ┆ 359026.37 ┆ 385153.04 ┆ 1.4268e6  ┆ … ┆ 0.0       ┆ 0.0       ┆ 0.0       ┆ 0.0       │\n",
       "└──────────┴───────────┴───────────┴───────────┴───┴───────────┴───────────┴───────────┴───────────┘"
      ]
     },
     "execution_count": 11,
     "metadata": {},
     "output_type": "execute_result"
    }
   ],
   "source": [
    "kli_arrearages.sum()"
   ]
  }
 ],
 "metadata": {
  "kernelspec": {
   "display_name": ".venv",
   "language": "python",
   "name": "python3"
  },
  "language_info": {
   "codemirror_mode": {
    "name": "ipython",
    "version": 3
   },
   "file_extension": ".py",
   "mimetype": "text/x-python",
   "name": "python",
   "nbconvert_exporter": "python",
   "pygments_lexer": "ipython3",
   "version": "3.12.6"
  }
 },
 "nbformat": 4,
 "nbformat_minor": 2
}
