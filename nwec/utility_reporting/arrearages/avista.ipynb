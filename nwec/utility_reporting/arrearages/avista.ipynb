{
 "cells": [
  {
   "cell_type": "code",
   "execution_count": 1,
   "metadata": {},
   "outputs": [],
   "source": [
    "import polars as pl\n",
    "\n",
    "import nwec.utility_reporting.arrearages\n",
    "import nwec.utils.excel\n",
    "from nwec.constants import CLEAN_UTILITY_DATA, RAW_UTILITY_DATA\n",
    "\n",
    "YEAR = 2024\n",
    "NUM_MONTHS = 12\n",
    "COLS_PER_MONTH = 4\n",
    "SHEET_SEARCH_STRING = \"past due balances\"\n",
    "ARREARAGE_SEARCH_STRING = \"past-due balances by customer class\"\n",
    "KLI_SEARCH_STRING = \"past-due balances for known low-income household\"\n",
    "spreadsheet = RAW_UTILITY_DATA / f\"avista/avista_{YEAR}.xlsx\""
   ]
  },
  {
   "cell_type": "code",
   "execution_count": 2,
   "metadata": {},
   "outputs": [],
   "source": [
    "sheet_index = nwec.utils.excel.get_sheet_index_from_name(spreadsheet, SHEET_SEARCH_STRING)\n",
    "df = pl.read_excel(spreadsheet, sheet_id=sheet_index, has_header=False)\n",
    "arrearages = nwec.utility_reporting.arrearages.get_arrearages_df(\n",
    "    df, NUM_MONTHS, COLS_PER_MONTH, ARREARAGE_SEARCH_STRING\n",
    ")\n",
    "kli_arrearages = nwec.utility_reporting.arrearages.get_arrearages_df(df, NUM_MONTHS, COLS_PER_MONTH, KLI_SEARCH_STRING)"
   ]
  },
  {
   "cell_type": "markdown",
   "metadata": {},
   "source": [
    "# Arrearages"
   ]
  },
  {
   "cell_type": "code",
   "execution_count": 3,
   "metadata": {},
   "outputs": [],
   "source": [
    "date_to_zip_offset = 1\n",
    "source_date_format = \"%Y-%m-%d %H:%M:%S\"\n",
    "\n",
    "arrearages = nwec.utility_reporting.arrearages.combine_arrearage_year_vintage_cols(\n",
    "    arrearages, NUM_MONTHS, COLS_PER_MONTH, date_to_zip_offset, source_date_format\n",
    ")"
   ]
  },
  {
   "cell_type": "code",
   "execution_count": 4,
   "metadata": {},
   "outputs": [
    {
     "data": {
      "text/html": [
       "<div><style>\n",
       ".dataframe > thead > tr,\n",
       ".dataframe > tbody > tr {\n",
       "  text-align: right;\n",
       "  white-space: pre-wrap;\n",
       "}\n",
       "</style>\n",
       "<small>shape: (1, 49)</small><table border=\"1\" class=\"dataframe\"><thead><tr><th>Zip Code</th><th>01 2024 30 Days</th><th>01 2024 60 Days</th><th>01 2024 90 Days +</th><th>01 2024 Total Arrearages</th><th>02 2024 30 Days</th><th>02 2024 60 Days</th><th>02 2024 90 Days +</th><th>02 2024 Total Arrearages</th><th>03 2024 30 Days</th><th>03 2024 60 Days</th><th>03 2024 90 Days +</th><th>03 2024 Total Arrearages</th><th>04 2024 30 Days</th><th>04 2024 60 Days</th><th>04 2024 90 Days +</th><th>04 2024 Total Arrearages</th><th>05 2024 30 Days</th><th>05 2024 60 Days</th><th>05 2024 90 Days +</th><th>05 2024 Total Arrearages</th><th>06 2024 30 Days</th><th>06 2024 60 Days</th><th>06 2024 90 Days +</th><th>06 2024 Total Arrearages</th><th>07 2024 30 Days</th><th>07 2024 60 Days</th><th>07 2024 90 Days +</th><th>07 2024 Total Arrearages</th><th>08 2024 30 Days</th><th>08 2024 60 Days</th><th>08 2024 90 Days +</th><th>08 2024 Total Arrearages</th><th>09 2024 30 Days</th><th>09 2024 60 Days</th><th>09 2024 90 Days +</th><th>09 2024 Total Arrearages</th><th>10 2024 30 Days</th><th>10 2024 60 Days</th><th>10 2024 90 Days +</th><th>10 2024 Total Arrearages</th><th>11 2024 30 Days</th><th>11 2024 60 Days</th><th>11 2024 90 Days +</th><th>11 2024 Total Arrearages</th><th>12 2024 30 Days</th><th>12 2024 60 Days</th><th>12 2024 90 Days +</th><th>12 2024 Total Arrearages</th></tr><tr><td>i32</td><td>f64</td><td>f64</td><td>f64</td><td>f64</td><td>f64</td><td>f64</td><td>f64</td><td>f64</td><td>f64</td><td>f64</td><td>f64</td><td>f64</td><td>f64</td><td>f64</td><td>f64</td><td>f64</td><td>f64</td><td>f64</td><td>f64</td><td>f64</td><td>f64</td><td>f64</td><td>f64</td><td>f64</td><td>f64</td><td>f64</td><td>f64</td><td>f64</td><td>f64</td><td>f64</td><td>f64</td><td>f64</td><td>f64</td><td>f64</td><td>f64</td><td>f64</td><td>f64</td><td>f64</td><td>f64</td><td>f64</td><td>f64</td><td>f64</td><td>f64</td><td>f64</td><td>f64</td><td>f64</td><td>f64</td><td>f64</td></tr></thead><tbody><tr><td>10407700</td><td>1.9802e6</td><td>1.2420e6</td><td>2.8916e6</td><td>6.1138e6</td><td>2.5340e6</td><td>1.6214e6</td><td>2.9906e6</td><td>7.1460e6</td><td>3.3460e6</td><td>2.3195e6</td><td>3.3744e6</td><td>9.0400e6</td><td>2.4698e6</td><td>2046855.3</td><td>3.0270e6</td><td>7.5437e6</td><td>2.2034e6</td><td>1.5750e6</td><td>2.7109e6</td><td>6.4892e6</td><td>1.8379e6</td><td>1.6149e6</td><td>2.5123e6</td><td>5.9651e6</td><td>0.0</td><td>0.0</td><td>0.0</td><td>0.0</td><td>0.0</td><td>0.0</td><td>0.0</td><td>0.0</td><td>0.0</td><td>0.0</td><td>0.0</td><td>0.0</td><td>0.0</td><td>0.0</td><td>0.0</td><td>0.0</td><td>0.0</td><td>0.0</td><td>0.0</td><td>0.0</td><td>0.0</td><td>0.0</td><td>0.0</td><td>0.0</td></tr></tbody></table></div>"
      ],
      "text/plain": [
       "shape: (1, 49)\n",
       "┌──────────┬───────────┬───────────┬───────────┬───┬───────────┬───────────┬───────────┬───────────┐\n",
       "│ Zip Code ┆ 01 2024   ┆ 01 2024   ┆ 01 2024   ┆ … ┆ 12 2024   ┆ 12 2024   ┆ 12 2024   ┆ 12 2024   │\n",
       "│ ---      ┆ 30 Days   ┆ 60 Days   ┆ 90 Days + ┆   ┆ 30 Days   ┆ 60 Days   ┆ 90 Days + ┆ Total Arr │\n",
       "│ i32      ┆ ---       ┆ ---       ┆ ---       ┆   ┆ ---       ┆ ---       ┆ ---       ┆ earages   │\n",
       "│          ┆ f64       ┆ f64       ┆ f64       ┆   ┆ f64       ┆ f64       ┆ f64       ┆ ---       │\n",
       "│          ┆           ┆           ┆           ┆   ┆           ┆           ┆           ┆ f64       │\n",
       "╞══════════╪═══════════╪═══════════╪═══════════╪═══╪═══════════╪═══════════╪═══════════╪═══════════╡\n",
       "│ 10407700 ┆ 1.9802e6  ┆ 1.2420e6  ┆ 2.8916e6  ┆ … ┆ 0.0       ┆ 0.0       ┆ 0.0       ┆ 0.0       │\n",
       "└──────────┴───────────┴───────────┴───────────┴───┴───────────┴───────────┴───────────┴───────────┘"
      ]
     },
     "execution_count": 4,
     "metadata": {},
     "output_type": "execute_result"
    }
   ],
   "source": [
    "arrearages.sum()"
   ]
  },
  {
   "cell_type": "markdown",
   "metadata": {},
   "source": [
    "# KLI Arrearages"
   ]
  },
  {
   "cell_type": "code",
   "execution_count": 5,
   "metadata": {},
   "outputs": [],
   "source": [
    "date_to_zip_offset = 1\n",
    "source_date_format = \"%Y-%m-%d %H:%M:%S\"\n",
    "\n",
    "kli_arrearages = nwec.utility_reporting.arrearages.combine_arrearage_year_vintage_cols(\n",
    "    kli_arrearages, NUM_MONTHS, COLS_PER_MONTH, date_to_zip_offset, source_date_format\n",
    ")"
   ]
  },
  {
   "cell_type": "code",
   "execution_count": 6,
   "metadata": {},
   "outputs": [
    {
     "data": {
      "text/html": [
       "<div><style>\n",
       ".dataframe > thead > tr,\n",
       ".dataframe > tbody > tr {\n",
       "  text-align: right;\n",
       "  white-space: pre-wrap;\n",
       "}\n",
       "</style>\n",
       "<small>shape: (1, 49)</small><table border=\"1\" class=\"dataframe\"><thead><tr><th>Zip Code</th><th>01 2024 30 Days</th><th>01 2024 60 Days</th><th>01 2024 90 Days +</th><th>01 2024 Total Arrearages</th><th>02 2024 30 Days</th><th>02 2024 60 Days</th><th>02 2024 90 Days +</th><th>02 2024 Total Arrearages</th><th>03 2024 30 Days</th><th>03 2024 60 Days</th><th>03 2024 90 Days +</th><th>03 2024 Total Arrearages</th><th>04 2024 30 Days</th><th>04 2024 60 Days</th><th>04 2024 90 Days +</th><th>04 2024 Total Arrearages</th><th>05 2024 30 Days</th><th>05 2024 60 Days</th><th>05 2024 90 Days +</th><th>05 2024 Total Arrearages</th><th>06 2024 30 Days</th><th>06 2024 60 Days</th><th>06 2024 90 Days +</th><th>06 2024 Total Arrearages</th><th>07 2024 30 Days</th><th>07 2024 60 Days</th><th>07 2024 90 Days +</th><th>07 2024 Total Arrearages</th><th>08 2024 30 Days</th><th>08 2024 60 Days</th><th>08 2024 90 Days +</th><th>08 2024 Total Arrearages</th><th>09 2024 30 Days</th><th>09 2024 60 Days</th><th>09 2024 90 Days +</th><th>09 2024 Total Arrearages</th><th>10 2024 30 Days</th><th>10 2024 60 Days</th><th>10 2024 90 Days +</th><th>10 2024 Total Arrearages</th><th>11 2024 30 Days</th><th>11 2024 60 Days</th><th>11 2024 90 Days +</th><th>11 2024 Total Arrearages</th><th>12 2024 30 Days</th><th>12 2024 60 Days</th><th>12 2024 90 Days +</th><th>12 2024 Total Arrearages</th></tr><tr><td>i32</td><td>f64</td><td>f64</td><td>f64</td><td>f64</td><td>f64</td><td>f64</td><td>f64</td><td>f64</td><td>f64</td><td>f64</td><td>f64</td><td>f64</td><td>f64</td><td>f64</td><td>f64</td><td>f64</td><td>f64</td><td>f64</td><td>f64</td><td>f64</td><td>f64</td><td>f64</td><td>f64</td><td>f64</td><td>f64</td><td>f64</td><td>f64</td><td>f64</td><td>f64</td><td>f64</td><td>f64</td><td>f64</td><td>f64</td><td>f64</td><td>f64</td><td>f64</td><td>f64</td><td>f64</td><td>f64</td><td>f64</td><td>f64</td><td>f64</td><td>f64</td><td>f64</td><td>f64</td><td>f64</td><td>f64</td><td>f64</td></tr></thead><tbody><tr><td>10407700</td><td>359026.37</td><td>385153.04</td><td>1.4268e6</td><td>2.1710e6</td><td>418069.06</td><td>500612.85</td><td>1.4692e6</td><td>2.3878e6</td><td>423795.41</td><td>480086.37</td><td>1.6715e6</td><td>2.5754e6</td><td>294259.5</td><td>428951.27</td><td>1.3864e6</td><td>2.1096e6</td><td>247913.34</td><td>269823.11</td><td>1.2266e6</td><td>1.7443e6</td><td>181198.94</td><td>252652.83</td><td>1.0977e6</td><td>1.5316e6</td><td>0.0</td><td>0.0</td><td>0.0</td><td>0.0</td><td>0.0</td><td>0.0</td><td>0.0</td><td>0.0</td><td>0.0</td><td>0.0</td><td>0.0</td><td>0.0</td><td>0.0</td><td>0.0</td><td>0.0</td><td>0.0</td><td>0.0</td><td>0.0</td><td>0.0</td><td>0.0</td><td>0.0</td><td>0.0</td><td>0.0</td><td>0.0</td></tr></tbody></table></div>"
      ],
      "text/plain": [
       "shape: (1, 49)\n",
       "┌──────────┬───────────┬───────────┬───────────┬───┬───────────┬───────────┬───────────┬───────────┐\n",
       "│ Zip Code ┆ 01 2024   ┆ 01 2024   ┆ 01 2024   ┆ … ┆ 12 2024   ┆ 12 2024   ┆ 12 2024   ┆ 12 2024   │\n",
       "│ ---      ┆ 30 Days   ┆ 60 Days   ┆ 90 Days + ┆   ┆ 30 Days   ┆ 60 Days   ┆ 90 Days + ┆ Total Arr │\n",
       "│ i32      ┆ ---       ┆ ---       ┆ ---       ┆   ┆ ---       ┆ ---       ┆ ---       ┆ earages   │\n",
       "│          ┆ f64       ┆ f64       ┆ f64       ┆   ┆ f64       ┆ f64       ┆ f64       ┆ ---       │\n",
       "│          ┆           ┆           ┆           ┆   ┆           ┆           ┆           ┆ f64       │\n",
       "╞══════════╪═══════════╪═══════════╪═══════════╪═══╪═══════════╪═══════════╪═══════════╪═══════════╡\n",
       "│ 10407700 ┆ 359026.37 ┆ 385153.04 ┆ 1.4268e6  ┆ … ┆ 0.0       ┆ 0.0       ┆ 0.0       ┆ 0.0       │\n",
       "└──────────┴───────────┴───────────┴───────────┴───┴───────────┴───────────┴───────────┴───────────┘"
      ]
     },
     "execution_count": 6,
     "metadata": {},
     "output_type": "execute_result"
    }
   ],
   "source": [
    "kli_arrearages.sum()"
   ]
  },
  {
   "cell_type": "markdown",
   "metadata": {},
   "source": [
    "# Save Output"
   ]
  },
  {
   "cell_type": "code",
   "execution_count": 7,
   "metadata": {},
   "outputs": [],
   "source": [
    "arrearages = nwec.utility_reporting.arrearages.normalize_arrearage_cols(arrearages, NUM_MONTHS)\n",
    "arrearages = arrearages.with_columns(pl.lit(\"Avista\").alias(\"Utility\"))\n",
    "arrearages = arrearages.with_columns(pl.lit(\"Residential\").alias(\"Customer Class\"))\n",
    "\n",
    "kli_arrearages = nwec.utility_reporting.arrearages.normalize_arrearage_cols(kli_arrearages, NUM_MONTHS)\n",
    "kli_arrearages = kli_arrearages.with_columns(pl.lit(\"Avista\").alias(\"Utility\"))\n",
    "kli_arrearages = kli_arrearages.with_columns(pl.lit(\"KLI\").alias(\"Customer Class\"))\n",
    "\n",
    "pl.concat([arrearages, kli_arrearages]).write_ipc(CLEAN_UTILITY_DATA / \"avista.arrow\")"
   ]
  }
 ],
 "metadata": {
  "kernelspec": {
   "display_name": ".venv",
   "language": "python",
   "name": "python3"
  },
  "language_info": {
   "codemirror_mode": {
    "name": "ipython",
    "version": 3
   },
   "file_extension": ".py",
   "mimetype": "text/x-python",
   "name": "python",
   "nbconvert_exporter": "python",
   "pygments_lexer": "ipython3",
   "version": "3.12.6"
  }
 },
 "nbformat": 4,
 "nbformat_minor": 2
}
